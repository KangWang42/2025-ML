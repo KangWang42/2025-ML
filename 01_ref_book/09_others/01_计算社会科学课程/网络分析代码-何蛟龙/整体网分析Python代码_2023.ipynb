{
 "cells": [
  {
   "cell_type": "markdown",
   "id": "f0bfeae7",
   "metadata": {},
   "source": [
    "# 整体网分析Python 代码"
   ]
  },
  {
   "cell_type": "markdown",
   "id": "4f067728",
   "metadata": {},
   "source": [
    "## 导入包和修改路径"
   ]
  },
  {
   "cell_type": "code",
   "execution_count": null,
   "id": "26385353",
   "metadata": {},
   "outputs": [],
   "source": [
    "import os  ##跟工作路径相关的包\n",
    "import networkx as nx   ##python中network分析的基础包\n",
    "import matplotlib.pyplot as plt  ##画图的包\n",
    "import unicodecsv as csv  ##写入EXCEL文件的包\n",
    "import numpy as np  ##数据处理包\n",
    "import pandas as pd  ##数据处理包\n",
    "import scipy.stats as ss  ## 统计函数的包\n",
    "from networkx.algorithms import community  ##社区分析的专用函数"
   ]
  },
  {
   "cell_type": "code",
   "execution_count": null,
   "id": "637b7c09",
   "metadata": {},
   "outputs": [],
   "source": [
    "os.getcwd() #得到当前工作的目录\n",
    "os.chdir(\"E:\\\\必要文件\\\\课程学习\\\\2021年暑期班整体网\")  ##修改工作目录"
   ]
  },
  {
   "cell_type": "markdown",
   "id": "d74a7efa",
   "metadata": {},
   "source": [
    "## 第一部分：创建和导入网络"
   ]
  },
  {
   "cell_type": "markdown",
   "id": "d8b2f7fa",
   "metadata": {},
   "source": [
    "### 无向无权网"
   ]
  },
  {
   "cell_type": "code",
   "execution_count": null,
   "id": "dfb6a006",
   "metadata": {},
   "outputs": [],
   "source": [
    "#手动创建，先建一个空的无向网\n",
    "guu = nx.Graph()\n",
    "guu.add_edges_from(\n",
    "    [\n",
    "        ('A', 'K'),\n",
    "        ('A', 'B'),\n",
    "        ('B', 'K'),\n",
    "        ('B', 'C'),\n",
    "        ('C', 'F'),\n",
    "        ('C', 'E'),\n",
    "        ('F', 'E'),\n",
    "        ('F', 'G'),\n",
    "        ('D', 'E'),\n",
    "        ('E', 'H'),\n",
    "        ('E', 'I'),\n",
    "        ('I', 'J')\n",
    "    ]\n",
    ")"
   ]
  },
  {
   "cell_type": "code",
   "execution_count": null,
   "id": "683c9871",
   "metadata": {},
   "outputs": [],
   "source": [
    "guu\n",
    "nx.draw_networkx(guu)\n",
    "plt.show()"
   ]
  },
  {
   "cell_type": "code",
   "execution_count": null,
   "id": "a797ed7d",
   "metadata": {},
   "outputs": [],
   "source": [
    "#自带网络\n",
    "guu1 = nx.karate_club_graph()\n",
    "nx.draw_networkx(guu1)\n",
    "plt.show()"
   ]
  },
  {
   "cell_type": "code",
   "execution_count": null,
   "id": "9b85f732",
   "metadata": {},
   "outputs": [],
   "source": [
    "#读入外部数据\n",
    "data=pd.read_csv(\"example.csv\")\n",
    "data"
   ]
  },
  {
   "cell_type": "code",
   "execution_count": null,
   "id": "0027c2d8",
   "metadata": {},
   "outputs": [],
   "source": [
    "#将边列表转为网络\n",
    "guu2 = nx.from_pandas_edgelist(data,\"from\",\"to\")\n",
    "guu2"
   ]
  },
  {
   "cell_type": "code",
   "execution_count": null,
   "id": "0c2306f5",
   "metadata": {},
   "outputs": [],
   "source": [
    "nx.draw_networkx(guu2)\n",
    "plt.show()"
   ]
  },
  {
   "cell_type": "markdown",
   "id": "cd098f7d",
   "metadata": {},
   "source": [
    "### 无向有权网"
   ]
  },
  {
   "cell_type": "code",
   "execution_count": null,
   "id": "bf9641d0",
   "metadata": {},
   "outputs": [],
   "source": [
    "guw = nx.from_pandas_edgelist(data,\"from\",\"to\",edge_attr='weight')\n",
    "guw.edges(data = True),guw.nodes()"
   ]
  },
  {
   "cell_type": "code",
   "execution_count": null,
   "id": "0f65a3f4",
   "metadata": {},
   "outputs": [],
   "source": [
    "edges = guw.edges()\n",
    "weights = [guw[u][v]['weight'] for u,v in edges]  ##读入边权重\n",
    "nx.draw_networkx(guw,width=weights)\n",
    "plt.axis(\"off\")\n",
    "plt.show()"
   ]
  },
  {
   "cell_type": "markdown",
   "id": "fdb618a1",
   "metadata": {},
   "source": [
    "### 有向无权图"
   ]
  },
  {
   "cell_type": "code",
   "execution_count": null,
   "id": "8a2f1219",
   "metadata": {},
   "outputs": [],
   "source": [
    "#手动创建\n",
    "gdu = nx.DiGraph()\n",
    "e = [\n",
    "        ('A', 'B'), ('A', 'E'), ('A', 'N'),\n",
    "        ('B', 'C'), ('B', 'E'),\n",
    "        ('C', 'A'), ('C', 'D'),\n",
    "        ('D', 'B'), ('D', 'E'),\n",
    "        ('E', 'D'), ('E', 'C'),\n",
    "        ('F', 'G'),\n",
    "        ('G', 'A'), ('G', 'J'),\n",
    "        ('H', 'G'), ('H', 'I'),\n",
    "        ('I', 'G'), ('I', 'F'), ('I', 'J'),\n",
    "        ('J', 'F'), ('J', 'O'),\n",
    "        ('K', 'L'), ('K', 'M'),\n",
    "        ('L', 'M'),\n",
    "        ('N', 'L'), ('N', 'O'),\n",
    "        ('O', 'K'), ('O', 'L'),('O','J')\n",
    "    ]\n",
    "gdu.add_edges_from(e)\n",
    "gdu"
   ]
  },
  {
   "cell_type": "code",
   "execution_count": null,
   "id": "7b11ee0f",
   "metadata": {},
   "outputs": [],
   "source": [
    "nx.draw_networkx(gdu)\n",
    "plt.axis(\"off\")\n",
    "plt.show()"
   ]
  },
  {
   "cell_type": "code",
   "execution_count": null,
   "id": "74f6ecf6",
   "metadata": {},
   "outputs": [],
   "source": [
    "#导入有向图\n",
    "data=pd.read_csv(\"example2.csv\")\n",
    "data"
   ]
  },
  {
   "cell_type": "code",
   "execution_count": null,
   "id": "0cee4c98",
   "metadata": {},
   "outputs": [],
   "source": [
    "gdu1 = nx.from_pandas_edgelist(data,\"from\",\"to\",edge_attr=\"weight\",create_using=nx.DiGraph)\n",
    "gdu1.edges(data = True),guw.nodes()"
   ]
  },
  {
   "cell_type": "code",
   "execution_count": null,
   "id": "c44b52fe",
   "metadata": {},
   "outputs": [],
   "source": [
    "nx.draw_networkx(gdu1)\n",
    "plt.axis(\"off\")\n",
    "plt.show()"
   ]
  },
  {
   "cell_type": "markdown",
   "id": "6114aa50",
   "metadata": {},
   "source": [
    "### 显示为有向有权图"
   ]
  },
  {
   "cell_type": "code",
   "execution_count": null,
   "id": "7cfdddde",
   "metadata": {},
   "outputs": [],
   "source": [
    "edges = gdu1.edges()\n",
    "weights = [gdu1[u][v]['weight'] for u,v in edges]\n",
    "nx.draw_networkx(gdu1,width=weights)\n",
    "plt.axis(\"off\")\n",
    "plt.show()"
   ]
  },
  {
   "cell_type": "markdown",
   "id": "8c757c66",
   "metadata": {},
   "source": [
    "运用样式\n",
    "\n",
    "上边的代码虽然简单，但生成的图形略显单调。NetworkX提供了一系列样式参数，可以用来修饰和美化图形，达到我们想要的效果。常用的参数包括：\n",
    "\n",
    "  - `node_size`:  指定节点的尺寸大小(默认是300，单位未知，就是上图中那么大的点)\n",
    "  - `node_color`:  指定节点的颜色 (默认是红色，可以用字符串简单标识颜色，例如'r'为红色，'b'为绿色等，具体可查看手册)\n",
    "  - `node_shape`:  节点的形状（默认是圆形，用字符串'o'标识，具体可查看手册）\n",
    "  - `alpha`: 透明度 (默认是1.0，不透明，0为完全透明) \n",
    "  - `width`: 边的宽度 (默认为1.0)\n",
    "  - `edge_color`: 边的颜色(默认为黑色)\n",
    "  - `style`: 边的样式(默认为实现，可选： solid|dashed|dotted,dashdot)\n",
    "  - `with_labels`: 节点是否带标签（默认为True）\n",
    "  - `font_size`: 节点标签字体大小 (默认为12)\n",
    "  - `font_color`: 节点标签字体颜色（默认为黑色）\n",
    "运用布局\n",
    "\n",
    "NetworkX在绘制网络图形方面提供了布局的功能，可以指定节点排列的形式。这些布局包括：\n",
    "\n",
    "    circular_layout：节点在一个圆环上均匀分布\n",
    "    random_layout：节点随机分布\n",
    "    shell_layout：节点在同心圆上分布\n",
    "    spring_layout： 用Fruchterman-Reingold算法排列节点\n",
    "    spectral_layout：根据图的拉普拉斯特征向量排列节点"
   ]
  },
  {
   "cell_type": "markdown",
   "id": "2fe20a21",
   "metadata": {},
   "source": [
    "## 第二部分 网络演化模型"
   ]
  },
  {
   "cell_type": "markdown",
   "id": "45ad233b",
   "metadata": {},
   "source": [
    "### ER随机网络"
   ]
  },
  {
   "cell_type": "code",
   "execution_count": null,
   "id": "bae4c122",
   "metadata": {},
   "outputs": [],
   "source": [
    "ER = nx.random_graphs.erdos_renyi_graph(100,0.062)  #生成包含20个节点、以概率0.2连接的随机图\n",
    "pos = nx.shell_layout(ER)          #定义一个布局，此处采用了shell布局方式\n",
    "nx.draw(ER,pos,with_labels=False,node_size = 30) \n",
    "plt.show()"
   ]
  },
  {
   "cell_type": "markdown",
   "id": "963a8f6f",
   "metadata": {},
   "source": [
    "### WS小世界网络"
   ]
  },
  {
   "cell_type": "code",
   "execution_count": null,
   "id": "5df7dc41",
   "metadata": {},
   "outputs": [],
   "source": [
    "WS = nx.random_graphs.watts_strogatz_graph(100,6,0.3)  #生成包含20个节点、每个节点4个近邻、随机化重连概率为0.3的小世界网络\n",
    "pos = nx.shell_layout(WS)          #定义一个布局\n",
    "nx.draw(WS,pos,with_labels=False,node_size = 30)  #绘制图形\n",
    "plt.axis('off')\n",
    "plt.show()"
   ]
  },
  {
   "cell_type": "markdown",
   "id": "817c03b8",
   "metadata": {},
   "source": [
    "### BA无标度网络"
   ]
  },
  {
   "cell_type": "code",
   "execution_count": null,
   "id": "17ec156e",
   "metadata": {},
   "outputs": [],
   "source": [
    "BA= nx.random_graphs.barabasi_albert_graph(100,3)  #生成n=20、m=1的BA无标度网络\n",
    "pos = nx.spring_layout(BA)          #定义一个布局，此处采用了spring布局方式\n",
    "nx.draw(BA,pos,with_labels=False,node_size = 30)  #绘制图形\n",
    "plt.show()"
   ]
  },
  {
   "cell_type": "code",
   "execution_count": null,
   "id": "75818bac",
   "metadata": {},
   "outputs": [],
   "source": [
    "len(ER.edges()),len(WS.edges()),len(BA.edges())"
   ]
  },
  {
   "cell_type": "markdown",
   "id": "06345ba8",
   "metadata": {},
   "source": [
    "## 第三部分 网络结构分析"
   ]
  },
  {
   "cell_type": "markdown",
   "id": "95240fdb",
   "metadata": {},
   "source": [
    "### 网络整体结构分析"
   ]
  },
  {
   "cell_type": "markdown",
   "id": "a2c461dc",
   "metadata": {},
   "source": [
    "#### 密度分析"
   ]
  },
  {
   "cell_type": "code",
   "execution_count": null,
   "id": "28102341",
   "metadata": {},
   "outputs": [],
   "source": [
    "nx.density(ER),nx.density(WS),nx.density(BA)"
   ]
  },
  {
   "cell_type": "code",
   "execution_count": null,
   "id": "125c4914",
   "metadata": {},
   "outputs": [],
   "source": [
    "nx.density(guu2)"
   ]
  },
  {
   "cell_type": "code",
   "execution_count": null,
   "id": "e7818f7b",
   "metadata": {},
   "outputs": [],
   "source": [
    "nx.density(gdu1)"
   ]
  },
  {
   "cell_type": "code",
   "execution_count": null,
   "id": "e5851a8b",
   "metadata": {},
   "outputs": [],
   "source": [
    "nx.density(guw)"
   ]
  },
  {
   "cell_type": "markdown",
   "id": "fe21a400",
   "metadata": {},
   "source": [
    "#### 成份分析 "
   ]
  },
  {
   "cell_type": "code",
   "execution_count": null,
   "id": "ebc2bede",
   "metadata": {},
   "outputs": [],
   "source": [
    "#先查看各个网络是不是连通的，连通图只有一个成份\n",
    "nx.is_connected(ER), nx.is_connected(WS), nx.is_connected(BA)  "
   ]
  },
  {
   "cell_type": "code",
   "execution_count": null,
   "id": "d224c1db",
   "metadata": {},
   "outputs": [],
   "source": [
    "#非连通图有一个以上成份\n",
    "nx.number_connected_components(ER)"
   ]
  },
  {
   "cell_type": "code",
   "execution_count": null,
   "id": "aca58b5c",
   "metadata": {},
   "outputs": [],
   "source": [
    "#注意强成份只在有向网中定义\n",
    "nx.is_strongly_connected(gdu),nx.is_strongly_connected(gdu1)"
   ]
  },
  {
   "cell_type": "code",
   "execution_count": null,
   "id": "ee32ab16",
   "metadata": {},
   "outputs": [],
   "source": [
    "nx.number_strongly_connected_components(gdu)"
   ]
  },
  {
   "cell_type": "code",
   "execution_count": null,
   "id": "53282b66",
   "metadata": {},
   "outputs": [],
   "source": [
    "##找出最大强成份\n",
    "largest = max(nx.strongly_connected_components_recursive(gdu), key=len)\n",
    "largest"
   ]
  },
  {
   "cell_type": "code",
   "execution_count": null,
   "id": "29561515",
   "metadata": {},
   "outputs": [],
   "source": [
    "len(gdu.nodes())"
   ]
  },
  {
   "cell_type": "markdown",
   "id": "8e8163dd",
   "metadata": {},
   "source": [
    "#### 直径和平均最短路径分析"
   ]
  },
  {
   "cell_type": "code",
   "execution_count": null,
   "id": "beca0984",
   "metadata": {},
   "outputs": [],
   "source": [
    "nx.diameter(ER)"
   ]
  },
  {
   "cell_type": "code",
   "execution_count": null,
   "id": "60cd1b77",
   "metadata": {},
   "outputs": [],
   "source": [
    "nx.diameter(WS),nx.diameter(BA)"
   ]
  },
  {
   "cell_type": "code",
   "execution_count": null,
   "id": "dcc9e9c0",
   "metadata": {},
   "outputs": [],
   "source": [
    "#注意，平均最短路径和直径都只在连通图中定义\n",
    "nx.average_shortest_path_length(WS),nx.average_shortest_path_length(BA)"
   ]
  },
  {
   "cell_type": "code",
   "execution_count": null,
   "id": "4bbf2ae6",
   "metadata": {},
   "outputs": [],
   "source": [
    "#抽取非连通图的巨成份\n",
    "S = [ER.subgraph(c).copy() for c in nx.connected_components(ER)]\n",
    "S"
   ]
  },
  {
   "cell_type": "code",
   "execution_count": null,
   "id": "5e7d6ee6",
   "metadata": {},
   "outputs": [],
   "source": [
    "nx.diameter(S[0])"
   ]
  },
  {
   "cell_type": "code",
   "execution_count": null,
   "id": "ebadf017",
   "metadata": {},
   "outputs": [],
   "source": [
    "nx.average_shortest_path_length(S[0])"
   ]
  },
  {
   "cell_type": "code",
   "execution_count": null,
   "id": "a7f37efc",
   "metadata": {},
   "outputs": [],
   "source": [
    "#进一步的验证\n",
    "WS2 = nx.random_graphs.watts_strogatz_graph(1000,6,0.3) \n",
    "nx.average_shortest_path_length(WS2)"
   ]
  },
  {
   "cell_type": "code",
   "execution_count": null,
   "id": "244802b6",
   "metadata": {},
   "outputs": [],
   "source": [
    "WS3 = nx.random_graphs.watts_strogatz_graph(5000,6,0.3) \n",
    "nx.average_shortest_path_length(WS3)"
   ]
  },
  {
   "cell_type": "code",
   "execution_count": null,
   "id": "eae6baa4",
   "metadata": {},
   "outputs": [],
   "source": [
    "BA2 = nx.random_graphs.barabasi_albert_graph(1000,3)\n",
    "nx.average_shortest_path_length(BA2)"
   ]
  },
  {
   "cell_type": "code",
   "execution_count": null,
   "id": "668a6d57",
   "metadata": {},
   "outputs": [],
   "source": [
    "BA3 = nx.random_graphs.barabasi_albert_graph(5000,3)\n",
    "nx.average_shortest_path_length(BA3)"
   ]
  },
  {
   "cell_type": "markdown",
   "id": "2af457b6",
   "metadata": {},
   "source": [
    "#### 度分布分析"
   ]
  },
  {
   "cell_type": "code",
   "execution_count": null,
   "id": "312526e5",
   "metadata": {},
   "outputs": [],
   "source": [
    "#提取节点度\n",
    "nx.degree(WS2)\n",
    "wsdl = np.array(nx.degree(WS2))"
   ]
  },
  {
   "cell_type": "code",
   "execution_count": null,
   "id": "b15abadc",
   "metadata": {},
   "outputs": [],
   "source": [
    "from collections import Counter"
   ]
  },
  {
   "cell_type": "code",
   "execution_count": null,
   "id": "2bfcf601",
   "metadata": {},
   "outputs": [],
   "source": [
    "#计算度分布频数\n",
    "counts = Counter(d for n, d in wsdl)\n",
    "b = [counts.get(i, 0) for i in range(max(counts) + 1)]\n",
    "x = range(len(b)) # x轴\n",
    "y = [z for z in b] # y轴"
   ]
  },
  {
   "cell_type": "code",
   "execution_count": null,
   "id": "370ac6ef",
   "metadata": {},
   "outputs": [],
   "source": [
    "#双对数坐标轴\n",
    "plt.figure(figsize=(5.8, 5.2), dpi=150)\n",
    "plt.xlabel(\"Degree\")\n",
    "plt.ylabel(\"Frequency\")\n",
    "plt.loglog(x, y, '.')\n",
    "plt.show()"
   ]
  },
  {
   "cell_type": "code",
   "execution_count": null,
   "id": "c09ecf76",
   "metadata": {},
   "outputs": [],
   "source": [
    "nx.degree(BA2)\n",
    "badl1 = np.array(nx.degree(BA2))\n",
    "counts = Counter(d for n, d in badl1)\n",
    "b = [counts.get(i, 0) for i in range(max(counts) + 1)]\n",
    "x = range(len(b)) # x轴\n",
    "y = [z for z in b] # y轴"
   ]
  },
  {
   "cell_type": "code",
   "execution_count": null,
   "id": "6faa548a",
   "metadata": {},
   "outputs": [],
   "source": [
    "plt.figure(figsize=(5.8, 5.2), dpi=150)\n",
    "plt.xlabel(\"Degree\")\n",
    "plt.ylabel(\"Frequency\")\n",
    "plt.loglog(x, y, '.')\n",
    "plt.show()"
   ]
  },
  {
   "cell_type": "code",
   "execution_count": null,
   "id": "16fadab0",
   "metadata": {},
   "outputs": [],
   "source": [
    "nx.degree(BA3)\n",
    "badl2 = np.array(nx.degree(BA3))\n",
    "counts = Counter(d for n, d in badl2)\n",
    "b = [counts.get(i, 0) for i in range(max(counts) + 1)]\n",
    "x = range(len(b)) # x轴\n",
    "y = [z for z in b] # y轴"
   ]
  },
  {
   "cell_type": "code",
   "execution_count": null,
   "id": "cbeffc84",
   "metadata": {},
   "outputs": [],
   "source": [
    "plt.figure(figsize=(5.8, 5.2), dpi=150)\n",
    "plt.xlabel(\"Degree\")\n",
    "plt.ylabel(\"Frequency\")\n",
    "plt.loglog(x, y, '.')\n",
    "plt.show()"
   ]
  },
  {
   "cell_type": "code",
   "execution_count": null,
   "id": "4e170f95",
   "metadata": {},
   "outputs": [],
   "source": [
    "erdl = np.array(nx.degree(WS2))\n",
    "erdl[1,1]"
   ]
  },
  {
   "cell_type": "code",
   "execution_count": null,
   "id": "e1605d3e",
   "metadata": {},
   "outputs": [],
   "source": [
    "#create figure\n",
    "fig, axs = plt.subplots(1, 1,\n",
    "                        figsize =(10, 7),\n",
    "                        tight_layout = True)\n",
    "axs.hist(erdl[:,1], bins = 8)\n",
    " \n",
    "# Show plot\n",
    "plt.show()"
   ]
  },
  {
   "cell_type": "code",
   "execution_count": null,
   "id": "7a0031ba",
   "metadata": {},
   "outputs": [],
   "source": [
    "erdl2 = np.array(nx.degree(WS3))\n",
    "\n",
    "#create figure\n",
    "fig, axs = plt.subplots(1, 1,\n",
    "                        figsize =(10, 7),\n",
    "                        tight_layout = True)\n",
    "axs.hist(erdl2[:,1], bins = 8)\n",
    " \n",
    "# Show plot\n",
    "plt.show()"
   ]
  },
  {
   "cell_type": "markdown",
   "id": "c974065e",
   "metadata": {},
   "source": [
    "### 网络群体结构分析"
   ]
  },
  {
   "cell_type": "code",
   "execution_count": null,
   "id": "21ec90da",
   "metadata": {},
   "outputs": [],
   "source": [
    "#经典数据\n",
    "gkc = nx.karate_club_graph()\n",
    "plt.axis('off')\n",
    "nx.draw_networkx(gkc)\n",
    "plt.show()"
   ]
  },
  {
   "cell_type": "code",
   "execution_count": null,
   "id": "909b2f1a",
   "metadata": {},
   "outputs": [],
   "source": [
    "#用最简单的边介数中心性算法，并获得每个社区的名单\n",
    "gkcc = community.girvan_newman(gkc)\n",
    "next_level_communities = next(gkcc)\n",
    "sorted(map(sorted, next_level_communities))"
   ]
  },
  {
   "cell_type": "code",
   "execution_count": null,
   "id": "15290e4b",
   "metadata": {},
   "outputs": [],
   "source": [
    "#将社区名单堆叠起来\n",
    "node_groups = []\n",
    "\n",
    "for i in range(1, 2):\n",
    "  node_groups.append(list(next_level_communities[i]))"
   ]
  },
  {
   "cell_type": "code",
   "execution_count": null,
   "id": "dc6b861b",
   "metadata": {},
   "outputs": [],
   "source": [
    "# 绘制社区\n",
    "color_map = []\n",
    "for node in gkc:\n",
    "    if node in node_groups[0]:\n",
    "        color_map.append('purple')\n",
    "    else:\n",
    "        color_map.append('green')  \n",
    "\n",
    "nx.draw(gkc, node_color=color_map, with_labels=True)\n",
    "plt.show()"
   ]
  },
  {
   "cell_type": "code",
   "execution_count": null,
   "id": "df448924",
   "metadata": {},
   "outputs": [],
   "source": [
    "#模块度\n",
    "community.modularity(gkc,next_level_communities)"
   ]
  },
  {
   "cell_type": "code",
   "execution_count": null,
   "id": "84ac638c",
   "metadata": {},
   "outputs": [],
   "source": [
    "from networkx.algorithms.community import greedy_modularity_communities"
   ]
  },
  {
   "cell_type": "code",
   "execution_count": null,
   "id": "2798828f",
   "metadata": {},
   "outputs": [],
   "source": [
    "gkcc = list(greedy_modularity_communities(gkc))\n",
    "community.modularity(gkc,gkcc)"
   ]
  },
  {
   "cell_type": "code",
   "execution_count": null,
   "id": "8b2deb01",
   "metadata": {},
   "outputs": [],
   "source": [
    "gkcc"
   ]
  },
  {
   "cell_type": "markdown",
   "id": "3ac49889",
   "metadata": {},
   "source": [
    "与随机网络进行对比"
   ]
  },
  {
   "cell_type": "code",
   "execution_count": null,
   "id": "fd3d2ff4",
   "metadata": {},
   "outputs": [],
   "source": [
    "len(gkc.edges()),len(gkc)"
   ]
  },
  {
   "cell_type": "code",
   "execution_count": null,
   "id": "d0af1e3f",
   "metadata": {},
   "outputs": [],
   "source": [
    "rgk = nx.gnm_random_graph(n=34, m=78,seed=1)"
   ]
  },
  {
   "cell_type": "code",
   "execution_count": null,
   "id": "346a8a01",
   "metadata": {},
   "outputs": [],
   "source": [
    "nx.draw(rgk)\n",
    "plt.show()"
   ]
  },
  {
   "cell_type": "code",
   "execution_count": null,
   "id": "0af43a6d",
   "metadata": {},
   "outputs": [],
   "source": [
    "rgkc = community.girvan_newman(rgk)\n",
    "top_level_communities = next(rgkc)\n",
    "next_level_communities = next(rgkc)"
   ]
  },
  {
   "cell_type": "code",
   "execution_count": null,
   "id": "fe53d0b4",
   "metadata": {},
   "outputs": [],
   "source": [
    "community.modularity(rgk,next_level_communities)"
   ]
  },
  {
   "cell_type": "code",
   "execution_count": null,
   "id": "176b1257",
   "metadata": {},
   "outputs": [],
   "source": [
    "rgkc = list(greedy_modularity_communities(rgk))\n",
    "community.modularity(rgk,rgkc)"
   ]
  },
  {
   "cell_type": "markdown",
   "id": "352c227e",
   "metadata": {},
   "source": [
    "### 网络节点中心性分析"
   ]
  },
  {
   "cell_type": "code",
   "execution_count": null,
   "id": "fd5e72d9",
   "metadata": {},
   "outputs": [],
   "source": [
    "deg = nx.degree_centrality(gkc)\n",
    "clo = nx.closeness_centrality(gkc)\n",
    "bet = nx.betweenness_centrality(gkc)\n",
    "tra = nx.clustering(gkc)\n",
    "egv = nx.eigenvector_centrality(gkc)"
   ]
  },
  {
   "cell_type": "code",
   "execution_count": null,
   "id": "42d80a54",
   "metadata": {},
   "outputs": [],
   "source": [
    "#将所有系数放到一个数据框中\n",
    "col_names = ['id','degree', 'closeness', 'betweenness', 'clustering', 'eigenvector']\n",
    "data = pd.DataFrame(columns=col_names)\n",
    "data['id'] = gkc.nodes()\n",
    "data['degree'] = [i for i in deg.values()]\n",
    "data['closeness'] = [i for i in clo.values()]\n",
    "data['betweenness'] = [i for i in bet.values()]\n",
    "data['clustering'] = [i for i in tra.values()]\n",
    "data['eigenvector'] = [i for i in egv.values()]"
   ]
  },
  {
   "cell_type": "code",
   "execution_count": null,
   "id": "4df98083",
   "metadata": {},
   "outputs": [],
   "source": [
    "data"
   ]
  },
  {
   "cell_type": "code",
   "execution_count": null,
   "id": "e8cf3caf",
   "metadata": {},
   "outputs": [],
   "source": [
    "pos = nx.spring_layout(gkc) \n",
    "nx.draw_networkx(gkc,pos,node_size=data['degree']*300)\n",
    "plt.show()"
   ]
  },
  {
   "cell_type": "code",
   "execution_count": null,
   "id": "f5e009c4",
   "metadata": {},
   "outputs": [],
   "source": [
    "nx.draw_networkx(gkc,pos,node_size=data['closeness']*data['closeness']*300)\n",
    "plt.show()"
   ]
  },
  {
   "cell_type": "code",
   "execution_count": null,
   "id": "9412f7d4",
   "metadata": {},
   "outputs": [],
   "source": [
    "nx.draw_networkx(gkc,pos,node_size=data['betweenness']*300)\n",
    "plt.show()"
   ]
  },
  {
   "cell_type": "code",
   "execution_count": null,
   "id": "1a970c06",
   "metadata": {},
   "outputs": [],
   "source": [
    "nx.draw_networkx(gkc,pos,node_size=data['clustering']*300)\n",
    "plt.show()"
   ]
  },
  {
   "cell_type": "code",
   "execution_count": null,
   "id": "c9358c97",
   "metadata": {},
   "outputs": [],
   "source": [
    "nx.draw_networkx(gkc,pos,node_size=data['eigenvector']*300)\n",
    "plt.show()"
   ]
  },
  {
   "cell_type": "markdown",
   "id": "643f273c",
   "metadata": {},
   "source": [
    "## 第四部分 网络建模ERGM"
   ]
  }
 ],
 "metadata": {
  "kernelspec": {
   "display_name": "Python 3",
   "language": "python",
   "name": "python3"
  },
  "language_info": {
   "codemirror_mode": {
    "name": "ipython",
    "version": 3
   },
   "file_extension": ".py",
   "mimetype": "text/x-python",
   "name": "python",
   "nbconvert_exporter": "python",
   "pygments_lexer": "ipython3",
   "version": "3.7.11"
  }
 },
 "nbformat": 4,
 "nbformat_minor": 5
}
