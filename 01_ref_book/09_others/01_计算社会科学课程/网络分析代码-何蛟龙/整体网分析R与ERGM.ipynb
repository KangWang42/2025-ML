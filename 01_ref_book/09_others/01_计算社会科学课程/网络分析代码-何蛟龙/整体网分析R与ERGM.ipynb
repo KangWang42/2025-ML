{
 "cells": [
  {
   "cell_type": "markdown",
   "id": "3e039dbd",
   "metadata": {},
   "source": [
    "# R与ERGM模型"
   ]
  },
  {
   "cell_type": "code",
   "execution_count": null,
   "id": "bd8a09e8",
   "metadata": {},
   "outputs": [],
   "source": [
    "##载入软件包、数据和network\n",
    "library(ergm)\n",
    "data(florentine)\n",
    "flomarriage"
   ]
  },
  {
   "cell_type": "code",
   "execution_count": null,
   "id": "4f744f37",
   "metadata": {},
   "outputs": [],
   "source": [
    "#绘图\n",
    "plot(flomarriage,\n",
    "main=\"Florentine Marriage\",\n",
    "cex.main=0.8,\n",
    "label = network.vertex.names(flomarriage)) # Plot the network"
   ]
  },
  {
   "cell_type": "code",
   "execution_count": null,
   "id": "c70f21b8",
   "metadata": {},
   "outputs": [],
   "source": [
    "#构局统计\n",
    "summary(flomarriage ~ edges + triangles)"
   ]
  },
  {
   "cell_type": "code",
   "execution_count": null,
   "id": "f709d709",
   "metadata": {},
   "outputs": [],
   "source": [
    "#ERGM\n",
    "flomodel.01 = ergm(flomarriage ~ edges)\n",
    "summary(flomodel.01)"
   ]
  },
  {
   "cell_type": "code",
   "execution_count": null,
   "id": "85e36c6d",
   "metadata": {},
   "outputs": [],
   "source": [
    "flomodel.02 = ergm(flomarriage ~ edges + triangle)\n",
    "summary(flomodel.02)"
   ]
  },
  {
   "cell_type": "code",
   "execution_count": null,
   "id": "2f4c4bb7",
   "metadata": {},
   "outputs": [],
   "source": [
    "#模型诊断\n",
    "flomodel.02.gof = gof(flomodel.02)\n",
    "flomodel.02.gof\n",
    "plot(flomodel.02.gof)"
   ]
  },
  {
   "cell_type": "code",
   "execution_count": null,
   "id": "c8fbaf65",
   "metadata": {},
   "outputs": [],
   "source": [
    "#根据模型模拟出一个网络\n",
    "flomodel.02.sim = simulate(flomodel.02,nsim=10)\n",
    "summary(flomodel.02.sim)"
   ]
  },
  {
   "cell_type": "code",
   "execution_count": null,
   "id": "38dcd6bb",
   "metadata": {},
   "outputs": [],
   "source": [
    "#与观察到的网络进行对比\n",
    "plot(flomodel.02.sim[[10]],\n",
    "label= flomodel.02.sim[[10]] %v% \"vertex.names\")"
   ]
  },
  {
   "cell_type": "code",
   "execution_count": null,
   "id": "f8059188",
   "metadata": {},
   "outputs": [],
   "source": [
    "#原模型效果不好，用新的模型\n",
    "wealth = flomarriage %v% 'wealth' # %v% references vertex attributes\n",
    "wealth\n",
    "\n",
    "plot(flomarriage,\n",
    "vertex.cex=wealth/25,\n",
    "main=\"Florentine marriage by wealth\", cex.main=0.8,\n",
    "    label = network.vertex.names(flomarriage))"
   ]
  },
  {
   "cell_type": "code",
   "execution_count": null,
   "id": "ecd44cf6",
   "metadata": {},
   "outputs": [],
   "source": [
    "flomodel.03 = ergm(flomarriage ~ edges + nodecov('wealth'))\n",
    "summary(flomodel.03)"
   ]
  },
  {
   "cell_type": "code",
   "execution_count": null,
   "id": "39339203",
   "metadata": {},
   "outputs": [],
   "source": [
    "flomodel.03.gof = gof(flomodel.03)\n",
    "flomodel.03.gof\n",
    "plot(flomodel.03.gof)"
   ]
  },
  {
   "cell_type": "code",
   "execution_count": null,
   "id": "47c61af0",
   "metadata": {
    "scrolled": true
   },
   "outputs": [],
   "source": [
    "flomodel.03.sim = simulate(flomodel.03,nsim=10)\n",
    "summary(flomodel.03.sim)"
   ]
  },
  {
   "cell_type": "code",
   "execution_count": null,
   "id": "f4e15114",
   "metadata": {},
   "outputs": [],
   "source": [
    "plot(flomodel.03.sim[[3]],\n",
    "label= flomodel.03.sim[[3]] %v% \"vertex.names\",\n",
    "vertex.cex = (flomodel.03.sim[[3]] %v% \"wealth\")/25)"
   ]
  },
  {
   "cell_type": "code",
   "execution_count": null,
   "id": "1ed962f0",
   "metadata": {},
   "outputs": [],
   "source": [
    "flomodel.03 = ergm(flomarriage ~ edges + nodecov('wealth') + kstar(2))\n",
    "summary(flomodel.03)"
   ]
  },
  {
   "cell_type": "code",
   "execution_count": null,
   "id": "86a21c15",
   "metadata": {},
   "outputs": [],
   "source": [
    "#原模型效果不好，用新的模型\n",
    "priorates = flomarriage %v% 'priorates' # %v% references vertex attributes\n",
    "priorates\n",
    "\n",
    "plot(flomarriage,\n",
    "vertex.cex=priorates/25,\n",
    "main=\"Florentine marriage by wealth\", cex.main=0.8,\n",
    "    label = network.vertex.names(flomarriage))"
   ]
  },
  {
   "cell_type": "code",
   "execution_count": null,
   "id": "46519335",
   "metadata": {},
   "outputs": [],
   "source": [
    "flomodel.03 = ergm(flomarriage ~ edges + nodecov('wealth') + nodecov('priorates'))\n",
    "summary(flomodel.03)"
   ]
  }
 ],
 "metadata": {
  "kernelspec": {
   "display_name": "R",
   "language": "R",
   "name": "ir"
  },
  "language_info": {
   "codemirror_mode": "r",
   "file_extension": ".r",
   "mimetype": "text/x-r-source",
   "name": "R",
   "pygments_lexer": "r",
   "version": "3.6.1"
  }
 },
 "nbformat": 4,
 "nbformat_minor": 5
}
