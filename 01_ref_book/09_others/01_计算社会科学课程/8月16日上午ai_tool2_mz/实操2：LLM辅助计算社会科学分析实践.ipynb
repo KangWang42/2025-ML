{
 "cells": [
  {
   "cell_type": "markdown",
   "metadata": {
    "id": "BopFI0qqnv_5"
   },
   "source": [
    "# LLM辅助的计算社会科学分析实战"
   ]
  },
  {
   "cell_type": "markdown",
   "metadata": {},
   "source": [
    "**版权声明：版权归属中山大学社会学系博士生贾梦真，为2023中山大学人工社会与计算社会科学讲习班学习资料，勿进行传播。**"
   ]
  },
  {
   "cell_type": "markdown",
   "metadata": {
    "id": "80zwBYawnv_6"
   },
   "source": [
    "## 一、微调模型\n"
   ]
  },
  {
   "cell_type": "markdown",
   "metadata": {
    "id": "y5FGIHrrjU0N"
   },
   "source": [
    "为什么要微调？       \n",
    "- 教大模型适应个人独特究领域，学习新的知识，适应新目标任务。\n",
    "- 大模型的训练可能会存在偏误。    \n",
    "\n",
    "GPT-3模型被更强大的GPT-3.5所取代。然而，原始的GPT-3基本模型()是目前唯一可用于微调的模型。"
   ]
  },
  {
   "cell_type": "markdown",
   "metadata": {
    "id": "jqSm2AaNXcuo"
   },
   "source": [
    "![屏幕截图 2023-08-14 172504.png](data:image/png;base64,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)"
   ]
  },
  {
   "cell_type": "markdown",
   "metadata": {
    "id": "45XfIvxLnv_6"
   },
   "source": [
    "对大语言模型进行微调，帮助区分体育新闻中的棒球和曲棍球（sklearn包中的数据库fetch_20newsgroups）\n",
    "数据连接[fetch_20newsgroups数据预览](https://scikit-learn.org/stable/modules/generated/sklearn.datasets.fetch_20newsgroups.html)"
   ]
  },
  {
   "cell_type": "markdown",
   "metadata": {
    "id": "CDw92DMEnv_7"
   },
   "source": [
    "[参考资料链接](https://github.com/openai/openai-cookbook/blob/c651bfdda64ac049747c2a174cde1c946e2baf1d/examples/Fine-tuned_classification.ipynb?short_path=60b8896)"
   ]
  },
  {
   "cell_type": "markdown",
   "metadata": {
    "id": "NdtmcLgPnv_7"
   },
   "source": [
    "### 1.1 准备数据和包"
   ]
  },
  {
   "cell_type": "code",
   "execution_count": null,
   "metadata": {
    "colab": {
     "base_uri": "https://localhost:8080/"
    },
    "id": "zNFDrUqepJ-3",
    "outputId": "d3f3c088-ecfe-47fb-fc31-cca2fa7a11d3"
   },
   "outputs": [
    {
     "name": "stdout",
     "output_type": "stream",
     "text": [
      "Requirement already satisfied: pip in /usr/local/lib/python3.10/dist-packages (23.1.2)\n",
      "Collecting pip\n",
      "  Downloading pip-23.2.1-py3-none-any.whl (2.1 MB)\n",
      "\u001b[2K     \u001b[90m━━━━━━━━━━━━━━━━━━━━━━━━━━━━━━━━━━━━━━━━\u001b[0m \u001b[32m2.1/2.1 MB\u001b[0m \u001b[31m8.8 MB/s\u001b[0m eta \u001b[36m0:00:00\u001b[0m\n",
      "\u001b[?25hInstalling collected packages: pip\n",
      "  Attempting uninstall: pip\n",
      "    Found existing installation: pip 23.1.2\n",
      "    Uninstalling pip-23.1.2:\n",
      "      Successfully uninstalled pip-23.1.2\n",
      "Successfully installed pip-23.2.1\n"
     ]
    }
   ],
   "source": [
    "pip install --upgrade pip"
   ]
  },
  {
   "cell_type": "code",
   "execution_count": null,
   "metadata": {
    "colab": {
     "base_uri": "https://localhost:8080/"
    },
    "id": "FpBbLF0-puE1",
    "outputId": "88b5b6a2-3dfc-4bd3-a295-ca5b463979b6"
   },
   "outputs": [
    {
     "name": "stdout",
     "output_type": "stream",
     "text": [
      "Collecting openai\n",
      "  Downloading openai-0.27.8-py3-none-any.whl (73 kB)\n",
      "\u001b[2K     \u001b[90m━━━━━━━━━━━━━━━━━━━━━━━━━━━━━━━━━━━━━━━━\u001b[0m \u001b[32m73.6/73.6 kB\u001b[0m \u001b[31m1.7 MB/s\u001b[0m eta \u001b[36m0:00:00\u001b[0m\n",
      "\u001b[?25hRequirement already satisfied: requests>=2.20 in /usr/local/lib/python3.10/dist-packages (from openai) (2.31.0)\n",
      "Requirement already satisfied: tqdm in /usr/local/lib/python3.10/dist-packages (from openai) (4.66.0)\n",
      "Requirement already satisfied: aiohttp in /usr/local/lib/python3.10/dist-packages (from openai) (3.8.5)\n",
      "Requirement already satisfied: charset-normalizer<4,>=2 in /usr/local/lib/python3.10/dist-packages (from requests>=2.20->openai) (3.2.0)\n",
      "Requirement already satisfied: idna<4,>=2.5 in /usr/local/lib/python3.10/dist-packages (from requests>=2.20->openai) (3.4)\n",
      "Requirement already satisfied: urllib3<3,>=1.21.1 in /usr/local/lib/python3.10/dist-packages (from requests>=2.20->openai) (2.0.4)\n",
      "Requirement already satisfied: certifi>=2017.4.17 in /usr/local/lib/python3.10/dist-packages (from requests>=2.20->openai) (2023.7.22)\n",
      "Requirement already satisfied: attrs>=17.3.0 in /usr/local/lib/python3.10/dist-packages (from aiohttp->openai) (23.1.0)\n",
      "Requirement already satisfied: multidict<7.0,>=4.5 in /usr/local/lib/python3.10/dist-packages (from aiohttp->openai) (6.0.4)\n",
      "Requirement already satisfied: async-timeout<5.0,>=4.0.0a3 in /usr/local/lib/python3.10/dist-packages (from aiohttp->openai) (4.0.2)\n",
      "Requirement already satisfied: yarl<2.0,>=1.0 in /usr/local/lib/python3.10/dist-packages (from aiohttp->openai) (1.9.2)\n",
      "Requirement already satisfied: frozenlist>=1.1.1 in /usr/local/lib/python3.10/dist-packages (from aiohttp->openai) (1.4.0)\n",
      "Requirement already satisfied: aiosignal>=1.1.2 in /usr/local/lib/python3.10/dist-packages (from aiohttp->openai) (1.3.1)\n",
      "Installing collected packages: openai\n",
      "Successfully installed openai-0.27.8\n"
     ]
    }
   ],
   "source": [
    "pip install openai"
   ]
  },
  {
   "cell_type": "code",
   "execution_count": null,
   "metadata": {
    "id": "ADPuyqDHnv_7"
   },
   "outputs": [],
   "source": [
    "#导入需要的包\n",
    "from sklearn.datasets import fetch_20newsgroups #使用fetch_20newsgroups数据\n",
    "import pandas as pd\n",
    "import openai"
   ]
  },
  {
   "cell_type": "code",
   "execution_count": null,
   "metadata": {
    "id": "XbqLCSfUnv_7"
   },
   "outputs": [],
   "source": [
    "#将运动数据库中的训练集抽取出来，只选择棒球和曲棍球类别的。\n",
    "categories = ['rec.sport.baseball', 'rec.sport.hockey']\n",
    "sports_dataset = fetch_20newsgroups(subset='train', shuffle=True, random_state=42, categories=categories)"
   ]
  },
  {
   "cell_type": "code",
   "execution_count": null,
   "metadata": {
    "colab": {
     "base_uri": "https://localhost:8080/"
    },
    "id": "afAuCVbQnv_8",
    "outputId": "d8c3cb67-c384-47c4-d356-45358734a0bd"
   },
   "outputs": [
    {
     "name": "stdout",
     "output_type": "stream",
     "text": [
      "From: dougb@comm.mot.com (Doug Bank)\n",
      "Subject: Re: Info needed for Cleveland tickets\n",
      "Reply-To: dougb@ecs.comm.mot.com\n",
      "Organization: Motorola Land Mobile Products Sector\n",
      "Distribution: usa\n",
      "Nntp-Posting-Host: 145.1.146.35\n",
      "Lines: 17\n",
      "\n",
      "In article <1993Apr1.234031.4950@leland.Stanford.EDU>, bohnert@leland.Stanford.EDU (matthew bohnert) writes:\n",
      "\n",
      "|> I'm going to be in Cleveland Thursday, April 15 to Sunday, April 18.\n",
      "|> Does anybody know if the Tribe will be in town on those dates, and\n",
      "|> if so, who're they playing and if tickets are available?\n",
      "\n",
      "The tribe will be in town from April 16 to the 19th.\n",
      "There are ALWAYS tickets available! (Though they are playing Toronto,\n",
      "and many Toronto fans make the trip to Cleveland as it is easier to\n",
      "get tickets in Cleveland than in Toronto.  Either way, I seriously\n",
      "doubt they will sell out until the end of the season.)\n",
      "\n",
      "-- \n",
      "Doug Bank                       Private Systems Division\n",
      "dougb@ecs.comm.mot.com          Motorola Communications Sector\n",
      "dougb@nwu.edu                   Schaumburg, Illinois\n",
      "dougb@casbah.acns.nwu.edu       708-576-8207                    \n",
      "\n"
     ]
    }
   ],
   "source": [
    "#查看数据\n",
    "print(sports_dataset['data'][0])"
   ]
  },
  {
   "cell_type": "code",
   "execution_count": null,
   "metadata": {
    "colab": {
     "base_uri": "https://localhost:8080/"
    },
    "id": "0jXMp7hcnv_8",
    "outputId": "843c99e1-9535-4b0d-a080-0b9373e4314e"
   },
   "outputs": [
    {
     "name": "stdout",
     "output_type": "stream",
     "text": [
      "rec.sport.baseball\n",
      "rec.sport.hockey\n"
     ]
    }
   ],
   "source": [
    "print(sports_dataset.target_names[sports_dataset['target'][0]])\n",
    "print(sports_dataset.target_names[sports_dataset['target'][1]])\n",
    "#标签0是棒球，标签1是曲棍球"
   ]
  },
  {
   "cell_type": "code",
   "execution_count": null,
   "metadata": {
    "colab": {
     "base_uri": "https://localhost:8080/"
    },
    "id": "1UuEbBuYnv_8",
    "outputId": "36adcd0a-c9b9-4b95-c0b0-31b67739de1f"
   },
   "outputs": [
    {
     "name": "stdout",
     "output_type": "stream",
     "text": [
      "Total examples: 1197, Baseball examples: 597, Hockey examples: 600\n"
     ]
    }
   ],
   "source": [
    "#看一下样本总数和两类球类的各自样本数\n",
    "len_all = len(sports_dataset.data)\n",
    "len_baseball = len([e for e in sports_dataset.target if e == 0])\n",
    "len_hockey = len([e for e in sports_dataset.target if e == 1])\n",
    "print(f\"Total examples: {len_all}, Baseball examples: {len_baseball}, Hockey examples: {len_hockey}\")"
   ]
  },
  {
   "cell_type": "markdown",
   "metadata": {
    "id": "xnjxY2aqnv_9"
   },
   "source": [
    "### 1.2 数据预处理"
   ]
  },
  {
   "cell_type": "code",
   "execution_count": null,
   "metadata": {
    "colab": {
     "base_uri": "https://localhost:8080/",
     "height": 206
    },
    "id": "iRJnfpjcnv_9",
    "outputId": "7fa1e492-6cf1-4603-cb13-ca6c1a092bcb"
   },
   "outputs": [
    {
     "data": {
      "text/html": [
       "\n",
       "\n",
       "  <div id=\"df-d7466250-861a-4404-b53f-55d9b603d7a7\">\n",
       "    <div class=\"colab-df-container\">\n",
       "      <div>\n",
       "<style scoped>\n",
       "    .dataframe tbody tr th:only-of-type {\n",
       "        vertical-align: middle;\n",
       "    }\n",
       "\n",
       "    .dataframe tbody tr th {\n",
       "        vertical-align: top;\n",
       "    }\n",
       "\n",
       "    .dataframe thead th {\n",
       "        text-align: right;\n",
       "    }\n",
       "</style>\n",
       "<table border=\"1\" class=\"dataframe\">\n",
       "  <thead>\n",
       "    <tr style=\"text-align: right;\">\n",
       "      <th></th>\n",
       "      <th>prompt</th>\n",
       "      <th>completion</th>\n",
       "    </tr>\n",
       "  </thead>\n",
       "  <tbody>\n",
       "    <tr>\n",
       "      <th>0</th>\n",
       "      <td>From: dougb@comm.mot.com (Doug Bank)\\nSubject:...</td>\n",
       "      <td>baseball</td>\n",
       "    </tr>\n",
       "    <tr>\n",
       "      <th>1</th>\n",
       "      <td>From: gld@cunixb.cc.columbia.edu (Gary L Dare)...</td>\n",
       "      <td>hockey</td>\n",
       "    </tr>\n",
       "    <tr>\n",
       "      <th>2</th>\n",
       "      <td>From: rudy@netcom.com (Rudy Wade)\\nSubject: Re...</td>\n",
       "      <td>baseball</td>\n",
       "    </tr>\n",
       "    <tr>\n",
       "      <th>3</th>\n",
       "      <td>From: monack@helium.gas.uug.arizona.edu (david...</td>\n",
       "      <td>hockey</td>\n",
       "    </tr>\n",
       "    <tr>\n",
       "      <th>4</th>\n",
       "      <td>Subject: Let it be Known\\nFrom: &lt;ISSBTL@BYUVM....</td>\n",
       "      <td>baseball</td>\n",
       "    </tr>\n",
       "  </tbody>\n",
       "</table>\n",
       "</div>\n",
       "      <button class=\"colab-df-convert\" onclick=\"convertToInteractive('df-d7466250-861a-4404-b53f-55d9b603d7a7')\"\n",
       "              title=\"Convert this dataframe to an interactive table.\"\n",
       "              style=\"display:none;\">\n",
       "\n",
       "  <svg xmlns=\"http://www.w3.org/2000/svg\" height=\"24px\"viewBox=\"0 0 24 24\"\n",
       "       width=\"24px\">\n",
       "    <path d=\"M0 0h24v24H0V0z\" fill=\"none\"/>\n",
       "    <path d=\"M18.56 5.44l.94 2.06.94-2.06 2.06-.94-2.06-.94-.94-2.06-.94 2.06-2.06.94zm-11 1L8.5 8.5l.94-2.06 2.06-.94-2.06-.94L8.5 2.5l-.94 2.06-2.06.94zm10 10l.94 2.06.94-2.06 2.06-.94-2.06-.94-.94-2.06-.94 2.06-2.06.94z\"/><path d=\"M17.41 7.96l-1.37-1.37c-.4-.4-.92-.59-1.43-.59-.52 0-1.04.2-1.43.59L10.3 9.45l-7.72 7.72c-.78.78-.78 2.05 0 2.83L4 21.41c.39.39.9.59 1.41.59.51 0 1.02-.2 1.41-.59l7.78-7.78 2.81-2.81c.8-.78.8-2.07 0-2.86zM5.41 20L4 18.59l7.72-7.72 1.47 1.35L5.41 20z\"/>\n",
       "  </svg>\n",
       "      </button>\n",
       "\n",
       "\n",
       "\n",
       "    <div id=\"df-ea9e2e95-2264-465e-bc06-6b39c5f23d1d\">\n",
       "      <button class=\"colab-df-quickchart\" onclick=\"quickchart('df-ea9e2e95-2264-465e-bc06-6b39c5f23d1d')\"\n",
       "              title=\"Suggest charts.\"\n",
       "              style=\"display:none;\">\n",
       "\n",
       "<svg xmlns=\"http://www.w3.org/2000/svg\" height=\"24px\"viewBox=\"0 0 24 24\"\n",
       "     width=\"24px\">\n",
       "    <g>\n",
       "        <path d=\"M19 3H5c-1.1 0-2 .9-2 2v14c0 1.1.9 2 2 2h14c1.1 0 2-.9 2-2V5c0-1.1-.9-2-2-2zM9 17H7v-7h2v7zm4 0h-2V7h2v10zm4 0h-2v-4h2v4z\"/>\n",
       "    </g>\n",
       "</svg>\n",
       "      </button>\n",
       "    </div>\n",
       "\n",
       "<style>\n",
       "  .colab-df-quickchart {\n",
       "    background-color: #E8F0FE;\n",
       "    border: none;\n",
       "    border-radius: 50%;\n",
       "    cursor: pointer;\n",
       "    display: none;\n",
       "    fill: #1967D2;\n",
       "    height: 32px;\n",
       "    padding: 0 0 0 0;\n",
       "    width: 32px;\n",
       "  }\n",
       "\n",
       "  .colab-df-quickchart:hover {\n",
       "    background-color: #E2EBFA;\n",
       "    box-shadow: 0px 1px 2px rgba(60, 64, 67, 0.3), 0px 1px 3px 1px rgba(60, 64, 67, 0.15);\n",
       "    fill: #174EA6;\n",
       "  }\n",
       "\n",
       "  [theme=dark] .colab-df-quickchart {\n",
       "    background-color: #3B4455;\n",
       "    fill: #D2E3FC;\n",
       "  }\n",
       "\n",
       "  [theme=dark] .colab-df-quickchart:hover {\n",
       "    background-color: #434B5C;\n",
       "    box-shadow: 0px 1px 3px 1px rgba(0, 0, 0, 0.15);\n",
       "    filter: drop-shadow(0px 1px 2px rgba(0, 0, 0, 0.3));\n",
       "    fill: #FFFFFF;\n",
       "  }\n",
       "</style>\n",
       "\n",
       "    <script>\n",
       "      async function quickchart(key) {\n",
       "        const containerElement = document.querySelector('#' + key);\n",
       "        const charts = await google.colab.kernel.invokeFunction(\n",
       "            'suggestCharts', [key], {});\n",
       "      }\n",
       "    </script>\n",
       "\n",
       "      <script>\n",
       "\n",
       "function displayQuickchartButton(domScope) {\n",
       "  let quickchartButtonEl =\n",
       "    domScope.querySelector('#df-ea9e2e95-2264-465e-bc06-6b39c5f23d1d button.colab-df-quickchart');\n",
       "  quickchartButtonEl.style.display =\n",
       "    google.colab.kernel.accessAllowed ? 'block' : 'none';\n",
       "}\n",
       "\n",
       "        displayQuickchartButton(document);\n",
       "      </script>\n",
       "      <style>\n",
       "    .colab-df-container {\n",
       "      display:flex;\n",
       "      flex-wrap:wrap;\n",
       "      gap: 12px;\n",
       "    }\n",
       "\n",
       "    .colab-df-convert {\n",
       "      background-color: #E8F0FE;\n",
       "      border: none;\n",
       "      border-radius: 50%;\n",
       "      cursor: pointer;\n",
       "      display: none;\n",
       "      fill: #1967D2;\n",
       "      height: 32px;\n",
       "      padding: 0 0 0 0;\n",
       "      width: 32px;\n",
       "    }\n",
       "\n",
       "    .colab-df-convert:hover {\n",
       "      background-color: #E2EBFA;\n",
       "      box-shadow: 0px 1px 2px rgba(60, 64, 67, 0.3), 0px 1px 3px 1px rgba(60, 64, 67, 0.15);\n",
       "      fill: #174EA6;\n",
       "    }\n",
       "\n",
       "    [theme=dark] .colab-df-convert {\n",
       "      background-color: #3B4455;\n",
       "      fill: #D2E3FC;\n",
       "    }\n",
       "\n",
       "    [theme=dark] .colab-df-convert:hover {\n",
       "      background-color: #434B5C;\n",
       "      box-shadow: 0px 1px 3px 1px rgba(0, 0, 0, 0.15);\n",
       "      filter: drop-shadow(0px 1px 2px rgba(0, 0, 0, 0.3));\n",
       "      fill: #FFFFFF;\n",
       "    }\n",
       "  </style>\n",
       "\n",
       "      <script>\n",
       "        const buttonEl =\n",
       "          document.querySelector('#df-d7466250-861a-4404-b53f-55d9b603d7a7 button.colab-df-convert');\n",
       "        buttonEl.style.display =\n",
       "          google.colab.kernel.accessAllowed ? 'block' : 'none';\n",
       "\n",
       "        async function convertToInteractive(key) {\n",
       "          const element = document.querySelector('#df-d7466250-861a-4404-b53f-55d9b603d7a7');\n",
       "          const dataTable =\n",
       "            await google.colab.kernel.invokeFunction('convertToInteractive',\n",
       "                                                     [key], {});\n",
       "          if (!dataTable) return;\n",
       "\n",
       "          const docLinkHtml = 'Like what you see? Visit the ' +\n",
       "            '<a target=\"_blank\" href=https://colab.research.google.com/notebooks/data_table.ipynb>data table notebook</a>'\n",
       "            + ' to learn more about interactive tables.';\n",
       "          element.innerHTML = '';\n",
       "          dataTable['output_type'] = 'display_data';\n",
       "          await google.colab.output.renderOutput(dataTable, element);\n",
       "          const docLink = document.createElement('div');\n",
       "          docLink.innerHTML = docLinkHtml;\n",
       "          element.appendChild(docLink);\n",
       "        }\n",
       "      </script>\n",
       "    </div>\n",
       "  </div>\n"
      ],
      "text/plain": [
       "                                              prompt completion\n",
       "0  From: dougb@comm.mot.com (Doug Bank)\\nSubject:...   baseball\n",
       "1  From: gld@cunixb.cc.columbia.edu (Gary L Dare)...     hockey\n",
       "2  From: rudy@netcom.com (Rudy Wade)\\nSubject: Re...   baseball\n",
       "3  From: monack@helium.gas.uug.arizona.edu (david...     hockey\n",
       "4  Subject: Let it be Known\\nFrom: <ISSBTL@BYUVM....   baseball"
      ]
     },
     "execution_count": 55,
     "metadata": {},
     "output_type": "execute_result"
    }
   ],
   "source": [
    "import pandas as pd\n",
    "#从数据集中提取标签信息\n",
    "labels = [sports_dataset.target_names[x].split('.')[-1] for x in sports_dataset['target']]\n",
    "#从数据集中提取文本信息\n",
    "texts = [text.strip() for text in sports_dataset['data']]\n",
    "#zip将标签和文本信息对应起来，然后指定为prompt和completion变量\n",
    "df = pd.DataFrame(zip(texts, labels), columns = ['prompt','completion']) #[:300]\n",
    "#查看数据\n",
    "df.head()"
   ]
  },
  {
   "cell_type": "code",
   "execution_count": null,
   "metadata": {
    "id": "0T4sgurKnv_9"
   },
   "outputs": [],
   "source": [
    "#将df格式的数据转换为jsonl数据，方便喂给大模型\n",
    "df.to_json(\"sports2.jsonl\",orient='records',lines=True)"
   ]
  },
  {
   "cell_type": "markdown",
   "metadata": {
    "id": "da6AOOHmrKMx"
   },
   "source": [
    "\n",
    "### 1.3 数据准备工具"
   ]
  },
  {
   "cell_type": "code",
   "execution_count": null,
   "metadata": {
    "colab": {
     "base_uri": "https://localhost:8080/"
    },
    "id": "E5os65FAngk3",
    "outputId": "e312136a-5c61-4f04-cf7a-a5625988feb4"
   },
   "outputs": [],
   "source": [
    "import openai\n",
    "openai.api_key=\"<自己的APIkey>\""
   ]
  },
  {
   "cell_type": "code",
   "execution_count": null,
   "metadata": {
    "colab": {
     "base_uri": "https://localhost:8080/"
    },
    "id": "pvghEUFcnv_9",
    "outputId": "e1889eea-ab54-4b54-b1ce-d686ff3770a0"
   },
   "outputs": [
    {
     "name": "stdout",
     "output_type": "stream",
     "text": [
      "Analyzing...\n",
      "\n",
      "- Your file contains 1197 prompt-completion pairs\n",
      "- Based on your data it seems like you're trying to fine-tune a model for classification\n",
      "- For classification, we recommend you try one of the faster and cheaper models, such as `ada`\n",
      "- For classification, you can estimate the expected model performance by keeping a held out dataset, which is not used for training\n",
      "- There are 11 examples that are very long. These are rows: [134, 200, 281, 320, 404, 595, 704, 838, 1113, 1139, 1174]\n",
      "For conditional generation, and for classification the examples shouldn't be longer than 2048 tokens.\n",
      "- Your data does not contain a common separator at the end of your prompts. Having a separator string appended to the end of the prompt makes it clearer to the fine-tuned model where the completion should begin. See https://platform.openai.com/docs/guides/fine-tuning/preparing-your-dataset for more detail and examples. If you intend to do open-ended generation, then you should leave the prompts empty\n",
      "- The completion should start with a whitespace character (` `). This tends to produce better results due to the tokenization we use. See https://platform.openai.com/docs/guides/fine-tuning/preparing-your-dataset for more details\n",
      "\n",
      "Based on the analysis we will perform the following actions:\n",
      "- [Recommended] Remove 11 long examples [Y/n]: Y\n",
      "- [Recommended] Add a suffix separator `\\n\\n###\\n\\n` to all prompts [Y/n]: Y\n",
      "- [Recommended] Add a whitespace character to the beginning of the completion [Y/n]: Y\n",
      "- [Recommended] Would you like to split into training and validation set? [Y/n]: Y\n",
      "\n",
      "\n",
      "Your data will be written to a new JSONL file. Proceed [Y/n]: Y\n",
      "\n",
      "Wrote modified files to `/content/sports2_prepared_train.jsonl` and `/content/sports2_prepared_valid.jsonl`\n",
      "Feel free to take a look!\n",
      "\n",
      "Now use that file when fine-tuning:\n",
      "> openai api fine_tunes.create -t \"/content/sports2_prepared_train.jsonl\" -v \"/content/sports2_prepared_valid.jsonl\" --compute_classification_metrics --classification_positive_class \" baseball\"\n",
      "\n",
      "After you’ve fine-tuned a model, remember that your prompt has to end with the indicator string `\\n\\n###\\n\\n` for the model to start generating completions, rather than continuing with the prompt.\n",
      "Once your model starts training, it'll approximately take 30.8 minutes to train a `curie` model, and less for `ada` and `babbage`. Queue will approximately take half an hour per job ahead of you.\n"
     ]
    }
   ],
   "source": [
    "!openai tools fine_tunes.prepare_data -f /content/sports2.jsonl -q"
   ]
  },
  {
   "cell_type": "markdown",
   "metadata": {
    "id": "1Azm1q8msHBZ"
   },
   "source": [
    "- 这个对数据集提出了一些改进建议，并将数据集划分为训练集和验证集。\n",
    "- 后缀`-q`用于告诉模型输入文本已经停止，现在需要预测类别。\n",
    "- `classification_positive_class`告诉模型是用来预测`baseball`\n",
    "- 还认识到这可能是一个分类任务，因此它建议将数据集分为训练和验证数据集。"
   ]
  },
  {
   "cell_type": "markdown",
   "metadata": {
    "id": "pzfX_dwlsJgw"
   },
   "source": [
    "### 1.4 微调模型"
   ]
  },
  {
   "cell_type": "markdown",
   "metadata": {
    "id": "z72m12ZuxyCG"
   },
   "source": [
    "- 复制建议的命令。\n",
    "- 添加了-m ada来微调更便宜、更快的ada模型，在分类上，它的性能通常与更慢、更昂贵的模型相当。\n",
    "\n",
    "\n"
   ]
  },
  {
   "cell_type": "markdown",
   "metadata": {
    "id": "c5oDz734uvj3"
   },
   "source": [
    "**多分类的写法**     \n",
    "openai api fine_tunes.create \\\n",
    "  -t \"TRAIN_FILE_ID_OR_PATH\" \\\n",
    "  -v \"VALIDATION_FILE_OR_PATH\" \\\n",
    "  -m \"MODEL\" \\\n",
    "  --compute_classification_metrics \\\n",
    "  --classification_n_classes \"NUMBER_OF_CLASSES\"\n",
    "\n",
    "\n",
    "**二分类的写法**    \n",
    "openai api fine_tunes.create \\\n",
    "  -t \"TRAIN_FILE_ID_OR_PATH\" \\\n",
    "  -v \"VALIDATION_FILE_OR_PATH\" \\\n",
    "  -m \"MODEL\" \\\n",
    "  --compute_classification_metrics \\\n",
    "  --classification_n_classes 2 \\\n",
    "  --classification_positive_class \"POSITIVE_CLASS_FROM_DATASET\"\n",
    "\n"
   ]
  },
  {
   "cell_type": "code",
   "execution_count": null,
   "metadata": {
    "colab": {
     "base_uri": "https://localhost:8080/"
    },
    "id": "iyDNP70iswGO",
    "outputId": "220057cc-f5a2-496f-c7bc-3da335f9df20"
   },
   "outputs": [
    {
     "name": "stdout",
     "output_type": "stream",
     "text": [
      "Found potentially duplicated files with name 'sports2_prepared_train.jsonl', purpose 'fine-tune' and size 1519036 bytes\n",
      "file-NelWQm9ndZmC2XbozmIOysDQ\n",
      "Enter file ID to reuse an already uploaded file, or an empty string to upload this file anyway: "
     ]
    }
   ],
   "source": [
    "!openai api fine_tunes.create -t \"/content/sports2_prepared_train.jsonl\" -v \"/content/sports2_prepared_valid.jsonl\" --compute_classification_metrics --classification_positive_class \" baseball\" -m ada"
   ]
  },
  {
   "cell_type": "markdown",
   "metadata": {
    "id": "Key67kO0NQKt"
   },
   "source": [
    "这里需要一些时间，可能还需要排队，等待时查看进度，复制fine tune名称，用于以后导出结果数据"
   ]
  },
  {
   "cell_type": "code",
   "execution_count": null,
   "metadata": {
    "colab": {
     "base_uri": "https://localhost:8080/"
    },
    "id": "iFB9jshiCJln",
    "outputId": "8d5e8b84-e0f6-47f7-fcf4-30af3c400bed"
   },
   "outputs": [],
   "source": [
    "!openai api fine_tunes.list\n",
    "#使用这句命令可以看微调进度"
   ]
  },
  {
   "cell_type": "markdown",
   "metadata": {
    "id": "VvMRSIapx9SN"
   },
   "source": [
    "### 1.5 模型表现"
   ]
  },
  {
   "cell_type": "code",
   "execution_count": null,
   "metadata": {
    "id": "eIzhduerx7wx"
   },
   "outputs": [],
   "source": [
    "!openai api fine_tunes.results -i ft-tHOGDK2IyfTfFR7kbh3N1Ees > result.csv\n",
    "#将微调的结果保存为result文件"
   ]
  },
  {
   "cell_type": "code",
   "execution_count": null,
   "metadata": {
    "colab": {
     "base_uri": "https://localhost:8080/",
     "height": 144
    },
    "id": "dqDvQYZzx70j",
    "outputId": "f75e45b9-871d-4f9b-e91c-60de58e706ee"
   },
   "outputs": [
    {
     "data": {
      "text/html": [
       "\n",
       "\n",
       "  <div id=\"df-0685bcd0-611b-4db3-b20b-eb285c279bb7\">\n",
       "    <div class=\"colab-df-container\">\n",
       "      <div>\n",
       "<style scoped>\n",
       "    .dataframe tbody tr th:only-of-type {\n",
       "        vertical-align: middle;\n",
       "    }\n",
       "\n",
       "    .dataframe tbody tr th {\n",
       "        vertical-align: top;\n",
       "    }\n",
       "\n",
       "    .dataframe thead th {\n",
       "        text-align: right;\n",
       "    }\n",
       "</style>\n",
       "<table border=\"1\" class=\"dataframe\">\n",
       "  <thead>\n",
       "    <tr style=\"text-align: right;\">\n",
       "      <th></th>\n",
       "      <th>step</th>\n",
       "      <th>elapsed_tokens</th>\n",
       "      <th>elapsed_examples</th>\n",
       "      <th>training_loss</th>\n",
       "      <th>training_sequence_accuracy</th>\n",
       "      <th>training_token_accuracy</th>\n",
       "      <th>validation_loss</th>\n",
       "      <th>validation_sequence_accuracy</th>\n",
       "      <th>validation_token_accuracy</th>\n",
       "      <th>classification/accuracy</th>\n",
       "      <th>classification/precision</th>\n",
       "      <th>classification/recall</th>\n",
       "      <th>classification/auroc</th>\n",
       "      <th>classification/auprc</th>\n",
       "      <th>classification/f1.0</th>\n",
       "    </tr>\n",
       "  </thead>\n",
       "  <tbody>\n",
       "    <tr>\n",
       "      <th>3721</th>\n",
       "      <td>3722</td>\n",
       "      <td>1693298</td>\n",
       "      <td>3722</td>\n",
       "      <td>0.015429</td>\n",
       "      <td>1.0</td>\n",
       "      <td>1.0</td>\n",
       "      <td>NaN</td>\n",
       "      <td>NaN</td>\n",
       "      <td>NaN</td>\n",
       "      <td>0.983193</td>\n",
       "      <td>0.97541</td>\n",
       "      <td>0.991667</td>\n",
       "      <td>0.999364</td>\n",
       "      <td>0.999391</td>\n",
       "      <td>0.983471</td>\n",
       "    </tr>\n",
       "  </tbody>\n",
       "</table>\n",
       "</div>\n",
       "      <button class=\"colab-df-convert\" onclick=\"convertToInteractive('df-0685bcd0-611b-4db3-b20b-eb285c279bb7')\"\n",
       "              title=\"Convert this dataframe to an interactive table.\"\n",
       "              style=\"display:none;\">\n",
       "\n",
       "  <svg xmlns=\"http://www.w3.org/2000/svg\" height=\"24px\"viewBox=\"0 0 24 24\"\n",
       "       width=\"24px\">\n",
       "    <path d=\"M0 0h24v24H0V0z\" fill=\"none\"/>\n",
       "    <path d=\"M18.56 5.44l.94 2.06.94-2.06 2.06-.94-2.06-.94-.94-2.06-.94 2.06-2.06.94zm-11 1L8.5 8.5l.94-2.06 2.06-.94-2.06-.94L8.5 2.5l-.94 2.06-2.06.94zm10 10l.94 2.06.94-2.06 2.06-.94-2.06-.94-.94-2.06-.94 2.06-2.06.94z\"/><path d=\"M17.41 7.96l-1.37-1.37c-.4-.4-.92-.59-1.43-.59-.52 0-1.04.2-1.43.59L10.3 9.45l-7.72 7.72c-.78.78-.78 2.05 0 2.83L4 21.41c.39.39.9.59 1.41.59.51 0 1.02-.2 1.41-.59l7.78-7.78 2.81-2.81c.8-.78.8-2.07 0-2.86zM5.41 20L4 18.59l7.72-7.72 1.47 1.35L5.41 20z\"/>\n",
       "  </svg>\n",
       "      </button>\n",
       "\n",
       "\n",
       "\n",
       "    <div id=\"df-53d63454-9822-4f96-82c6-937e8ebb07eb\">\n",
       "      <button class=\"colab-df-quickchart\" onclick=\"quickchart('df-53d63454-9822-4f96-82c6-937e8ebb07eb')\"\n",
       "              title=\"Suggest charts.\"\n",
       "              style=\"display:none;\">\n",
       "\n",
       "<svg xmlns=\"http://www.w3.org/2000/svg\" height=\"24px\"viewBox=\"0 0 24 24\"\n",
       "     width=\"24px\">\n",
       "    <g>\n",
       "        <path d=\"M19 3H5c-1.1 0-2 .9-2 2v14c0 1.1.9 2 2 2h14c1.1 0 2-.9 2-2V5c0-1.1-.9-2-2-2zM9 17H7v-7h2v7zm4 0h-2V7h2v10zm4 0h-2v-4h2v4z\"/>\n",
       "    </g>\n",
       "</svg>\n",
       "      </button>\n",
       "    </div>\n",
       "\n",
       "<style>\n",
       "  .colab-df-quickchart {\n",
       "    background-color: #E8F0FE;\n",
       "    border: none;\n",
       "    border-radius: 50%;\n",
       "    cursor: pointer;\n",
       "    display: none;\n",
       "    fill: #1967D2;\n",
       "    height: 32px;\n",
       "    padding: 0 0 0 0;\n",
       "    width: 32px;\n",
       "  }\n",
       "\n",
       "  .colab-df-quickchart:hover {\n",
       "    background-color: #E2EBFA;\n",
       "    box-shadow: 0px 1px 2px rgba(60, 64, 67, 0.3), 0px 1px 3px 1px rgba(60, 64, 67, 0.15);\n",
       "    fill: #174EA6;\n",
       "  }\n",
       "\n",
       "  [theme=dark] .colab-df-quickchart {\n",
       "    background-color: #3B4455;\n",
       "    fill: #D2E3FC;\n",
       "  }\n",
       "\n",
       "  [theme=dark] .colab-df-quickchart:hover {\n",
       "    background-color: #434B5C;\n",
       "    box-shadow: 0px 1px 3px 1px rgba(0, 0, 0, 0.15);\n",
       "    filter: drop-shadow(0px 1px 2px rgba(0, 0, 0, 0.3));\n",
       "    fill: #FFFFFF;\n",
       "  }\n",
       "</style>\n",
       "\n",
       "    <script>\n",
       "      async function quickchart(key) {\n",
       "        const containerElement = document.querySelector('#' + key);\n",
       "        const charts = await google.colab.kernel.invokeFunction(\n",
       "            'suggestCharts', [key], {});\n",
       "      }\n",
       "    </script>\n",
       "\n",
       "      <script>\n",
       "\n",
       "function displayQuickchartButton(domScope) {\n",
       "  let quickchartButtonEl =\n",
       "    domScope.querySelector('#df-53d63454-9822-4f96-82c6-937e8ebb07eb button.colab-df-quickchart');\n",
       "  quickchartButtonEl.style.display =\n",
       "    google.colab.kernel.accessAllowed ? 'block' : 'none';\n",
       "}\n",
       "\n",
       "        displayQuickchartButton(document);\n",
       "      </script>\n",
       "      <style>\n",
       "    .colab-df-container {\n",
       "      display:flex;\n",
       "      flex-wrap:wrap;\n",
       "      gap: 12px;\n",
       "    }\n",
       "\n",
       "    .colab-df-convert {\n",
       "      background-color: #E8F0FE;\n",
       "      border: none;\n",
       "      border-radius: 50%;\n",
       "      cursor: pointer;\n",
       "      display: none;\n",
       "      fill: #1967D2;\n",
       "      height: 32px;\n",
       "      padding: 0 0 0 0;\n",
       "      width: 32px;\n",
       "    }\n",
       "\n",
       "    .colab-df-convert:hover {\n",
       "      background-color: #E2EBFA;\n",
       "      box-shadow: 0px 1px 2px rgba(60, 64, 67, 0.3), 0px 1px 3px 1px rgba(60, 64, 67, 0.15);\n",
       "      fill: #174EA6;\n",
       "    }\n",
       "\n",
       "    [theme=dark] .colab-df-convert {\n",
       "      background-color: #3B4455;\n",
       "      fill: #D2E3FC;\n",
       "    }\n",
       "\n",
       "    [theme=dark] .colab-df-convert:hover {\n",
       "      background-color: #434B5C;\n",
       "      box-shadow: 0px 1px 3px 1px rgba(0, 0, 0, 0.15);\n",
       "      filter: drop-shadow(0px 1px 2px rgba(0, 0, 0, 0.3));\n",
       "      fill: #FFFFFF;\n",
       "    }\n",
       "  </style>\n",
       "\n",
       "      <script>\n",
       "        const buttonEl =\n",
       "          document.querySelector('#df-0685bcd0-611b-4db3-b20b-eb285c279bb7 button.colab-df-convert');\n",
       "        buttonEl.style.display =\n",
       "          google.colab.kernel.accessAllowed ? 'block' : 'none';\n",
       "\n",
       "        async function convertToInteractive(key) {\n",
       "          const element = document.querySelector('#df-0685bcd0-611b-4db3-b20b-eb285c279bb7');\n",
       "          const dataTable =\n",
       "            await google.colab.kernel.invokeFunction('convertToInteractive',\n",
       "                                                     [key], {});\n",
       "          if (!dataTable) return;\n",
       "\n",
       "          const docLinkHtml = 'Like what you see? Visit the ' +\n",
       "            '<a target=\"_blank\" href=https://colab.research.google.com/notebooks/data_table.ipynb>data table notebook</a>'\n",
       "            + ' to learn more about interactive tables.';\n",
       "          element.innerHTML = '';\n",
       "          dataTable['output_type'] = 'display_data';\n",
       "          await google.colab.output.renderOutput(dataTable, element);\n",
       "          const docLink = document.createElement('div');\n",
       "          docLink.innerHTML = docLinkHtml;\n",
       "          element.appendChild(docLink);\n",
       "        }\n",
       "      </script>\n",
       "    </div>\n",
       "  </div>\n"
      ],
      "text/plain": [
       "      step  elapsed_tokens  elapsed_examples  training_loss  \\\n",
       "3721  3722         1693298              3722       0.015429   \n",
       "\n",
       "      training_sequence_accuracy  training_token_accuracy  validation_loss  \\\n",
       "3721                         1.0                      1.0              NaN   \n",
       "\n",
       "      validation_sequence_accuracy  validation_token_accuracy  \\\n",
       "3721                           NaN                        NaN   \n",
       "\n",
       "      classification/accuracy  classification/precision  \\\n",
       "3721                 0.983193                   0.97541   \n",
       "\n",
       "      classification/recall  classification/auroc  classification/auprc  \\\n",
       "3721               0.991667              0.999364              0.999391   \n",
       "\n",
       "      classification/f1.0  \n",
       "3721             0.983471  "
      ]
     },
     "execution_count": 32,
     "metadata": {},
     "output_type": "execute_result"
    }
   ],
   "source": [
    "#读取result数据查看结果，查看模型表现：例如分类准确率、召回率、ROC等\n",
    "results = pd.read_csv('result.csv')\n",
    "results[results['classification/accuracy'].notnull()].tail(1)"
   ]
  },
  {
   "cell_type": "code",
   "execution_count": null,
   "metadata": {
    "colab": {
     "base_uri": "https://localhost:8080/",
     "height": 447
    },
    "id": "J0Zw0eOOx739",
    "outputId": "341ad728-af9c-41ab-ea81-3a054e81e8e2"
   },
   "outputs": [
    {
     "data": {
      "text/plain": [
       "<Axes: >"
      ]
     },
     "execution_count": 33,
     "metadata": {},
     "output_type": "execute_result"
    },
    {
     "data": {
      "image/png": "[encoded data removed]",
      "text/plain": [
       "<Figure size 640x480 with 1 Axes>"
      ]
     },
     "metadata": {},
     "output_type": "display_data"
    }
   ],
   "source": [
    "results[results['classification/accuracy'].notnull()]['classification/accuracy'].plot()"
   ]
  },
  {
   "cell_type": "markdown",
   "metadata": {
    "id": "hl9jHOoLyIV9"
   },
   "source": [
    "可以看到在训练运行期间验证集的准确性是如何增加的。"
   ]
  },
  {
   "cell_type": "markdown",
   "metadata": {
    "id": "JK2RGI0hyMOO"
   },
   "source": [
    "### 1.6 使用模型\n"
   ]
  },
  {
   "cell_type": "code",
   "execution_count": null,
   "metadata": {
    "colab": {
     "base_uri": "https://localhost:8080/"
    },
    "id": "CCblbcqYyqC9",
    "outputId": "20c06905-e999-4ebb-91e5-7416d1b518ff"
   },
   "outputs": [
    {
     "name": "stdout",
     "output_type": "stream",
     "text": [
      "                                                prompt completion\n",
      "921  From: dtate+@pitt.edu (David M. Tate)\\nSubject...   baseball\n",
      "321  From: golchowy@alchemy.chem.utoronto.ca (Geral...     hockey\n",
      "101  From: kenney@tribe.b17d.ingr.COM (David Kenney...   baseball\n",
      "920  From: cmk@athena.mit.edu (Charles M Kozierok)\\...   baseball\n",
      "58   From: filinuk@staff.dccs.upenn.edu (Geoff Fili...     hockey\n",
      "..                                                 ...        ...\n",
      "47   From: rsmith@strobe.ATC.Olivetti.Com (Russ Smi...   baseball\n",
      "318  From: kbanaian@bernard.pitzer.claremont.edu (K...   baseball\n",
      "106  From: ayim@leibniz.uwaterloo.ca (Alfred Yim)\\n...     hockey\n",
      "793  From: maynard@ramsey.cs.laurentian.ca (Roger M...     hockey\n",
      "55   From: ccox@math.nwu.edu (Christopher L. Cox)\\n...   baseball\n",
      "\n",
      "[359 rows x 2 columns]\n"
     ]
    }
   ],
   "source": [
    "#从原数据中抽取一部分得到一个小小的测试集\n",
    "test= df.sample(frac=0.3, random_state=42)\n",
    "print(test)\n",
    "json_filename = \"test_data.json\"\n",
    "test = df.to_json(json_filename, orient=\"records\")"
   ]
  },
  {
   "cell_type": "markdown",
   "metadata": {
    "id": "2K-pv2wZyZTG"
   },
   "source": [
    "\n",
    "\n",
    "我们需要在提示符后面使用与微调期间使用的相同的分隔符。在这种情况下，它是\\n\\n###\\n\\n。由于我们关注的是分类，所以我们希望temperature尽可能低，并且我们只需要一个token完成来确定模型的预测。"
   ]
  },
  {
   "cell_type": "code",
   "execution_count": null,
   "metadata": {
    "colab": {
     "base_uri": "https://localhost:8080/",
     "height": 206
    },
    "id": "c-aPvCFCFydy",
    "outputId": "6ca6c6f1-7ed4-46cb-abbe-e17903c449d4"
   },
   "outputs": [
    {
     "data": {
      "text/html": [
       "\n",
       "\n",
       "  <div id=\"df-2bd3ffbc-07b5-4527-a474-fd876e551e13\">\n",
       "    <div class=\"colab-df-container\">\n",
       "      <div>\n",
       "<style scoped>\n",
       "    .dataframe tbody tr th:only-of-type {\n",
       "        vertical-align: middle;\n",
       "    }\n",
       "\n",
       "    .dataframe tbody tr th {\n",
       "        vertical-align: top;\n",
       "    }\n",
       "\n",
       "    .dataframe thead th {\n",
       "        text-align: right;\n",
       "    }\n",
       "</style>\n",
       "<table border=\"1\" class=\"dataframe\">\n",
       "  <thead>\n",
       "    <tr style=\"text-align: right;\">\n",
       "      <th></th>\n",
       "      <th>prompt</th>\n",
       "      <th>completion</th>\n",
       "    </tr>\n",
       "  </thead>\n",
       "  <tbody>\n",
       "    <tr>\n",
       "      <th>0</th>\n",
       "      <td>From: dougb@comm.mot.com (Doug Bank)\\nSubject:...</td>\n",
       "      <td>baseball</td>\n",
       "    </tr>\n",
       "    <tr>\n",
       "      <th>1</th>\n",
       "      <td>From: gld@cunixb.cc.columbia.edu (Gary L Dare)...</td>\n",
       "      <td>hockey</td>\n",
       "    </tr>\n",
       "    <tr>\n",
       "      <th>2</th>\n",
       "      <td>From: rudy@netcom.com (Rudy Wade)\\nSubject: Re...</td>\n",
       "      <td>baseball</td>\n",
       "    </tr>\n",
       "    <tr>\n",
       "      <th>3</th>\n",
       "      <td>From: monack@helium.gas.uug.arizona.edu (david...</td>\n",
       "      <td>hockey</td>\n",
       "    </tr>\n",
       "    <tr>\n",
       "      <th>4</th>\n",
       "      <td>Subject: Let it be Known\\nFrom: &lt;ISSBTL@BYUVM....</td>\n",
       "      <td>baseball</td>\n",
       "    </tr>\n",
       "  </tbody>\n",
       "</table>\n",
       "</div>\n",
       "      <button class=\"colab-df-convert\" onclick=\"convertToInteractive('df-2bd3ffbc-07b5-4527-a474-fd876e551e13')\"\n",
       "              title=\"Convert this dataframe to an interactive table.\"\n",
       "              style=\"display:none;\">\n",
       "\n",
       "  <svg xmlns=\"http://www.w3.org/2000/svg\" height=\"24px\"viewBox=\"0 0 24 24\"\n",
       "       width=\"24px\">\n",
       "    <path d=\"M0 0h24v24H0V0z\" fill=\"none\"/>\n",
       "    <path d=\"M18.56 5.44l.94 2.06.94-2.06 2.06-.94-2.06-.94-.94-2.06-.94 2.06-2.06.94zm-11 1L8.5 8.5l.94-2.06 2.06-.94-2.06-.94L8.5 2.5l-.94 2.06-2.06.94zm10 10l.94 2.06.94-2.06 2.06-.94-2.06-.94-.94-2.06-.94 2.06-2.06.94z\"/><path d=\"M17.41 7.96l-1.37-1.37c-.4-.4-.92-.59-1.43-.59-.52 0-1.04.2-1.43.59L10.3 9.45l-7.72 7.72c-.78.78-.78 2.05 0 2.83L4 21.41c.39.39.9.59 1.41.59.51 0 1.02-.2 1.41-.59l7.78-7.78 2.81-2.81c.8-.78.8-2.07 0-2.86zM5.41 20L4 18.59l7.72-7.72 1.47 1.35L5.41 20z\"/>\n",
       "  </svg>\n",
       "      </button>\n",
       "\n",
       "\n",
       "\n",
       "    <div id=\"df-b5f32c20-cb17-4d0e-920a-851340c336ec\">\n",
       "      <button class=\"colab-df-quickchart\" onclick=\"quickchart('df-b5f32c20-cb17-4d0e-920a-851340c336ec')\"\n",
       "              title=\"Suggest charts.\"\n",
       "              style=\"display:none;\">\n",
       "\n",
       "<svg xmlns=\"http://www.w3.org/2000/svg\" height=\"24px\"viewBox=\"0 0 24 24\"\n",
       "     width=\"24px\">\n",
       "    <g>\n",
       "        <path d=\"M19 3H5c-1.1 0-2 .9-2 2v14c0 1.1.9 2 2 2h14c1.1 0 2-.9 2-2V5c0-1.1-.9-2-2-2zM9 17H7v-7h2v7zm4 0h-2V7h2v10zm4 0h-2v-4h2v4z\"/>\n",
       "    </g>\n",
       "</svg>\n",
       "      </button>\n",
       "    </div>\n",
       "\n",
       "<style>\n",
       "  .colab-df-quickchart {\n",
       "    background-color: #E8F0FE;\n",
       "    border: none;\n",
       "    border-radius: 50%;\n",
       "    cursor: pointer;\n",
       "    display: none;\n",
       "    fill: #1967D2;\n",
       "    height: 32px;\n",
       "    padding: 0 0 0 0;\n",
       "    width: 32px;\n",
       "  }\n",
       "\n",
       "  .colab-df-quickchart:hover {\n",
       "    background-color: #E2EBFA;\n",
       "    box-shadow: 0px 1px 2px rgba(60, 64, 67, 0.3), 0px 1px 3px 1px rgba(60, 64, 67, 0.15);\n",
       "    fill: #174EA6;\n",
       "  }\n",
       "\n",
       "  [theme=dark] .colab-df-quickchart {\n",
       "    background-color: #3B4455;\n",
       "    fill: #D2E3FC;\n",
       "  }\n",
       "\n",
       "  [theme=dark] .colab-df-quickchart:hover {\n",
       "    background-color: #434B5C;\n",
       "    box-shadow: 0px 1px 3px 1px rgba(0, 0, 0, 0.15);\n",
       "    filter: drop-shadow(0px 1px 2px rgba(0, 0, 0, 0.3));\n",
       "    fill: #FFFFFF;\n",
       "  }\n",
       "</style>\n",
       "\n",
       "    <script>\n",
       "      async function quickchart(key) {\n",
       "        const containerElement = document.querySelector('#' + key);\n",
       "        const charts = await google.colab.kernel.invokeFunction(\n",
       "            'suggestCharts', [key], {});\n",
       "      }\n",
       "    </script>\n",
       "\n",
       "      <script>\n",
       "\n",
       "function displayQuickchartButton(domScope) {\n",
       "  let quickchartButtonEl =\n",
       "    domScope.querySelector('#df-b5f32c20-cb17-4d0e-920a-851340c336ec button.colab-df-quickchart');\n",
       "  quickchartButtonEl.style.display =\n",
       "    google.colab.kernel.accessAllowed ? 'block' : 'none';\n",
       "}\n",
       "\n",
       "        displayQuickchartButton(document);\n",
       "      </script>\n",
       "      <style>\n",
       "    .colab-df-container {\n",
       "      display:flex;\n",
       "      flex-wrap:wrap;\n",
       "      gap: 12px;\n",
       "    }\n",
       "\n",
       "    .colab-df-convert {\n",
       "      background-color: #E8F0FE;\n",
       "      border: none;\n",
       "      border-radius: 50%;\n",
       "      cursor: pointer;\n",
       "      display: none;\n",
       "      fill: #1967D2;\n",
       "      height: 32px;\n",
       "      padding: 0 0 0 0;\n",
       "      width: 32px;\n",
       "    }\n",
       "\n",
       "    .colab-df-convert:hover {\n",
       "      background-color: #E2EBFA;\n",
       "      box-shadow: 0px 1px 2px rgba(60, 64, 67, 0.3), 0px 1px 3px 1px rgba(60, 64, 67, 0.15);\n",
       "      fill: #174EA6;\n",
       "    }\n",
       "\n",
       "    [theme=dark] .colab-df-convert {\n",
       "      background-color: #3B4455;\n",
       "      fill: #D2E3FC;\n",
       "    }\n",
       "\n",
       "    [theme=dark] .colab-df-convert:hover {\n",
       "      background-color: #434B5C;\n",
       "      box-shadow: 0px 1px 3px 1px rgba(0, 0, 0, 0.15);\n",
       "      filter: drop-shadow(0px 1px 2px rgba(0, 0, 0, 0.3));\n",
       "      fill: #FFFFFF;\n",
       "    }\n",
       "  </style>\n",
       "\n",
       "      <script>\n",
       "        const buttonEl =\n",
       "          document.querySelector('#df-2bd3ffbc-07b5-4527-a474-fd876e551e13 button.colab-df-convert');\n",
       "        buttonEl.style.display =\n",
       "          google.colab.kernel.accessAllowed ? 'block' : 'none';\n",
       "\n",
       "        async function convertToInteractive(key) {\n",
       "          const element = document.querySelector('#df-2bd3ffbc-07b5-4527-a474-fd876e551e13');\n",
       "          const dataTable =\n",
       "            await google.colab.kernel.invokeFunction('convertToInteractive',\n",
       "                                                     [key], {});\n",
       "          if (!dataTable) return;\n",
       "\n",
       "          const docLinkHtml = 'Like what you see? Visit the ' +\n",
       "            '<a target=\"_blank\" href=https://colab.research.google.com/notebooks/data_table.ipynb>data table notebook</a>'\n",
       "            + ' to learn more about interactive tables.';\n",
       "          element.innerHTML = '';\n",
       "          dataTable['output_type'] = 'display_data';\n",
       "          await google.colab.output.renderOutput(dataTable, element);\n",
       "          const docLink = document.createElement('div');\n",
       "          docLink.innerHTML = docLinkHtml;\n",
       "          element.appendChild(docLink);\n",
       "        }\n",
       "      </script>\n",
       "    </div>\n",
       "  </div>\n"
      ],
      "text/plain": [
       "                                              prompt completion\n",
       "0  From: dougb@comm.mot.com (Doug Bank)\\nSubject:...   baseball\n",
       "1  From: gld@cunixb.cc.columbia.edu (Gary L Dare)...     hockey\n",
       "2  From: rudy@netcom.com (Rudy Wade)\\nSubject: Re...   baseball\n",
       "3  From: monack@helium.gas.uug.arizona.edu (david...     hockey\n",
       "4  Subject: Let it be Known\\nFrom: <ISSBTL@BYUVM....   baseball"
      ]
     },
     "execution_count": 67,
     "metadata": {},
     "output_type": "execute_result"
    }
   ],
   "source": [
    "\n",
    "test = pd.read_json('test_data.json')\n",
    "test.head()"
   ]
  },
  {
   "cell_type": "code",
   "execution_count": null,
   "metadata": {
    "colab": {
     "base_uri": "https://localhost:8080/"
    },
    "id": "dj73JwvyyXRQ",
    "outputId": "047002d6-9215-4b3c-8933-91eedfcfe769"
   },
   "outputs": [
    {
     "data": {
      "text/plain": [
       "<OpenAIObject at 0x7c879c484130> JSON: {\n",
       "  \" hockey\": -10.444916,\n",
       "  \" baseball\": -5.7057543e-05\n",
       "}"
      ]
     },
     "execution_count": 76,
     "metadata": {},
     "output_type": "execute_result"
    }
   ],
   "source": [
    "ft_model = 'ada:ft-personal-2023-08-14-06-38-15' #输入微调后的模型名\n",
    "openai.api_key=\"<自己的APIkey>\"\n",
    "res = openai.Completion.create(model=ft_model, prompt=test['prompt'][0] + '\\n\\n###\\n\\n', max_tokens=1, temperature=0, logprobs=2)\n",
    "res['choices'][0]['logprobs']['top_logprobs'][0]"
   ]
  },
  {
   "cell_type": "markdown",
   "metadata": {
    "id": "Cq3QbupjzBO_"
   },
   "source": [
    "### 1.7 模型泛化\n"
   ]
  },
  {
   "cell_type": "code",
   "execution_count": null,
   "metadata": {
    "colab": {
     "base_uri": "https://localhost:8080/",
     "height": 35
    },
    "id": "2gmxeq0-zDvN",
    "outputId": "a623aeda-4717-4837-cf8f-11bc91b49c90"
   },
   "outputs": [
    {
     "data": {
      "application/vnd.google.colaboratory.intrinsic+json": {
       "type": "string"
      },
      "text/plain": [
       "' hockey'"
      ]
     },
     "execution_count": 77,
     "metadata": {},
     "output_type": "execute_result"
    }
   ],
   "source": [
    "sample_hockey_tweet = \"\"\"Thank you to the\n",
    "@Canes\n",
    " and all you amazing Caniacs that have been so supportive! You guys are some of the best fans in the NHL without a doubt! Really excited to start this new chapter in my career with the\n",
    "@DetroitRedWings\n",
    " !!\"\"\"\n",
    "res = openai.Completion.create(model=ft_model, prompt=sample_hockey_tweet + '\\n\\n###\\n\\n', max_tokens=1, temperature=0, logprobs=2)\n",
    "res['choices'][0]['text']"
   ]
  },
  {
   "cell_type": "code",
   "execution_count": null,
   "metadata": {
    "colab": {
     "base_uri": "https://localhost:8080/",
     "height": 35
    },
    "id": "G7volw9PzD6d",
    "outputId": "94d52cb1-48f7-4ac5-fd70-e12fbab7e5db"
   },
   "outputs": [
    {
     "data": {
      "application/vnd.google.colaboratory.intrinsic+json": {
       "type": "string"
      },
      "text/plain": [
       "' baseball'"
      ]
     },
     "execution_count": 78,
     "metadata": {},
     "output_type": "execute_result"
    }
   ],
   "source": [
    "sample_baseball_tweet=\"\"\"BREAKING: The Tampa Bay Rays are finalizing a deal to acquire slugger Nelson Cruz from the Minnesota Twins, sources tell ESPN.\"\"\"\n",
    "res = openai.Completion.create(model=ft_model, prompt=sample_baseball_tweet + '\\n\\n###\\n\\n', max_tokens=1, temperature=0, logprobs=2)\n",
    "res['choices'][0]['text']"
   ]
  },
  {
   "cell_type": "code",
   "execution_count": null,
   "metadata": {
    "colab": {
     "base_uri": "https://localhost:8080/",
     "height": 35
    },
    "id": "najUMZNZH9Xe",
    "outputId": "ec01ee29-763c-481c-b1f7-87c61199cc73"
   },
   "outputs": [
    {
     "data": {
      "application/vnd.google.colaboratory.intrinsic+json": {
       "type": "string"
      },
      "text/plain": [
       "' hockey'"
      ]
     },
     "execution_count": 79,
     "metadata": {},
     "output_type": "execute_result"
    }
   ],
   "source": [
    "#自己找个新闻test一下模型准确性：https://archive.seattletimes.com/archive/?date=19980201&slug=2731989\n",
    "sample_twitter=\"\"\"\n",
    "GARMISCH-PARTENKIRCHEN, Germany - Austria's Andreas Schifferer won his fourth World Cup downhill of the season, establishing himself as the gold medal favorite for the Olympics.\n",
    "\"Sure, the win gives me confidence and I'm in good form,\" Schifferer said of his chances at Nagano. \"But form doesn't count, a medal does.\"\n",
    "Schifferer finished in 1 minute, 54.82 seconds.\"\"\"\n",
    "res = openai.Completion.create(model=ft_model, prompt=sample_twitter + '\\n\\n###\\n\\n', max_tokens=1, temperature=0, logprobs=2)\n",
    "res['choices'][0]['text']"
   ]
  },
  {
   "cell_type": "markdown",
   "metadata": {
    "id": "I4p3sFa_B9bz"
   },
   "source": [
    "### 附加案例：使用多分类数据"
   ]
  },
  {
   "cell_type": "code",
   "execution_count": 3,
   "metadata": {
    "colab": {
     "base_uri": "https://localhost:8080/",
     "height": 723
    },
    "id": "Pr6vs6FpzD_M",
    "outputId": "e3f43308-8e11-499d-929d-25a5ff6aacc1"
   },
   "outputs": [],
   "source": [
    "#使用一个新数据\n",
    "#!pip install openai\n",
    "import openai\n",
    "import pandas as pd\n",
    "####如果网络问题导致本地失败的话，在colab使用环境变量的设置方法；\n",
    "import os\n",
    "#os.environ['OPENAI_API_KEY'] = \"<你的api>\"\n",
    "#print(os.getenv('OPENAI_API_KEY'))\n",
    "#####如果本地网络可以用，就在本地使用API_key调用方法。\n",
    "#openai.api_key=\"<你的key>....\"\n",
    "df=pd.read_csv(\"apple_tw.csv\")\n",
    "new_column_names = {\n",
    "    \"text\": \"prompt\",\n",
    "    \"sentiment\": \"completion\"\n",
    "}\n",
    "df.rename(columns=new_column_names, inplace=True)\n",
    "df.head()\n",
    "df.to_json(\"sentiment.jsonl\",orient='records',lines=True)"
   ]
  },
  {
   "cell_type": "code",
   "execution_count": null,
   "metadata": {
    "colab": {
     "base_uri": "https://localhost:8080/"
    },
    "id": "iWdx5XQ-7S6w",
    "outputId": "d2e157e1-f8e5-4cad-a0cb-495291bee87e"
   },
   "outputs": [
    {
     "name": "stdout",
     "output_type": "stream",
     "text": [
      "Analyzing...\n",
      "\n",
      "- Your file contains 1630 prompt-completion pairs\n",
      "- Based on your data it seems like you're trying to fine-tune a model for classification\n",
      "- For classification, we recommend you try one of the faster and cheaper models, such as `ada`\n",
      "- For classification, you can estimate the expected model performance by keeping a held out dataset, which is not used for training\n",
      "- There are 6 duplicated prompt-completion sets. These are rows: [412, 824, 1253, 1255, 1580, 1609]\n",
      "- Your data does not contain a common separator at the end of your prompts. Having a separator string appended to the end of the prompt makes it clearer to the fine-tuned model where the completion should begin. See https://platform.openai.com/docs/guides/fine-tuning/preparing-your-dataset for more detail and examples. If you intend to do open-ended generation, then you should leave the prompts empty\n",
      "- The completion should start with a whitespace character (` `). This tends to produce better results due to the tokenization we use. See https://platform.openai.com/docs/guides/fine-tuning/preparing-your-dataset for more details\n",
      "\n",
      "Based on the analysis we will perform the following actions:\n",
      "- [Recommended] Remove 6 duplicate rows [Y/n]: Y\n",
      "- [Recommended] Add a suffix separator `\\n\\n###\\n\\n` to all prompts [Y/n]: Y\n",
      "/usr/local/lib/python3.10/dist-packages/openai/validators.py:226: SettingWithCopyWarning: \n",
      "A value is trying to be set on a copy of a slice from a DataFrame.\n",
      "Try using .loc[row_indexer,col_indexer] = value instead\n",
      "\n",
      "See the caveats in the documentation: https://pandas.pydata.org/pandas-docs/stable/user_guide/indexing.html#returning-a-view-versus-a-copy\n",
      "  x[\"prompt\"] += suffix\n",
      "- [Recommended] Add a whitespace character to the beginning of the completion [Y/n]: Y\n",
      "/usr/local/lib/python3.10/dist-packages/openai/validators.py:425: SettingWithCopyWarning: \n",
      "A value is trying to be set on a copy of a slice from a DataFrame.\n",
      "Try using .loc[row_indexer,col_indexer] = value instead\n",
      "\n",
      "See the caveats in the documentation: https://pandas.pydata.org/pandas-docs/stable/user_guide/indexing.html#returning-a-view-versus-a-copy\n",
      "  x[\"completion\"] = x[\"completion\"].apply(\n",
      "- [Recommended] Would you like to split into training and validation set? [Y/n]: Y\n",
      "\n",
      "\n",
      "Your data will be written to a new JSONL file. Proceed [Y/n]: Y\n",
      "\n",
      "Wrote modified files to `/content/sentiment_prepared_train.jsonl` and `/content/sentiment_prepared_valid.jsonl`\n",
      "Feel free to take a look!\n",
      "\n",
      "Now use that file when fine-tuning:\n",
      "> openai api fine_tunes.create -t \"/content/sentiment_prepared_train.jsonl\" -v \"/content/sentiment_prepared_valid.jsonl\" --compute_classification_metrics --classification_n_classes 3\n",
      "\n",
      "After you’ve fine-tuned a model, remember that your prompt has to end with the indicator string `\\n\\n###\\n\\n` for the model to start generating completions, rather than continuing with the prompt.\n",
      "Once your model starts training, it'll approximately take 41.31 minutes to train a `curie` model, and less for `ada` and `babbage`. Queue will approximately take half an hour per job ahead of you.\n"
     ]
    }
   ],
   "source": [
    "#\"/content/sentiment.jsonl\"改为自己的文件路径\n",
    "!openai tools fine_tunes.prepare_data -f /content/sentiment.jsonl -q"
   ]
  },
  {
   "cell_type": "code",
   "execution_count": null,
   "metadata": {
    "colab": {
     "base_uri": "https://localhost:8080/"
    },
    "id": "j3pYEm8X8na7",
    "outputId": "6df4c68f-c6c0-4db0-ccc3-ac3096056526"
   },
   "outputs": [
    {
     "name": "stdout",
     "output_type": "stream",
     "text": [
      "\r",
      "Upload progress:   0% 0.00/183k [00:00<?, ?it/s]\r",
      "Upload progress: 100% 183k/183k [00:00<00:00, 81.6Mit/s]\n",
      "Uploaded file from /content/sentiment_prepared_train.jsonl: file-XQWvqdoEcC9I8m6LkC6hW51P\n",
      "Upload progress: 100% 45.5k/45.5k [00:00<00:00, 67.0Mit/s]\n",
      "Uploaded file from /content/sentiment_prepared_valid.jsonl: file-8iE4kO67VPm61wMQpKXLh0EU\n",
      "Created fine-tune: ft-dOQm0t9tn09Da2NBW44htBDf\n",
      "Streaming events until fine-tuning is complete...\n",
      "\n",
      "(Ctrl-C will interrupt the stream, but not cancel the fine-tune)\n",
      "[2023-08-14 07:29:56] Created fine-tune: ft-dOQm0t9tn09Da2NBW44htBDf\n",
      "[2023-08-14 07:30:08] Fine-tune costs $0.07\n",
      "[2023-08-14 07:30:08] Fine-tune enqueued. Queue number: 0\n",
      "[2023-08-14 07:30:09] Fine-tune started\n",
      "\n"
     ]
    }
   ],
   "source": [
    "#\"/content/sentiment_prepared_train.jsonl\" 改成自己的路径\n",
    "!openai api fine_tunes.create -t \"/content/sentiment_prepared_train.jsonl\" -v \"/content/sentiment_prepared_valid.jsonl\" --compute_classification_metrics --classification_n_classes 3 -m ada"
   ]
  },
  {
   "cell_type": "code",
   "execution_count": null,
   "metadata": {
    "colab": {
     "base_uri": "https://localhost:8080/"
    },
    "id": "Rg6jfVb9-tPp",
    "outputId": "9432bf43-f26a-48dc-a501-9bf0f930b994"
   },
   "outputs": [
    {
     "name": "stdout",
     "output_type": "stream",
     "text": [
      "{\n",
      "  \"object\": \"list\",\n",
      "  \"data\": [\n",
      "    {\n",
      "      \"object\": \"fine-tune\",\n",
      "      \"id\": \"ft-tHOGDK2IyfTfFR7kbh3N1Ees\",\n",
      "      \"hyperparams\": {\n",
      "        \"n_epochs\": 4,\n",
      "        \"batch_size\": 1,\n",
      "        \"prompt_loss_weight\": 0.01,\n",
      "        \"learning_rate_multiplier\": 0.1,\n",
      "        \"classification_positive_class\": \" baseball\",\n",
      "        \"compute_classification_metrics\": true\n",
      "      },\n",
      "      \"organization_id\": \"org-KDFf6tjN5kzCVBvOIphbbvtG\",\n",
      "      \"model\": \"ada\",\n",
      "      \"training_files\": [\n",
      "        {\n",
      "          \"object\": \"file\",\n",
      "          \"id\": \"file-NelWQm9ndZmC2XbozmIOysDQ\",\n",
      "          \"purpose\": \"fine-tune\",\n",
      "          \"filename\": \"/content/sports2_prepared_train.jsonl\",\n",
      "          \"bytes\": 1519036,\n",
      "          \"created_at\": 1691992735,\n",
      "          \"status\": \"processed\",\n",
      "          \"status_details\": null\n",
      "        }\n",
      "      ],\n",
      "      \"validation_files\": [\n",
      "        {\n",
      "          \"object\": \"file\",\n",
      "          \"id\": \"file-GKl2D4xMLWcjnW49cDPldRsJ\",\n",
      "          \"purpose\": \"fine-tune\",\n",
      "          \"filename\": \"/content/sports2_prepared_valid.jsonl\",\n",
      "          \"bytes\": 387349,\n",
      "          \"created_at\": 1691992736,\n",
      "          \"status\": \"processed\",\n",
      "          \"status_details\": null\n",
      "        }\n",
      "      ],\n",
      "      \"result_files\": [\n",
      "        {\n",
      "          \"object\": \"file\",\n",
      "          \"id\": \"file-HhaDqBRh9jNHkK4WkT2wy6j7\",\n",
      "          \"purpose\": \"fine-tune-results\",\n",
      "          \"filename\": \"compiled_results.csv\",\n",
      "          \"bytes\": 215050,\n",
      "          \"created_at\": 1691995096,\n",
      "          \"status\": \"processed\",\n",
      "          \"status_details\": null\n",
      "        }\n",
      "      ],\n",
      "      \"created_at\": 1691992736,\n",
      "      \"updated_at\": 1691995097,\n",
      "      \"status\": \"succeeded\",\n",
      "      \"fine_tuned_model\": \"ada:ft-personal-2023-08-14-06-38-15\"\n",
      "    },\n",
      "    {\n",
      "      \"object\": \"fine-tune\",\n",
      "      \"id\": \"ft-dOQm0t9tn09Da2NBW44htBDf\",\n",
      "      \"hyperparams\": {\n",
      "        \"n_epochs\": 4,\n",
      "        \"batch_size\": 2,\n",
      "        \"prompt_loss_weight\": 0.01,\n",
      "        \"classification_n_classes\": 3,\n",
      "        \"learning_rate_multiplier\": 0.1,\n",
      "        \"compute_classification_metrics\": true\n",
      "      },\n",
      "      \"organization_id\": \"org-KDFf6tjN5kzCVBvOIphbbvtG\",\n",
      "      \"model\": \"ada\",\n",
      "      \"training_files\": [\n",
      "        {\n",
      "          \"object\": \"file\",\n",
      "          \"id\": \"file-XQWvqdoEcC9I8m6LkC6hW51P\",\n",
      "          \"purpose\": \"fine-tune\",\n",
      "          \"filename\": \"/content/sentiment_prepared_train.jsonl\",\n",
      "          \"bytes\": 182812,\n",
      "          \"created_at\": 1691998195,\n",
      "          \"status\": \"processed\",\n",
      "          \"status_details\": null\n",
      "        }\n",
      "      ],\n",
      "      \"validation_files\": [\n",
      "        {\n",
      "          \"object\": \"file\",\n",
      "          \"id\": \"file-8iE4kO67VPm61wMQpKXLh0EU\",\n",
      "          \"purpose\": \"fine-tune\",\n",
      "          \"filename\": \"/content/sentiment_prepared_valid.jsonl\",\n",
      "          \"bytes\": 45511,\n",
      "          \"created_at\": 1691998196,\n",
      "          \"status\": \"processed\",\n",
      "          \"status_details\": null\n",
      "        }\n",
      "      ],\n",
      "      \"result_files\": [],\n",
      "      \"created_at\": 1691998196,\n",
      "      \"updated_at\": 1691998487,\n",
      "      \"status\": \"running\",\n",
      "      \"fine_tuned_model\": null\n",
      "    }\n",
      "  ]\n",
      "}\n"
     ]
    }
   ],
   "source": [
    "!openai api fine_tunes.list"
   ]
  },
  {
   "cell_type": "code",
   "execution_count": null,
   "metadata": {
    "id": "40cVMgQx9TQA"
   },
   "outputs": [],
   "source": [
    "#ft-dOQm0t9tn09Da2NBW44htBDf替换成为自己的结果\n",
    "!openai api fine_tunes.results -i ft-dOQm0t9tn09Da2NBW44htBDf > result.csv"
   ]
  },
  {
   "cell_type": "code",
   "execution_count": null,
   "metadata": {
    "colab": {
     "base_uri": "https://localhost:8080/",
     "height": 447
    },
    "id": "AWDiAZ2eNM6_",
    "outputId": "47306807-f70e-4fd1-a2e7-c2a969aaf75b"
   },
   "outputs": [
    {
     "data": {
      "text/plain": [
       "<Axes: >"
      ]
     },
     "execution_count": 81,
     "metadata": {},
     "output_type": "execute_result"
    },
    {
     "data": {
      "image/png": "[encoded data removed]",
      "text/plain": [
       "<Figure size 640x480 with 1 Axes>"
      ]
     },
     "metadata": {},
     "output_type": "display_data"
    }
   ],
   "source": [
    "results = pd.read_csv('result.csv')\n",
    "results[results['classification/accuracy'].notnull()].tail(1)\n",
    "results[results['classification/accuracy'].notnull()]['classification/accuracy'].plot()"
   ]
  },
  {
   "cell_type": "markdown",
   "metadata": {
    "id": "iKz8LJR7nv_-"
   },
   "source": [
    "## 二、归纳范式：辅助分析聚类结果"
   ]
  },
  {
   "cell_type": "markdown",
   "metadata": {
    "id": "Cz70fHBJjBDK"
   },
   "source": [
    "参考链接：[link](https://github.com/openai/openai-cookbook/blob/main/examples/Clustering.ipynb)"
   ]
  },
  {
   "cell_type": "code",
   "execution_count": 6,
   "metadata": {
    "colab": {
     "base_uri": "https://localhost:8080/"
    },
    "id": "sxpTa6phpHzj",
    "outputId": "bf45cefc-94a8-440f-f47f-3a81b3e36dc5"
   },
   "outputs": [
    {
     "data": {
      "text/plain": [
       "(1000, 1536)"
      ]
     },
     "execution_count": 6,
     "metadata": {},
     "output_type": "execute_result"
    }
   ],
   "source": [
    "# imports\n",
    "import numpy as np\n",
    "import pandas as pd\n",
    "from ast import literal_eval\n",
    "# load data\n",
    "datafile_path = \"/content/fine_food_reviews_with_embeddings_1k.csv\"\n",
    "df = pd.read_csv(datafile_path)\n",
    "# 字符串转换为numpy数组\n",
    "df[\"embedding\"] = df.embedding.apply(literal_eval).apply(np.array)\n",
    "matrix = np.vstack(df.embedding.values)\n",
    "matrix.shape"
   ]
  },
  {
   "cell_type": "code",
   "execution_count": 7,
   "metadata": {
    "colab": {
     "base_uri": "https://localhost:8080/"
    },
    "id": "aLJX-TldUvSf",
    "outputId": "a62aab4b-4fa9-4f16-e8b0-9717b57137c2"
   },
   "outputs": [
    {
     "name": "stdout",
     "output_type": "stream",
     "text": [
      "Mounted at /content/drive\n"
     ]
    }
   ],
   "source": [
    "#from google.colab import drive\n",
    "#drive.mount('/content/drive')"
   ]
  },
  {
   "cell_type": "markdown",
   "metadata": {
    "id": "LvCr7fnrpHzp"
   },
   "source": [
    "### 1. 使用kmeans聚类"
   ]
  },
  {
   "cell_type": "code",
   "execution_count": 8,
   "metadata": {
    "colab": {
     "base_uri": "https://localhost:8080/"
    },
    "id": "EI8k_ALFpHzr",
    "outputId": "5adcc1a5-9515-4f8c-ba08-ef3ca6b43ec9"
   },
   "outputs": [
    {
     "name": "stderr",
     "output_type": "stream",
     "text": [
      "/usr/local/lib/python3.10/dist-packages/sklearn/cluster/_kmeans.py:870: FutureWarning: The default value of `n_init` will change from 10 to 'auto' in 1.4. Set the value of `n_init` explicitly to suppress the warning\n",
      "  warnings.warn(\n"
     ]
    },
    {
     "data": {
      "text/plain": [
       "Cluster\n",
       "0    4.105691\n",
       "1    4.191176\n",
       "2    4.215613\n",
       "3    4.306590\n",
       "Name: Score, dtype: float64"
      ]
     },
     "execution_count": 8,
     "metadata": {},
     "output_type": "execute_result"
    }
   ],
   "source": [
    "from sklearn.cluster import KMeans\n",
    "n_clusters = 4\n",
    "kmeans = KMeans(n_clusters=n_clusters, init=\"k-means++\", random_state=42)\n",
    "kmeans.fit(matrix)\n",
    "# 提取每个样本所属的簇标签，将簇标签添加到数据框中，作为一列\n",
    "labels = kmeans.labels_\n",
    "df[\"Cluster\"] = labels\n",
    "#对每个簇内的数据进行分组，计算分组内 \"Score\" 列的平均值，并按平均值排序，输出每个簇的平均分数，按照升序排列\n",
    "df.groupby(\"Cluster\").Score.mean().sort_values()"
   ]
  },
  {
   "cell_type": "code",
   "execution_count": 9,
   "metadata": {
    "colab": {
     "base_uri": "https://localhost:8080/",
     "height": 469
    },
    "id": "Jy6j11gZpHzt",
    "outputId": "da321210-1a51-4c07-f46d-f32152f42131"
   },
   "outputs": [
    {
     "data": {
      "text/plain": [
       "Text(0.5, 1.0, 'Clusters identified visualized in language 2d using t-SNE')"
      ]
     },
     "execution_count": 9,
     "metadata": {},
     "output_type": "execute_result"
    },
    {
     "data": {
      "image/png": "[encoded data removed]",
      "text/plain": [
       "<Figure size 640x480 with 1 Axes>"
      ]
     },
     "metadata": {},
     "output_type": "display_data"
    }
   ],
   "source": [
    "from sklearn.manifold import TSNE\n",
    "import matplotlib\n",
    "import matplotlib.pyplot as plt\n",
    "\n",
    "tsne = TSNE(n_components=2, perplexity=15, random_state=42, init=\"random\", learning_rate=200)\n",
    "vis_dims2 = tsne.fit_transform(matrix)\n",
    "\n",
    "x = [x for x, y in vis_dims2]\n",
    "y = [y for x, y in vis_dims2]\n",
    "# 对给定的数据矩阵进行降维，得到2维的可视化数据\n",
    "for category, color in enumerate([\"purple\", \"green\", \"red\", \"blue\"]):\n",
    "    xs = np.array(x)[df.Cluster == category]\n",
    "    ys = np.array(y)[df.Cluster == category]\n",
    "    plt.scatter(xs, ys, color=color, alpha=0.3)\n",
    "    avg_x = xs.mean()\n",
    "    avg_y = ys.mean()\n",
    "    plt.scatter(avg_x, avg_y, marker=\"x\", color=color, s=100)\n",
    "plt.title(\"Clusters identified visualized in language 2d using t-SNE\")"
   ]
  },
  {
   "cell_type": "markdown",
   "metadata": {
    "id": "mh42ryk1pHzv"
   },
   "source": [
    "二维投影cluster。绿色集群cluster1 似乎与其他集群大不相同，跑完这步可以看看每个集群中一些样本。"
   ]
  },
  {
   "cell_type": "markdown",
   "metadata": {
    "id": "isIY_mDupHzw"
   },
   "source": [
    "### 2. 使用chatgpt对聚类结果进行总结"
   ]
  },
  {
   "cell_type": "code",
   "execution_count": 11,
   "metadata": {
    "id": "z6m3Bkp9YDin"
   },
   "outputs": [],
   "source": [
    "openai.api_key=\"<自己的api>\""
   ]
  },
  {
   "cell_type": "code",
   "execution_count": 25,
   "metadata": {
    "colab": {
     "base_uri": "https://localhost:8080/"
    },
    "id": "MerkmOQwpHzx",
    "outputId": "8e159fe4-3ebc-486c-8a3c-af7c4369b2ef"
   },
   "outputs": [
    {
     "name": "stdout",
     "output_type": "stream",
     "text": [
      "Cluster 0 Theme: The theme is a combination of the following:The theme is a combination of the following:The theme is a combination of the following:The theme is a combination\n",
      "5, Loved these gluten free healthy bars, saved $$ ordering on Amazon:   These Kind Bars are so good and healthy & gluten free.  My daughter ca\n",
      "1, Should advertise coconut as an ingredient more prominently:   First, these should be called Mac - Coconut bars, as Coconut is the #2\n",
      "5, very good!!:   just like the runts<br />great flavor, def worth getting<br />I even o\n",
      "----------------------------------------------------------------------------------------------------\n",
      "Cluster 1 Theme: \"I'm a big fan of Merrick's cat food. I've tried a few brands and this is the best. I've tried a few different brands and this is the best.\n",
      "2, Messy and apparently undelicious:   My cat is not a huge fan. Sure, she'll lap up the gravy, but leaves th\n",
      "4, The cats like it:   My 7 cats like this food but it is a little yucky for the human. Piece\n",
      "5, cant get enough of it!!!:   Our lil shih tzu puppy cannot get enough of it. Everytime she sees the\n",
      "----------------------------------------------------------------------------------------------------\n",
      "Cluster 2 Theme: The theme is a coffee shop, with a coffee shop logo on the front.The coffee shop logo is a coffee shop logo with a coffee shop logo on the front.\n",
      "5, Fog Chaser Coffee:   This coffee has a full body and a rich taste. The price is far below t\n",
      "5, Excellent taste:   This is to me a great coffee, once you try it you will enjoy it, this \n",
      "4, Good, but not Wolfgang Puck good:   Honestly, I have to admit that I expected a little better. That's not \n",
      "----------------------------------------------------------------------------------------------------\n",
      "Cluster 3 Theme:  I'm not sure what the theme is, but it's a very nice one.I'm not sure what the theme is, but it's a very nice one.I'm\n",
      "5, Wonderful alternative to soda pop:   This is a wonderful alternative to soda pop.  It's carbonated for thos\n",
      "5, So convenient, for so little!:   I needed two vanilla beans for the Love Goddess cake that my husbands \n",
      "2, bot very cheesy:   Got this about a month ago.first of all it smells horrible...it tastes\n",
      "----------------------------------------------------------------------------------------------------\n"
     ]
    }
   ],
   "source": [
    "import openai\n",
    "from tenacity import (\n",
    "    retry,\n",
    "    stop_after_attempt,\n",
    "    wait_random_exponential,\n",
    ") #导入重试包，防止因为单词引用超出速率限制导致报错\n",
    "\n",
    "# 逐个聚类簇循环\n",
    "for i in range(n_clusters):\n",
    "    print(f\"Cluster {i} Theme:\", end=\" \")\n",
    "\n",
    "    @retry(wait=wait_random_exponential(min=1, max=60), stop=stop_after_attempt(10))\n",
    "    #使用指数随机等待策略来控制重试间隔，重试10次\n",
    "    def retry_generate_theme():\n",
    "        # 从当前簇内的数据中选取一些评价\n",
    "        reviews = \"\\n\".join(\n",
    "            df[df.Cluster == i]\n",
    "            .combined.str.replace(\"Title: \", \"\")\n",
    "            .str.replace(\"\\n\\nContent: \", \":  \")\n",
    "            .sample(rev_per_cluster, random_state=42)\n",
    "            .values\n",
    "        )\n",
    "        # 使用 OpenAI 的模型生成与选取的评价共同特点相关的主题描述\n",
    "        response = openai.Completion.create(\n",
    "            engine=\"ada\",\n",
    "            prompt=f'What do the following customer reviews have in common?\\n\\nCustomer reviews:\\n\"\"\"\\n{reviews}\\n\"\"\"\\n\\nTheme:',\n",
    "            temperature=0,\n",
    "            max_tokens=40,\n",
    "            #设定单次输出的token限制，以避免因为速率限制报错。\n",
    "            top_p=1,\n",
    "            frequency_penalty=0,\n",
    "            presence_penalty=0,\n",
    "        )\n",
    "        return response[\"choices\"][0][\"text\"].replace(\"\\n\", \"\")\n",
    "\n",
    "    theme = retry_generate_theme()\n",
    "    print(theme)\n",
    "\n",
    "    # 从当前簇内的数据中选取一些样本评价并打印它们的分数、摘要和部分内容\n",
    "    sample_cluster_rows = df[df.Cluster == i].sample(rev_per_cluster, random_state=42)\n",
    "    for j in range(rev_per_cluster):\n",
    "        print(sample_cluster_rows.Score.values[j], end=\", \")\n",
    "        print(sample_cluster_rows.Summary.values[j], end=\":   \")\n",
    "        print(sample_cluster_rows.Text.str[:70].values[j])\n",
    "\n",
    "    print(\"-\" * 100)  # 打印分隔线\n"
   ]
  },
  {
   "cell_type": "markdown",
   "metadata": {
    "id": "dHQodhrsbb2p"
   },
   "source": [
    "\n",
    "- 这个聚类先将相似的文本经过向量化处理进行聚类，将相似的文本聚到一组，然后让大语言模型总结每个类别的文本内容（数据预先经过embedding处理）。提供了llm对无监督机器学习结果进行加工和深入分析的一个启发；\n",
    "- 大模型的聚类结果是否符合文本本身的含义，还需要人工把关；\n",
    "- prompt可以继续优化，提出更好分类；\n",
    "- 可以使用聚类的标准+大语言模型+人工共同优化无监督学习结果；\n",
    "- 参考这种避免速率限制报错的代码写法。\n",
    "\n",
    "\n",
    "\n",
    "\n"
   ]
  },
  {
   "cell_type": "markdown",
   "metadata": {
    "id": "kDwdeFLunv_-"
   },
   "source": [
    "## 三、生成范式：生成智能体"
   ]
  },
  {
   "cell_type": "markdown",
   "metadata": {
    "id": "UOJ9aHYMTNal"
   },
   "source": [
    "- [开源代码链接:](https://github.com/joonspk-research/generative_agents)\n",
    "- [项目demo链接：](https://reverie.herokuapp.com/arXiv_Demo/)"
   ]
  },
  {
   "cell_type": "markdown",
   "metadata": {
    "id": "6mnbwYz5eepZ"
   },
   "source": [
    "# 总结：\n",
    "大语言模型为计算社会科学带来什么？\n",
    "**基于社会科学研究范式的改进**\n",
    "- 在归纳范式上，辅助计算社会科学进行因果探索；\n",
    "- 在演绎范式上，辅助计算科学的ABM分析，提供更稳健的对人类社会的模拟。\n",
    "\n",
    "- 机器学习中：     \n",
    "1. 在有监督机器学习过程中，辅助人类打标签；\n",
    "2. 在无监督机器学习中，LLM辅助计算社会科学的计算和解释。    \n",
    "- 文本分析中：\n",
    "1. 文本分类\n",
    "2. 文本情感分析\n",
    "3. 主题模型\n",
    "4. 命名实体识别\n",
    "5. ……\n",
    "\n",
    "**但是需要注意：**\n",
    "- 大语言模型作为通用语言模型需要与自己特有的模型、知识相结合，才有可能得到理想的结果。\n",
    "- 使用大模型时，必须考虑和验证大模型结果的稳健性，不可迷信大模型。\n",
    "- 大模型有固有的缺陷。\n"
   ]
  }
 ],
 "metadata": {
  "colab": {
   "provenance": [],
   "toc_visible": true
  },
  "kernelspec": {
   "display_name": "Python 3",
   "language": "python",
   "name": "python3"
  },
  "language_info": {
   "codemirror_mode": {
    "name": "ipython",
    "version": 3
   },
   "file_extension": ".py",
   "mimetype": "text/x-python",
   "name": "python",
   "nbconvert_exporter": "python",
   "pygments_lexer": "ipython3",
   "version": "3.8.5"
  },
  "toc": {
   "base_numbering": 1,
   "nav_menu": {},
   "number_sections": true,
   "sideBar": true,
   "skip_h1_title": false,
   "title_cell": "Table of Contents",
   "title_sidebar": "Contents",
   "toc_cell": false,
   "toc_position": {},
   "toc_section_display": true,
   "toc_window_display": true
  }
 },
 "nbformat": 4,
 "nbformat_minor": 1
}
