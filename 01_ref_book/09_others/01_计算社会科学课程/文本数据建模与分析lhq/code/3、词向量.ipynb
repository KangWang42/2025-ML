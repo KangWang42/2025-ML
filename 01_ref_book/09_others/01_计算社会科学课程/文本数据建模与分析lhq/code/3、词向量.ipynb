{
 "cells": [
  {
   "cell_type": "code",
   "execution_count": 28,
   "metadata": {},
   "outputs": [],
   "source": [
    "import logging\n",
    "import os.path\n",
    "import six\n",
    "import sys\n",
    "import gensim\n",
    "import warnings\n",
    "from collections import Counter\n",
    "import gensim as gensim\n",
    "from gensim.models import Word2Vec\n",
    "from gensim.models.keyedvectors import KeyedVectors\n",
    "from gensim.models.word2vec import LineSentence\n",
    "import jieba\n",
    "\n",
    "import re\n",
    "\n",
    "%matplotlib inline"
   ]
  },
  {
   "cell_type": "code",
   "execution_count": 29,
   "metadata": {},
   "outputs": [],
   "source": [
    "###直接调用训练好的词向量  人民日报\n",
    "from gensim.models.keyedvectors import KeyedVectors\n",
    "word_vectors = KeyedVectors.load_word2vec_format('F:/data/tdata/sgns.renmin.txt', binary=False) "
   ]
  },
  {
   "cell_type": "code",
   "execution_count": 30,
   "metadata": {},
   "outputs": [
    {
     "name": "stdout",
     "output_type": "stream",
     "text": [
      "和【兰州】最相关的20个词：\n",
      "\n",
      "西安 0.6938726305961609\n",
      "乌鲁木齐 0.6863073110580444\n",
      "银川 0.6758795380592346\n",
      "成都 0.6606606245040894\n",
      "西宁 0.6535873413085938\n",
      "甘肃兰州 0.629776120185852\n",
      "甘肃 0.6159172654151917\n",
      "贵阳 0.6125739812850952\n",
      "甘肃省 0.6114068627357483\n",
      "武威 0.60884690284729\n",
      "兰州市 0.6081233620643616\n",
      "宝鸡 0.6036486625671387\n",
      "济南 0.5962562561035156\n",
      "沈阳 0.5899634957313538\n",
      "呼和浩特 0.5738320350646973\n",
      "昆明 0.5736043453216553\n",
      "郑州 0.5686578750610352\n",
      "临夏 0.5632674098014832\n",
      "太原 0.5617247819900513\n",
      "长春 0.5592613220214844\n",
      "-----\n",
      "\n"
     ]
    }
   ],
   "source": [
    "wv2 = word_vectors.most_similar(u\"兰州\", topn=20)  # 20个最相关的\n",
    "print(u\"和【兰州】最相关的20个词：\\n\")\n",
    "for word in wv2:\n",
    "    print(word[0], word[1])\n",
    "print(\"-----\\n\")"
   ]
  },
  {
   "cell_type": "code",
   "execution_count": 31,
   "metadata": {},
   "outputs": [
    {
     "name": "stdout",
     "output_type": "stream",
     "text": [
      "和【甘肃】最相关的20个词：\n",
      "\n",
      "甘肃省 0.7631230354309082\n",
      "陕西 0.7361190319061279\n",
      "宁夏 0.7196593284606934\n",
      "青海 0.7131429314613342\n",
      "陇南 0.6725785732269287\n",
      "定西地区 0.6309807300567627\n",
      "兰州 0.6159172654151917\n",
      "贵州 0.6143765449523926\n",
      "固原 0.6102784872055054\n",
      "内蒙古 0.6095123887062073\n",
      "临洮 0.6041218638420105\n",
      "定西 0.6027911305427551\n",
      "平凉 0.5996686220169067\n",
      "武威地区 0.5957146286964417\n",
      "四川 0.595056414604187\n",
      "天水市 0.5941694974899292\n",
      "武威 0.5922673940658569\n",
      "天祝藏族自治县 0.5920180082321167\n",
      "临夏 0.5912328958511353\n",
      "靖远 0.5890480875968933\n",
      "-----\n",
      "\n"
     ]
    }
   ],
   "source": [
    "wv2 = word_vectors.most_similar(u\"甘肃\", topn=20)  # 20个最相关的\n",
    "print(u\"和【甘肃】最相关的20个词：\\n\")\n",
    "for word in wv2:\n",
    "    print(word[0], word[1])\n",
    "print(\"-----\\n\")"
   ]
  },
  {
   "cell_type": "code",
   "execution_count": 32,
   "metadata": {},
   "outputs": [
    {
     "name": "stdout",
     "output_type": "stream",
     "text": [
      "和【百度】最相关的20个词：\n",
      "\n",
      "腾讯 0.6199362874031067\n",
      "BAT 0.5927181243896484\n",
      "贴吧 0.5788369178771973\n",
      "奇虎 0.577629029750824\n",
      "搜狗 0.5576536655426025\n",
      "百度公司 0.5566093921661377\n",
      "搜狐 0.5477172136306763\n",
      "网易 0.5457697510719299\n",
      "优酷网 0.542261004447937\n",
      "糯米网 0.540283203125\n",
      "搜索引擎 0.5363065004348755\n",
      "土豆网 0.5316785573959351\n",
      "应用程序 0.530573844909668\n",
      "人人网 0.5304474830627441\n",
      "LBS 0.5290228724479675\n",
      "风温由 0.5289266109466553\n",
      "App 0.5285270810127258\n",
      "苹果应用商店 0.528480589389801\n",
      "搜索框 0.518974244594574\n",
      "优酷 0.518169641494751\n",
      "-----\n",
      "\n"
     ]
    }
   ],
   "source": [
    "wv2 = word_vectors.most_similar(u\"百度\", topn=20)  # 20个最相关的\n",
    "print(u\"和【百度】最相关的20个词：\\n\")\n",
    "for word in wv2:\n",
    "    print(word[0], word[1])\n",
    "print(\"-----\\n\")"
   ]
  },
  {
   "cell_type": "code",
   "execution_count": 33,
   "metadata": {},
   "outputs": [
    {
     "name": "stdout",
     "output_type": "stream",
     "text": [
      "和【华中科技大学】最相关的20个词：\n",
      "\n",
      "西安电子科技大学 0.6746385097503662\n",
      "武汉理工大学 0.6736884713172913\n",
      "东南大学 0.6620356440544128\n",
      "南京工业大学 0.6579621434211731\n",
      "中南大学 0.6552565097808838\n",
      "华中科大 0.6531168222427368\n",
      "湖南师范大学 0.6524401903152466\n",
      "西南科技大学 0.6509807109832764\n",
      "材料学院 0.6508315205574036\n",
      "生命学院 0.6503276824951172\n",
      "华南理工大学 0.6482797861099243\n",
      "北京科技大学 0.6446981430053711\n",
      "华北电力大学 0.6420555114746094\n",
      "电子科技大学 0.6377374529838562\n",
      "北京理工大学 0.6324993371963501\n",
      "南京财经大学 0.6272202730178833\n",
      "建筑学系 0.6258431673049927\n",
      "陈婧 0.6250656247138977\n",
      "南京邮电大学 0.6226168274879456\n",
      "旅游系 0.6202101707458496\n",
      "-----\n",
      "\n"
     ]
    }
   ],
   "source": [
    "wv2 = word_vectors.most_similar(u\"华中科技大学\", topn=20)  # 20个最相关的\n",
    "print(u\"和【华中科技大学】最相关的20个词：\\n\")\n",
    "for word in wv2:\n",
    "    print(word[0], word[1])\n",
    "print(\"-----\\n\")"
   ]
  },
  {
   "cell_type": "code",
   "execution_count": 34,
   "metadata": {},
   "outputs": [
    {
     "name": "stdout",
     "output_type": "stream",
     "text": [
      "和【兰州大学】最相关的20个词：\n",
      "\n",
      "内蒙古农业大学 0.64217209815979\n",
      "湖北大学 0.6369290351867676\n",
      "宁夏大学 0.6315649747848511\n",
      "经济学系 0.6295349597930908\n",
      "西南大学 0.6285501718521118\n",
      "数学力学系 0.6178983449935913\n",
      "陕西师范大学 0.6165448427200317\n",
      "福州大学 0.6163474321365356\n",
      "四川师范大学 0.6161370873451233\n",
      "武汉工业大学 0.613633930683136\n",
      "石河子大学 0.6122087240219116\n",
      "研究生部 0.6121171116828918\n",
      "贵州大学 0.6113371253013611\n",
      "湖南师范大学 0.6110628843307495\n",
      "任继周 0.6101771593093872\n",
      "西北师范大学 0.6101294159889221\n",
      "数学科学学院 0.6101162433624268\n",
      "华北电力大学 0.6087483167648315\n",
      "西北民族大学 0.6085972785949707\n",
      "顾秉林 0.6083161234855652\n",
      "-----\n",
      "\n"
     ]
    }
   ],
   "source": [
    "wv2 = word_vectors.most_similar(u\"兰州大学\", topn=20)  # 20个最相关的\n",
    "print(u\"和【兰州大学】最相关的20个词：\\n\")\n",
    "for word in wv2:\n",
    "    print(word[0], word[1])\n",
    "print(\"-----\\n\")"
   ]
  },
  {
   "cell_type": "code",
   "execution_count": 35,
   "metadata": {},
   "outputs": [
    {
     "name": "stdout",
     "output_type": "stream",
     "text": [
      "和【社科院】最相关的20个词：\n",
      "\n",
      "中国社科院 0.7163364887237549\n",
      "中国社会科学院 0.6738505959510803\n",
      "社会科学院 0.6710268259048462\n",
      "社会学所 0.6678988337516785\n",
      "孙元明 0.6413918733596802\n",
      "梁启东 0.6352035999298096\n",
      "社会学研究所 0.6274921894073486\n",
      "农村发展所 0.6258655786514282\n",
      "刘道兴 0.6253546476364136\n",
      "世经所 0.6230249404907227\n",
      "工经所 0.6206804513931274\n",
      "北京市社会科学院 0.6171122789382935\n",
      "农发所 0.6156880855560303\n",
      "财贸所 0.6155264377593994\n",
      "马列所 0.6148092150688171\n",
      "法学所 0.6141024827957153\n",
      "江苏省社科院 0.6133836507797241\n",
      "台研所 0.6093935370445251\n",
      "中国边疆史地研究中心 0.6063185930252075\n",
      "四川省社科院 0.6019394397735596\n",
      "-----\n",
      "\n"
     ]
    }
   ],
   "source": [
    "wv2 = word_vectors.most_similar(u\"社科院\", topn=20)  # 20个最相关的\n",
    "print(u\"和【社科院】最相关的20个词：\\n\")\n",
    "for word in wv2:\n",
    "    print(word[0], word[1])\n",
    "print(\"-----\\n\")"
   ]
  },
  {
   "cell_type": "code",
   "execution_count": 49,
   "metadata": {},
   "outputs": [
    {
     "name": "stdout",
     "output_type": "stream",
     "text": [
      "和【社会学】最相关的20个词：\n",
      "\n",
      "历史学 0.703485369682312\n",
      "经济学 0.6944149136543274\n",
      "宗教学 0.6922945976257324\n",
      "法学 0.6868265271186829\n",
      "比较文学 0.6868042349815369\n",
      "社会心理学 0.6863694787025452\n",
      "民俗学 0.6836918592453003\n",
      "发展经济学 0.6827443242073059\n",
      "伦理学 0.6814084053039551\n",
      "政治学 0.6794657707214355\n",
      "文艺学 0.6736794114112854\n",
      "人类学 0.6717830896377563\n",
      "经济学说 0.670441210269928\n",
      "人口学 0.6616834402084351\n",
      "图书馆学 0.6602093577384949\n",
      "民族学 0.6576277017593384\n",
      "行政管理学 0.6574132442474365\n",
      "法律学 0.6548317670822144\n",
      "史学 0.6535594463348389\n",
      "财政学 0.6531257629394531\n",
      "-----\n",
      "\n"
     ]
    }
   ],
   "source": [
    "wv2 = word_vectors.most_similar(u\"社会学\", topn=20)  # 20个最相关的\n",
    "print(u\"和【社会学】最相关的20个词：\\n\")\n",
    "for word in wv2:\n",
    "    print(word[0], word[1])\n",
    "print(\"-----\\n\")"
   ]
  },
  {
   "cell_type": "code",
   "execution_count": 37,
   "metadata": {},
   "outputs": [
    {
     "name": "stdout",
     "output_type": "stream",
     "text": [
      "<gensim.models.keyedvectors.Word2VecKeyedVectors object at 0x000001B46612CD08>\n",
      "【社科院】和【社会学】的相似度为： 0.4704938\n",
      "-----\n",
      "\n"
     ]
    }
   ],
   "source": [
    "print(word_vectors)\n",
    "# 计算两个词的相似度/相关程度\n",
    "try:\n",
    "    y1 = word_vectors.similarity(u\"社科院\", u\"社会学\")\n",
    "except KeyError:\n",
    "    y1 = 0\n",
    "print(u\"【社科院】和【社会学】的相似度为：\", y1)\n",
    "print(\"-----\\n\")"
   ]
  },
  {
   "cell_type": "code",
   "execution_count": 38,
   "metadata": {},
   "outputs": [
    {
     "name": "stdout",
     "output_type": "stream",
     "text": [
      "<gensim.models.keyedvectors.Word2VecKeyedVectors object at 0x000001B46612CD08>\n",
      "【北京大学】和【社会学】的相似度为： 0.44370875\n",
      "-----\n",
      "\n"
     ]
    }
   ],
   "source": [
    "print(word_vectors)\n",
    "# 计算两个词的相似度/相关程度\n",
    "try:\n",
    "    y1 = word_vectors.similarity(u\"北京大学\", u\"社会学\")\n",
    "except KeyError:\n",
    "    y1 = 0\n",
    "print(u\"【北京大学】和【社会学】的相似度为：\", y1)\n",
    "print(\"-----\\n\")"
   ]
  },
  {
   "cell_type": "code",
   "execution_count": 39,
   "metadata": {},
   "outputs": [
    {
     "name": "stdout",
     "output_type": "stream",
     "text": [
      "<gensim.models.keyedvectors.Word2VecKeyedVectors object at 0x000001B46612CD08>\n",
      "【中山大学】和【社会学】的相似度为： 0.38379064\n",
      "-----\n",
      "\n"
     ]
    }
   ],
   "source": [
    "print(word_vectors)\n",
    "# 计算两个词的相似度/相关程度\n",
    "try:\n",
    "    y1 = word_vectors.similarity(u\"中山大学\", u\"社会学\")\n",
    "except KeyError:\n",
    "    y1 = 0\n",
    "print(u\"【中山大学】和【社会学】的相似度为：\", y1)\n",
    "print(\"-----\\n\")"
   ]
  },
  {
   "cell_type": "code",
   "execution_count": 41,
   "metadata": {},
   "outputs": [
    {
     "name": "stdout",
     "output_type": "stream",
     "text": [
      "<gensim.models.keyedvectors.Word2VecKeyedVectors object at 0x000001B46612CD08>\n",
      "【南京大学】和【社会学】的相似度为： 0.41460907\n",
      "-----\n",
      "\n"
     ]
    }
   ],
   "source": [
    "print(word_vectors)\n",
    "# 计算两个词的相似度/相关程度\n",
    "try:\n",
    "    y1 = word_vectors.similarity(u\"南京大学\", u\"社会学\")\n",
    "except KeyError:\n",
    "    y1 = 0\n",
    "print(u\"【南京大学】和【社会学】的相似度为：\", y1)\n",
    "print(\"-----\\n\")"
   ]
  },
  {
   "cell_type": "code",
   "execution_count": 40,
   "metadata": {},
   "outputs": [
    {
     "name": "stdout",
     "output_type": "stream",
     "text": [
      "<gensim.models.keyedvectors.Word2VecKeyedVectors object at 0x000001B46612CD08>\n",
      "【华中科技大学】和【社会学】的相似度为： 0.3336188\n",
      "-----\n",
      "\n"
     ]
    }
   ],
   "source": [
    "print(word_vectors)\n",
    "# 计算两个词的相似度/相关程度\n",
    "try:\n",
    "    y1 = word_vectors.similarity(u\"华中科技大学\", u\"社会学\")\n",
    "except KeyError:\n",
    "    y1 = 0\n",
    "print(u\"【华中科技大学】和【社会学】的相似度为：\", y1)\n",
    "print(\"-----\\n\")"
   ]
  },
  {
   "cell_type": "code",
   "execution_count": 46,
   "metadata": {},
   "outputs": [
    {
     "name": "stdout",
     "output_type": "stream",
     "text": [
      "<gensim.models.keyedvectors.Word2VecKeyedVectors object at 0x000001B46612CD08>\n",
      "【百度】和【社会学】的相似度为： 0.093279205\n",
      "-----\n",
      "\n"
     ]
    }
   ],
   "source": [
    "print(word_vectors)\n",
    "# 计算两个词的相似度/相关程度\n",
    "try:\n",
    "    y1 = word_vectors.similarity(u\"百度\", u\"社会学\")\n",
    "except KeyError:\n",
    "    y1 = 0\n",
    "print(u\"【百度】和【社会学】的相似度为：\", y1)\n",
    "print(\"-----\\n\")"
   ]
  },
  {
   "cell_type": "code",
   "execution_count": 44,
   "metadata": {},
   "outputs": [
    {
     "name": "stdout",
     "output_type": "stream",
     "text": [
      "不合群的词： 物理学\n",
      "-----\n",
      "\n"
     ]
    },
    {
     "name": "stderr",
     "output_type": "stream",
     "text": [
      "D:\\annacoda\\lib\\site-packages\\gensim\\models\\keyedvectors.py:877: FutureWarning: arrays to stack must be passed as a \"sequence\" type such as list or tuple. Support for non-sequence iterables such as generators is deprecated as of NumPy 1.16 and will raise an error in the future.\n",
      "  vectors = vstack(self.word_vec(word, use_norm=True) for word in used_words).astype(REAL)\n"
     ]
    }
   ],
   "source": [
    "# 寻找不合群的词\n",
    "y4 =word_vectors.doesnt_match(u\"社会学 经济学 哲学 物理学\".split())\n",
    "print(u\"不合群的词：\", y4)\n",
    "print(\"-----\\n\")"
   ]
  },
  {
   "cell_type": "code",
   "execution_count": 9,
   "metadata": {},
   "outputs": [
    {
     "name": "stdout",
     "output_type": "stream",
     "text": [
      "Collecting baidu-aip\n",
      "  Downloading baidu-aip-2.2.18.0.tar.gz (10 kB)\n",
      "Requirement already satisfied: requests in d:\\annacoda\\lib\\site-packages (from baidu-aip) (2.22.0)\n",
      "Requirement already satisfied: idna<2.9,>=2.5 in d:\\annacoda\\lib\\site-packages (from requests->baidu-aip) (2.8)\n",
      "Requirement already satisfied: urllib3!=1.25.0,!=1.25.1,<1.26,>=1.21.1 in d:\\annacoda\\lib\\site-packages (from requests->baidu-aip) (1.24.2)\n",
      "Requirement already satisfied: certifi>=2017.4.17 in d:\\annacoda\\lib\\site-packages (from requests->baidu-aip) (2019.9.11)\n",
      "Requirement already satisfied: chardet<3.1.0,>=3.0.2 in d:\\annacoda\\lib\\site-packages (from requests->baidu-aip) (3.0.4)\n",
      "Building wheels for collected packages: baidu-aip\n",
      "  Building wheel for baidu-aip (setup.py): started\n",
      "  Building wheel for baidu-aip (setup.py): finished with status 'done'\n",
      "  Created wheel for baidu-aip: filename=baidu_aip-2.2.18.0-py3-none-any.whl size=15225 sha256=5724d0e83f4a40cea85e0d42f4ef7cd131ecfc1a3221b8b2c67343250a339c4c\n",
      "  Stored in directory: c:\\users\\liuhe\\appdata\\local\\pip\\cache\\wheels\\2a\\6b\\27\\4509d0c71d5c33a5ec497bd9a8ecbee01023713fa6107066d7\n",
      "Successfully built baidu-aip\n",
      "Installing collected packages: baidu-aip\n",
      "Successfully installed baidu-aip-2.2.18.0\n",
      "Note: you may need to restart the kernel to use updated packages.\n"
     ]
    },
    {
     "name": "stderr",
     "output_type": "stream",
     "text": [
      "  WARNING: Retrying (Retry(total=4, connect=None, read=None, redirect=None, status=None)) after connection broken by 'NewConnectionError('<pip._vendor.urllib3.connection.HTTPSConnection object at 0x000001637DE26D88>: Failed to establish a new connection: [Errno 11002] getaddrinfo failed')': /packages/bf/de/0e770c421bd70b0b59d59d1bcf70139cf0ad4263102a7fc2973c6187174a/baidu-aip-2.2.18.0.tar.gz\n",
      "  WARNING: Retrying (Retry(total=3, connect=None, read=None, redirect=None, status=None)) after connection broken by 'NewConnectionError('<pip._vendor.urllib3.connection.HTTPSConnection object at 0x000001637DE25E08>: Failed to establish a new connection: [Errno 11002] getaddrinfo failed')': /packages/bf/de/0e770c421bd70b0b59d59d1bcf70139cf0ad4263102a7fc2973c6187174a/baidu-aip-2.2.18.0.tar.gz\n",
      "  WARNING: Retrying (Retry(total=2, connect=None, read=None, redirect=None, status=None)) after connection broken by 'NewConnectionError('<pip._vendor.urllib3.connection.HTTPSConnection object at 0x000001637DE258C8>: Failed to establish a new connection: [Errno 11002] getaddrinfo failed')': /packages/bf/de/0e770c421bd70b0b59d59d1bcf70139cf0ad4263102a7fc2973c6187174a/baidu-aip-2.2.18.0.tar.gz\n",
      "  WARNING: Retrying (Retry(total=1, connect=None, read=None, redirect=None, status=None)) after connection broken by 'NewConnectionError('<pip._vendor.urllib3.connection.HTTPSConnection object at 0x000001637DE25248>: Failed to establish a new connection: [Errno 11002] getaddrinfo failed')': /packages/bf/de/0e770c421bd70b0b59d59d1bcf70139cf0ad4263102a7fc2973c6187174a/baidu-aip-2.2.18.0.tar.gz\n",
      "WARNING: You are using pip version 20.3b1; however, version 21.1.3 is available.\n",
      "You should consider upgrading via the 'D:\\annacoda\\python.exe -m pip install --upgrade pip' command.\n"
     ]
    }
   ],
   "source": [
    "##安装\n",
    "##pip install baidu-aip"
   ]
  },
  {
   "cell_type": "code",
   "execution_count": 10,
   "metadata": {},
   "outputs": [],
   "source": [
    "##调用相关包\n",
    "from aip import AipNlp"
   ]
  },
  {
   "cell_type": "code",
   "execution_count": 11,
   "metadata": {},
   "outputs": [],
   "source": [
    "##常量APP_ID在百度云控制台中创建，常量API_KEY与SECRET_KEY是在创建完毕应用后，系统分配给用户的，均为字符串，用于标识用户，为访问做签名验证，可在AI服务控制台中的应用列表中查看。\n",
    "##获取说明见链接：https://ai.baidu.com/ai-doc/REFERENCE/Ck3dwjgn3\n",
    "APP_ID = '***'\n",
    "API_KEY = '***'\n",
    "SECRET_KEY = '***'\n",
    "client = AipNlp(APP_ID, API_KEY, SECRET_KEY)"
   ]
  },
  {
   "cell_type": "code",
   "execution_count": null,
   "metadata": {},
   "outputs": [],
   "source": [
    "##词向量表示接口提供中文词向量的查询功能。\n",
    "word=\"社会\"\n",
    "client.wordEmbedding(word)"
   ]
  },
  {
   "cell_type": "code",
   "execution_count": null,
   "metadata": {},
   "outputs": [],
   "source": [
    "##词义相似度：输入两个词，得到两个词的相似度结果。\n",
    "result3 = client.wordSimEmbedding(\"社会\",\"国家\")\n",
    "\n",
    "print(result3)"
   ]
  },
  {
   "cell_type": "code",
   "execution_count": 12,
   "metadata": {},
   "outputs": [
    {
     "name": "stdout",
     "output_type": "stream",
     "text": [
      "{'log_id': 160233320034533944, 'texts': {'text_2': '这件衣服价格怎么样', 'text_1': '这件衣服颜色怎么样？'}, 'score': 0.876619}\n"
     ]
    }
   ],
   "source": [
    "##短文本相似度接口用来判断两个文本的相似度得分。\n",
    "result1 = client.simnet(\"这件衣服颜色怎么样？\",\"这件衣服价格怎么样\")\n",
    "\n",
    "print(result1)"
   ]
  },
  {
   "cell_type": "markdown",
   "metadata": {},
   "source": [
    "文章分类\n",
    "对文章按照内容类型进行自动分类，首批支持娱乐、体育、科技等26个主流内容类型，为文章聚类、文本内容分析等应用提供基础技术支持。"
   ]
  },
  {
   "cell_type": "code",
   "execution_count": 25,
   "metadata": {},
   "outputs": [
    {
     "data": {
      "text/plain": [
       "{'log_id': 8977109743450100312,\n",
       " 'item': {'lv2_tag_list': [{'score': 0.915631, 'tag': '足球'},\n",
       "   {'score': 0.803507, 'tag': '国际足球'},\n",
       "   {'score': 0.77813, 'tag': '英超'}],\n",
       "  'lv1_tag_list': [{'score': 0.830915, 'tag': '体育'}]}}"
      ]
     },
     "execution_count": 25,
     "metadata": {},
     "output_type": "execute_result"
    }
   ],
   "source": [
    "title = \"欧洲冠军杯足球赛\"\n",
    "\n",
    "content = \"欧洲冠军联赛是欧洲足球协会联盟主办的年度足球比赛，代表欧洲俱乐部足球最高荣誉和水平，被认为是全世界最高素质、最具影响力以及最高水平的俱乐部赛事，亦是世界上奖金最高的足球赛事和体育赛事之一。\"\n",
    "\n",
    "\"\"\" 调用文章分类 \"\"\"\n",
    "client.topic(title, content)"
   ]
  },
  {
   "cell_type": "markdown",
   "metadata": {},
   "source": [
    "参数名称\t类型\t详细说明\n",
    "item\tobject\t分类结果，包含一级与二级分类\n",
    "+lv1_tag_list\tarray of objects\t一级分类结果\n",
    "+lv2_tag_list\tarray of objects\t二级分类结果\n",
    "++score\tfloat\t类别标签对应得分，范围0-1\n",
    "++tag\tstring\t类别标签"
   ]
  },
  {
   "cell_type": "code",
   "execution_count": 27,
   "metadata": {},
   "outputs": [
    {
     "data": {
      "text/plain": [
       "{'log_id': 5151802381157227129,\n",
       " 'items': [{'sentiment': 2,\n",
       "   'abstract': '华为手机<span>拍照很给力</span>',\n",
       "   'prop': '拍照',\n",
       "   'begin_pos': 8,\n",
       "   'end_pos': 18,\n",
       "   'adj': '给力'}]}"
      ]
     },
     "execution_count": 27,
     "metadata": {},
     "output_type": "execute_result"
    }
   ],
   "source": [
    "##评论观点抽取接口用来提取一条评论句子的关注点和评论观点，并输出评论观点标签及评论观点极性。\n",
    "text = \"华为手机拍照很给力\"\n",
    "\n",
    "\"\"\" 调用评论观点抽取 \"\"\"\n",
    "client.commentTag(text);\n",
    "\n",
    "\"\"\" 如果有可选参数 \"\"\"\n",
    "options = {}\n",
    "options[\"type\"] = 13\n",
    "\n",
    "\"\"\" 带参数调用评论观点抽取 \"\"\"\n",
    "client.commentTag(text, options)"
   ]
  },
  {
   "cell_type": "code",
   "execution_count": null,
   "metadata": {},
   "outputs": [],
   "source": []
  }
 ],
 "metadata": {
  "kernelspec": {
   "display_name": "Python 3",
   "language": "python",
   "name": "python3"
  },
  "language_info": {
   "codemirror_mode": {
    "name": "ipython",
    "version": 3
   },
   "file_extension": ".py",
   "mimetype": "text/x-python",
   "name": "python",
   "nbconvert_exporter": "python",
   "pygments_lexer": "ipython3",
   "version": "3.7.4"
  }
 },
 "nbformat": 4,
 "nbformat_minor": 2
}
