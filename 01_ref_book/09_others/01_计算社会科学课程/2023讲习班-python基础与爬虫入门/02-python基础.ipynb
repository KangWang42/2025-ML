{
 "cells": [
  {
   "cell_type": "markdown",
   "id": "bfe36128",
   "metadata": {},
   "source": [
    "# 基础语法"
   ]
  },
  {
   "cell_type": "markdown",
   "id": "49826ab0",
   "metadata": {},
   "source": [
    "## 变量命名"
   ]
  },
  {
   "cell_type": "markdown",
   "id": "dfacd42e",
   "metadata": {
    "hide_input": false
   },
   "source": [
    "- 只能是⼀个词；\n",
    "- 只能包含字⺟、数字和下划线；\n",
    "- 不能以数字开头；\n",
    "- 尽量描述包含的数据内容；\n",
    "- 不要使⽤Python函数名和关键字；\n",
    "- 不要使用Python的保留字符"
   ]
  },
  {
   "cell_type": "code",
   "execution_count": null,
   "id": "a7fadd8e",
   "metadata": {},
   "outputs": [],
   "source": [
    "number"
   ]
  },
  {
   "cell_type": "code",
   "execution_count": 1,
   "id": "9f54ad6e",
   "metadata": {
    "ExecuteTime": {
     "end_time": "2023-08-08T16:48:10.322615Z",
     "start_time": "2023-08-08T16:48:10.317986Z"
    }
   },
   "outputs": [],
   "source": [
    "number = 50\n",
    "url = 'https://www.baidu.com/'\n",
    "number_list_2 = [50,10,30]\n",
    "# 以上number，url和number_list_2都是变量名"
   ]
  },
  {
   "cell_type": "code",
   "execution_count": 3,
   "id": "ad5fad14",
   "metadata": {
    "ExecuteTime": {
     "end_time": "2023-08-08T16:48:10.850346Z",
     "start_time": "2023-08-08T16:48:10.841245Z"
    }
   },
   "outputs": [
    {
     "data": {
      "text/plain": [
       "50"
      ]
     },
     "execution_count": 3,
     "metadata": {},
     "output_type": "execute_result"
    }
   ],
   "source": [
    "number"
   ]
  },
  {
   "cell_type": "code",
   "execution_count": 4,
   "id": "7f3f8499",
   "metadata": {
    "ExecuteTime": {
     "end_time": "2023-08-08T16:48:13.335135Z",
     "start_time": "2023-08-08T16:48:13.331016Z"
    }
   },
   "outputs": [],
   "source": [
    "# 删除变量 del\n",
    "del number"
   ]
  },
  {
   "cell_type": "code",
   "execution_count": 5,
   "id": "28872ea6",
   "metadata": {
    "ExecuteTime": {
     "end_time": "2023-08-08T16:48:13.843665Z",
     "start_time": "2023-08-08T16:48:13.823690Z"
    }
   },
   "outputs": [
    {
     "ename": "NameError",
     "evalue": "name 'number' is not defined",
     "output_type": "error",
     "traceback": [
      "\u001b[1;31m---------------------------------------------------------------------------\u001b[0m",
      "\u001b[1;31mNameError\u001b[0m                                 Traceback (most recent call last)",
      "Cell \u001b[1;32mIn[5], line 1\u001b[0m\n\u001b[1;32m----> 1\u001b[0m number\n",
      "\u001b[1;31mNameError\u001b[0m: name 'number' is not defined"
     ]
    }
   ],
   "source": [
    "number"
   ]
  },
  {
   "cell_type": "markdown",
   "id": "c83ef81e",
   "metadata": {},
   "source": [
    "<center><big><b>保留字符/关键字keyword</b></big></center>"
   ]
  },
  {
   "cell_type": "markdown",
   "id": "45de6a3f",
   "metadata": {},
   "source": [
    "![keyword](图片/keyword.png)"
   ]
  },
  {
   "cell_type": "markdown",
   "id": "254315de",
   "metadata": {},
   "source": [
    "## 打印 print()"
   ]
  },
  {
   "cell_type": "code",
   "execution_count": 6,
   "id": "18dac55f",
   "metadata": {
    "ExecuteTime": {
     "end_time": "2023-08-07T03:38:21.438787Z",
     "start_time": "2023-08-07T03:38:21.432773Z"
    }
   },
   "outputs": [
    {
     "name": "stdout",
     "output_type": "stream",
     "text": [
      "3\n"
     ]
    }
   ],
   "source": [
    "# 不带引号，计算机需读懂括号里的内容，并打印最终结果\n",
    "print(1 + 2)  "
   ]
  },
  {
   "cell_type": "code",
   "execution_count": 7,
   "id": "c1ad0f91",
   "metadata": {
    "ExecuteTime": {
     "end_time": "2023-08-07T03:38:22.845881Z",
     "start_time": "2023-08-07T03:38:22.839898Z"
    }
   },
   "outputs": [
    {
     "name": "stdout",
     "output_type": "stream",
     "text": [
      "1 + 2 =\n",
      "Hello World!\n"
     ]
    }
   ],
   "source": [
    "# 带单/双引号，计算机无须理解，原样复述引号中内容\n",
    "print('1 + 2 =')  \n",
    "print('Hello World!') "
   ]
  },
  {
   "cell_type": "code",
   "execution_count": 8,
   "id": "eb313063",
   "metadata": {
    "ExecuteTime": {
     "end_time": "2023-08-07T03:38:23.253849Z",
     "start_time": "2023-08-07T03:38:23.236899Z"
    }
   },
   "outputs": [
    {
     "name": "stdout",
     "output_type": "stream",
     "text": [
      "1 + 2 = 3\n"
     ]
    }
   ],
   "source": [
    "# 同时打印原内容，和运算结果\n",
    "print('1 + 2 =', 1+2)"
   ]
  },
  {
   "cell_type": "code",
   "execution_count": 9,
   "id": "cceeedfe",
   "metadata": {
    "ExecuteTime": {
     "end_time": "2023-08-07T03:38:23.659537Z",
     "start_time": "2023-08-07T03:38:23.644545Z"
    }
   },
   "outputs": [
    {
     "name": "stdout",
     "output_type": "stream",
     "text": [
      "3\n",
      "1 + 2 = 3\n"
     ]
    }
   ],
   "source": [
    "print(f'{1 + 2}')\n",
    "print(f'{1 + 2 = }')   # python3.8的新写法"
   ]
  },
  {
   "cell_type": "code",
   "execution_count": 10,
   "id": "c1fcb8ee",
   "metadata": {
    "ExecuteTime": {
     "end_time": "2023-08-07T03:38:24.128479Z",
     "start_time": "2023-08-07T03:38:24.122466Z"
    }
   },
   "outputs": [
    {
     "name": "stdout",
     "output_type": "stream",
     "text": [
      "Let's go!\n"
     ]
    }
   ],
   "source": [
    "# 当打印内容中有单引号时，需使用双引号\n",
    "print(\"Let's go!\")"
   ]
  },
  {
   "cell_type": "markdown",
   "id": "6e646646",
   "metadata": {},
   "source": [
    "## 注释"
   ]
  },
  {
   "cell_type": "markdown",
   "id": "b8d86809",
   "metadata": {},
   "source": [
    "### 单行注释：以 ```#```  开头"
   ]
  },
  {
   "cell_type": "code",
   "execution_count": 11,
   "id": "81b163e9",
   "metadata": {
    "ExecuteTime": {
     "end_time": "2023-08-07T03:38:25.650505Z",
     "start_time": "2023-08-07T03:38:25.640541Z"
    }
   },
   "outputs": [
    {
     "name": "stdout",
     "output_type": "stream",
     "text": [
      "Hello World!\n"
     ]
    }
   ],
   "source": [
    "# 这是单行注释\n",
    "print('Hello World!')"
   ]
  },
  {
   "cell_type": "markdown",
   "id": "795bb74c",
   "metadata": {},
   "source": [
    "### 多行注释：用三个单引号 ```'''``` 或者三个双引号 ```\"\"\"``` 将注释括起来"
   ]
  },
  {
   "cell_type": "code",
   "execution_count": 12,
   "id": "66636e08",
   "metadata": {
    "ExecuteTime": {
     "end_time": "2023-08-07T03:38:26.949103Z",
     "start_time": "2023-08-07T03:38:26.940140Z"
    }
   },
   "outputs": [
    {
     "name": "stdout",
     "output_type": "stream",
     "text": [
      "Hello World!\n"
     ]
    }
   ],
   "source": [
    "'''\n",
    "这是多行注释，用三个单引号\n",
    "这是多行注释，用三个单引号 \n",
    "这是多行注释，用三个单引号\n",
    "'''\n",
    "print('Hello World!')"
   ]
  },
  {
   "cell_type": "code",
   "execution_count": 13,
   "id": "4823f28f",
   "metadata": {
    "ExecuteTime": {
     "end_time": "2023-08-07T03:38:27.653364Z",
     "start_time": "2023-08-07T03:38:27.635379Z"
    }
   },
   "outputs": [
    {
     "name": "stdout",
     "output_type": "stream",
     "text": [
      "Hello World!\n"
     ]
    }
   ],
   "source": [
    "\"\"\"\n",
    "这是多行注释，用三个双引号\n",
    "这是多行注释，用三个双引号 \n",
    "这是多行注释，用三个双引号\n",
    "\"\"\"\n",
    "print(\"Hello World!\")"
   ]
  },
  {
   "cell_type": "markdown",
   "id": "f405b5fb",
   "metadata": {},
   "source": [
    "# 基本数据类型"
   ]
  },
  {
   "cell_type": "markdown",
   "id": "2d587114",
   "metadata": {},
   "source": [
    "- Python3中有六个标准的数据类型\n",
    "    * Number（数字）\n",
    "    * String（字符串）\n",
    "    * List（列表）\n",
    "    * Dictionary（字典）\n",
    "    * Tuple（元组）\n",
    "    * Set（集合）"
   ]
  },
  {
   "cell_type": "markdown",
   "id": "2c823de2",
   "metadata": {},
   "source": [
    "## 数字"
   ]
  },
  {
   "cell_type": "markdown",
   "id": "de3124a2",
   "metadata": {},
   "source": [
    "### 数字类型"
   ]
  },
  {
   "cell_type": "markdown",
   "id": "1311d67a",
   "metadata": {},
   "source": [
    "- Python3 支持 int、float、bool、complex（复数）。\n",
    "- 在Python 3里，只有一种整数类型 int，表示为长整型，没有 python2 中的 Long。"
   ]
  },
  {
   "cell_type": "code",
   "execution_count": 14,
   "id": "1971c44c",
   "metadata": {
    "ExecuteTime": {
     "end_time": "2023-08-07T03:38:29.761199Z",
     "start_time": "2023-08-07T03:38:29.747205Z"
    }
   },
   "outputs": [
    {
     "name": "stdout",
     "output_type": "stream",
     "text": [
      "<class 'int'> <class 'float'> <class 'bool'> <class 'complex'>\n"
     ]
    }
   ],
   "source": [
    "# 赋值\n",
    "a, b, c, d = 20, 5.5, True, 4+3j\n",
    "# 查询变量所指的对象类型 type()\n",
    "print(type(a), type(b), type(c), type(d))"
   ]
  },
  {
   "cell_type": "markdown",
   "id": "352b2706",
   "metadata": {},
   "source": [
    "### 数值运算"
   ]
  },
  {
   "cell_type": "code",
   "execution_count": 15,
   "id": "b523776b",
   "metadata": {
    "ExecuteTime": {
     "end_time": "2023-08-07T03:38:30.234961Z",
     "start_time": "2023-08-07T03:38:30.218972Z"
    }
   },
   "outputs": [
    {
     "data": {
      "text/plain": [
       "9"
      ]
     },
     "execution_count": 15,
     "metadata": {},
     "output_type": "execute_result"
    }
   ],
   "source": [
    "5 + 4  # 加法+"
   ]
  },
  {
   "cell_type": "code",
   "execution_count": 16,
   "id": "81c76ad1",
   "metadata": {
    "ExecuteTime": {
     "end_time": "2023-08-07T03:38:30.580680Z",
     "start_time": "2023-08-07T03:38:30.566686Z"
    }
   },
   "outputs": [
    {
     "data": {
      "text/plain": [
       "2.3"
      ]
     },
     "execution_count": 16,
     "metadata": {},
     "output_type": "execute_result"
    }
   ],
   "source": [
    "4.3 - 2 # 减法-"
   ]
  },
  {
   "cell_type": "code",
   "execution_count": 17,
   "id": "4d08b63e",
   "metadata": {
    "ExecuteTime": {
     "end_time": "2023-08-07T03:38:30.863229Z",
     "start_time": "2023-08-07T03:38:30.846244Z"
    }
   },
   "outputs": [
    {
     "data": {
      "text/plain": [
       "21"
      ]
     },
     "execution_count": 17,
     "metadata": {},
     "output_type": "execute_result"
    }
   ],
   "source": [
    "3 * 7  # 乘法*"
   ]
  },
  {
   "cell_type": "code",
   "execution_count": 18,
   "id": "f06ba78f",
   "metadata": {
    "ExecuteTime": {
     "end_time": "2023-08-07T03:38:31.082050Z",
     "start_time": "2023-08-07T03:38:31.071080Z"
    }
   },
   "outputs": [
    {
     "data": {
      "text/plain": [
       "0.5"
      ]
     },
     "execution_count": 18,
     "metadata": {},
     "output_type": "execute_result"
    }
   ],
   "source": [
    "2 / 4  # 除法，用单个左下划线“/”，得到一个浮点数"
   ]
  },
  {
   "cell_type": "code",
   "execution_count": 19,
   "id": "0574bb79",
   "metadata": {
    "ExecuteTime": {
     "end_time": "2023-08-07T03:38:31.335438Z",
     "start_time": "2023-08-07T03:38:31.327429Z"
    }
   },
   "outputs": [
    {
     "data": {
      "text/plain": [
       "0"
      ]
     },
     "execution_count": 19,
     "metadata": {},
     "output_type": "execute_result"
    }
   ],
   "source": [
    "2 // 4 # 除法，用两个左下划线“/”，得到一个整数"
   ]
  },
  {
   "cell_type": "code",
   "execution_count": 20,
   "id": "005c7db4",
   "metadata": {
    "ExecuteTime": {
     "end_time": "2023-08-07T03:38:31.648182Z",
     "start_time": "2023-08-07T03:38:31.628224Z"
    }
   },
   "outputs": [
    {
     "data": {
      "text/plain": [
       "2"
      ]
     },
     "execution_count": 20,
     "metadata": {},
     "output_type": "execute_result"
    }
   ],
   "source": [
    "17 % 3 # 取余%"
   ]
  },
  {
   "cell_type": "code",
   "execution_count": 21,
   "id": "99870384",
   "metadata": {
    "ExecuteTime": {
     "end_time": "2023-08-07T03:38:32.024665Z",
     "start_time": "2023-08-07T03:38:32.016720Z"
    }
   },
   "outputs": [
    {
     "data": {
      "text/plain": [
       "32"
      ]
     },
     "execution_count": 21,
     "metadata": {},
     "output_type": "execute_result"
    }
   ],
   "source": [
    "2 ** 5 # 乘方**"
   ]
  },
  {
   "cell_type": "markdown",
   "id": "7f758d8d",
   "metadata": {},
   "source": [
    "## 字符串"
   ]
  },
  {
   "cell_type": "markdown",
   "id": "57d67847",
   "metadata": {},
   "source": [
    "    用单引号 ' 或双引号 \" 括起来，例如'Hello World!'"
   ]
  },
  {
   "cell_type": "markdown",
   "id": "df5e7d6c",
   "metadata": {},
   "source": [
    " "
   ]
  },
  {
   "cell_type": "markdown",
   "id": "99d33de6",
   "metadata": {},
   "source": [
    "- 索引值以 0 为开始值，-1 为从末尾的开始位置\n",
    "- 例如h从前面索引为1，从后面索引为-5"
   ]
  },
  {
   "cell_type": "markdown",
   "id": "cfeeed25",
   "metadata": {},
   "source": [
    "<center><b><big>字符串索引说明图</big></b></center>"
   ]
  },
  {
   "cell_type": "markdown",
   "id": "738cf79a",
   "metadata": {},
   "source": [
    "![string](图片/string.png)"
   ]
  },
  {
   "cell_type": "code",
   "execution_count": 28,
   "id": "6ce78f33",
   "metadata": {
    "ExecuteTime": {
     "end_time": "2023-08-08T17:11:56.658424Z",
     "start_time": "2023-08-08T17:11:56.652939Z"
    }
   },
   "outputs": [
    {
     "data": {
      "text/plain": [
       "'nge'"
      ]
     },
     "execution_count": 28,
     "metadata": {},
     "output_type": "execute_result"
    }
   ],
   "source": [
    "x = 'change'\n",
    "x[-3:]"
   ]
  },
  {
   "cell_type": "markdown",
   "id": "12530341",
   "metadata": {},
   "source": [
    "### 字符串运算"
   ]
  },
  {
   "cell_type": "markdown",
   "id": "bc35c354",
   "metadata": {},
   "source": [
    "|**操作符**|描述|例子|\n",
    "|:----:|:-----|:----:|\n",
    "|**+**|字符串连接|a+b|\n",
    "|**\\***|重复字符串|a*2|\n",
    "|**[]**|通过索引获取字符串中的字符|a[1]|\n",
    "|**[:]**|截取字符串中的⼀部分|a[1:4]|\n",
    "|**in**|成员运算符 - 如果字符串中包含给定的字符返回 True|\"h\" in a|\n",
    "|**not in**|成员运算符 - 如果字符串中不包含给定的字符返回 True|\"M\" not in a|"
   ]
  },
  {
   "cell_type": "markdown",
   "id": "12bdd8b3",
   "metadata": {},
   "source": [
    "<center><small>注：a为hello，b为world</small></center>"
   ]
  },
  {
   "cell_type": "code",
   "execution_count": 29,
   "id": "1ee53d49",
   "metadata": {
    "ExecuteTime": {
     "end_time": "2023-08-07T03:38:35.368312Z",
     "start_time": "2023-08-07T03:38:35.350354Z"
    }
   },
   "outputs": [
    {
     "name": "stdout",
     "output_type": "stream",
     "text": [
      "changeworld\n",
      "changechange\n",
      "h\n",
      "han\n",
      "True\n",
      "True\n"
     ]
    }
   ],
   "source": [
    "a='change'\n",
    "b='world'\n",
    "\n",
    "print(a+b) # +号连接字符串\n",
    "print(a*2) # *号重复字符串\n",
    "print(a[1]) # []索引字符\n",
    "print(a[1:4]) # [:]截取字符串，第1个到第3个\n",
    "print(\"h\" in a) # 是否包含\n",
    "print(\"M\" not in a) # 是否不包含"
   ]
  },
  {
   "cell_type": "markdown",
   "id": "c36a50bc",
   "metadata": {},
   "source": [
    "### 相关函数与方法 split, replace, strip, format"
   ]
  },
  {
   "cell_type": "code",
   "execution_count": 30,
   "id": "7bfd3c07",
   "metadata": {
    "ExecuteTime": {
     "end_time": "2023-08-07T03:38:36.322830Z",
     "start_time": "2023-08-07T03:38:36.308869Z"
    }
   },
   "outputs": [
    {
     "data": {
      "text/plain": [
       "['__add__',\n",
       " '__class__',\n",
       " '__contains__',\n",
       " '__delattr__',\n",
       " '__dir__',\n",
       " '__doc__',\n",
       " '__eq__',\n",
       " '__format__',\n",
       " '__ge__',\n",
       " '__getattribute__',\n",
       " '__getitem__',\n",
       " '__getnewargs__',\n",
       " '__getstate__',\n",
       " '__gt__',\n",
       " '__hash__',\n",
       " '__init__',\n",
       " '__init_subclass__',\n",
       " '__iter__',\n",
       " '__le__',\n",
       " '__len__',\n",
       " '__lt__',\n",
       " '__mod__',\n",
       " '__mul__',\n",
       " '__ne__',\n",
       " '__new__',\n",
       " '__reduce__',\n",
       " '__reduce_ex__',\n",
       " '__repr__',\n",
       " '__rmod__',\n",
       " '__rmul__',\n",
       " '__setattr__',\n",
       " '__sizeof__',\n",
       " '__str__',\n",
       " '__subclasshook__',\n",
       " 'capitalize',\n",
       " 'casefold',\n",
       " 'center',\n",
       " 'count',\n",
       " 'encode',\n",
       " 'endswith',\n",
       " 'expandtabs',\n",
       " 'find',\n",
       " 'format',\n",
       " 'format_map',\n",
       " 'index',\n",
       " 'isalnum',\n",
       " 'isalpha',\n",
       " 'isascii',\n",
       " 'isdecimal',\n",
       " 'isdigit',\n",
       " 'isidentifier',\n",
       " 'islower',\n",
       " 'isnumeric',\n",
       " 'isprintable',\n",
       " 'isspace',\n",
       " 'istitle',\n",
       " 'isupper',\n",
       " 'join',\n",
       " 'ljust',\n",
       " 'lower',\n",
       " 'lstrip',\n",
       " 'maketrans',\n",
       " 'partition',\n",
       " 'removeprefix',\n",
       " 'removesuffix',\n",
       " 'replace',\n",
       " 'rfind',\n",
       " 'rindex',\n",
       " 'rjust',\n",
       " 'rpartition',\n",
       " 'rsplit',\n",
       " 'rstrip',\n",
       " 'split',\n",
       " 'splitlines',\n",
       " 'startswith',\n",
       " 'strip',\n",
       " 'swapcase',\n",
       " 'title',\n",
       " 'translate',\n",
       " 'upper',\n",
       " 'zfill']"
      ]
     },
     "execution_count": 30,
     "metadata": {},
     "output_type": "execute_result"
    }
   ],
   "source": [
    "# 查看内建函数\n",
    "dir(str)"
   ]
  },
  {
   "cell_type": "markdown",
   "id": "8c53877a",
   "metadata": {},
   "source": [
    "<center><big><b>字符串相关函数（部分）</b></big></center>"
   ]
  },
  {
   "cell_type": "markdown",
   "id": "ee48039b",
   "metadata": {},
   "source": [
    "|**函数**|描述|例子|\n",
    "|:----:|:-----|:----:|\n",
    "|**split(str='', num=string.count(str))**|以str为分隔符截取字符串，如果num有指定值，则分割为num+1个子字符串|str1.split('/')|\n",
    "|**strip()**|去除字符串中的空格|str2.strip()|\n",
    "|**replace(old, new [, max])**|将字符串中的str1替换成 str2,如果max指定，则替换不超过max次|str3.replace('中山市', '广州市')|\n",
    "|**'{a}{b}'.format(a=1,b=2)**|填充字符串|'{a}'.format(a='2021年8月19日')|"
   ]
  },
  {
   "cell_type": "code",
   "execution_count": 34,
   "id": "88c65264",
   "metadata": {
    "ExecuteTime": {
     "end_time": "2023-08-07T03:38:38.013574Z",
     "start_time": "2023-08-07T03:38:38.002606Z"
    }
   },
   "outputs": [
    {
     "name": "stdout",
     "output_type": "stream",
     "text": [
      "人类简史：从动物到上帝/尤瓦尔·赫拉利/林俊宏/   中信出 版社  /2014-11/68.00元\n",
      "['人类简史：从动物到上帝', '尤瓦尔·赫拉利', '林俊宏', '   中信出 版社  ', '2014-11', '68.00元']\n",
      "<class 'list'> \n",
      "\n",
      "['人类简史：从动物到上帝', '尤瓦尔·赫拉利/林俊宏/   中信出 版社  /2014-11/68.00元']\n",
      "6\n",
      "2\n"
     ]
    }
   ],
   "source": [
    "# 分割 split(str='', num=string.count(str))\n",
    "# str：分隔符，默认为所有的空字符，包括空格、换行(\\n)、制表符(\\t)等，亦可指定其他的\n",
    "# num：分割次数，默认是-1，即分割所有\n",
    "str1 = '人类简史：从动物到上帝/尤瓦尔·赫拉利/林俊宏/   中信出 版社  /2014-11/68.00元'\n",
    "print(str1)\n",
    "\n",
    "str1_list = str1.split('/')  # 默认分割所有，只要识别到分隔符，就分割\n",
    "print(str1_list)\n",
    "\n",
    "print(type(str1_list), '\\n')   # 分割后，获得列表\n",
    "\n",
    "str1_list_2 = str1.split('/',1)   # 分隔次数为2次（num+1）\n",
    "print(str1_list_2)\n",
    "\n",
    "print(len(str1_list))  # 查看列表长度\n",
    "print(len(str1_list_2))"
   ]
  },
  {
   "cell_type": "code",
   "execution_count": 35,
   "id": "cf403362",
   "metadata": {
    "ExecuteTime": {
     "end_time": "2023-08-07T03:38:38.502785Z",
     "start_time": "2023-08-07T03:38:38.483809Z"
    }
   },
   "outputs": [
    {
     "name": "stdout",
     "output_type": "stream",
     "text": [
      " 中信出版社 \n",
      "中信出版社\n"
     ]
    }
   ],
   "source": [
    "# 去除空格 strip()\n",
    "str2 = ' 中信出版社 '\n",
    "print(str2)\n",
    "print(str2.strip())"
   ]
  },
  {
   "cell_type": "code",
   "execution_count": 37,
   "id": "21ca5d0c",
   "metadata": {
    "ExecuteTime": {
     "end_time": "2023-08-07T03:38:38.974399Z",
     "start_time": "2023-08-07T03:38:38.968417Z"
    }
   },
   "outputs": [
    {
     "name": "stdout",
     "output_type": "stream",
     "text": [
      "中山大学位于中山市。\n",
      "广州大学位于广州市。\n"
     ]
    }
   ],
   "source": [
    "# 替换 replace(old, new [, max])\n",
    "str3 = '中山大学位于中山市。'   # 实际在广州\n",
    "print(str3)\n",
    "print(str3.replace('中山市', '广州市'))"
   ]
  },
  {
   "cell_type": "code",
   "execution_count": 38,
   "id": "27d5f0e9",
   "metadata": {
    "ExecuteTime": {
     "end_time": "2023-08-07T03:39:45.582045Z",
     "start_time": "2023-08-07T03:39:45.576064Z"
    }
   },
   "outputs": [
    {
     "name": "stdout",
     "output_type": "stream",
     "text": [
      "今天是：2023年8月9日\n",
      "今天是：2023年8月9日，天气：晴朗\n"
     ]
    }
   ],
   "source": [
    "# 填充 '{a}{b}'.format(a=1,b=2)\n",
    "# a和b为待填充的变量，在format中给a和b赋值\n",
    "# 填充1个变量\n",
    "str4 = '今天是：{a}'.format(a='2023年8月9日')\n",
    "print(str4)\n",
    "\n",
    "# 填充多个变量\n",
    "str5 = '今天是：{a}，天气：{b}'.format(a='2023年8月9日',b='晴朗')\n",
    "print(str5)"
   ]
  },
  {
   "cell_type": "markdown",
   "id": "6d327aa8",
   "metadata": {},
   "source": [
    "## 列表"
   ]
  },
  {
   "cell_type": "markdown",
   "id": "9cdc3d43",
   "metadata": {},
   "source": [
    "- **```写在⽅括号 [] 之间、⽤逗号分隔开的元素列表```**，元素可以是数字、字符串、甚至是列表等（即嵌套）\n",
    "- 例子：\n",
    "    * [1, 2, 3, 4]\n",
    "    * ['北京','上海','广州','深圳']\n",
    "    * [[1, 2, 3, 4], ['北京','上海','广州','深圳']]"
   ]
  },
  {
   "cell_type": "markdown",
   "id": "e3828e1c",
   "metadata": {},
   "source": [
    "### 列表运算"
   ]
  },
  {
   "cell_type": "markdown",
   "id": "408cb5fb",
   "metadata": {},
   "source": [
    "|**操作符**|描述|例子|\n",
    "|:----:|:-----|:----:|\n",
    "|**+**|列表连接|a+b|\n",
    "|**\\***|重复列表|a*2|\n",
    "|**[]**|通过索引获取列表中的元素|a[1]|\n",
    "|**[:]**|截取列表中的⼀部分|a[1:4]|\n",
    "|**in**|成员运算符 - 如果列表中包含给定的元素返回 True|2 in a|\n",
    "|**not in**|成员运算符 - 如果列表中不包含给定的元素返回 True|2 not in a|"
   ]
  },
  {
   "cell_type": "code",
   "execution_count": 39,
   "id": "26789826",
   "metadata": {
    "ExecuteTime": {
     "end_time": "2023-08-07T03:39:52.240558Z",
     "start_time": "2023-08-07T03:39:52.228590Z"
    }
   },
   "outputs": [
    {
     "name": "stdout",
     "output_type": "stream",
     "text": [
      "[1, 2, 3, 4, '北京', '上海', '广州', '深圳']\n",
      "[1, 2, 3, 4, 1, 2, 3, 4]\n",
      "2\n",
      "[2, 3, 4]\n",
      "True\n",
      "False\n"
     ]
    }
   ],
   "source": [
    "a=[1, 2, 3, 4]\n",
    "b=['北京','上海','广州','深圳']\n",
    "\n",
    "print(a+b) # +号连接列表\n",
    "print(a*2) # *号重复列表\n",
    "print(a[1]) # []索引列表中的元素\n",
    "print(a[1:4]) # [:]截取列表中第1个到第3个元素\n",
    "print(2 in a) # 是否包含\n",
    "print(2 not in a) # 是否不包含"
   ]
  },
  {
   "cell_type": "markdown",
   "id": "471e15b6",
   "metadata": {},
   "source": [
    "### 相关函数与方法 len() append()"
   ]
  },
  {
   "cell_type": "markdown",
   "id": "16b4da44",
   "metadata": {},
   "source": [
    "|**函数**|描述|\n",
    "|:----:|:-----|\n",
    "|**```len(list)```**|列表元素个数|\n",
    "|max(list)|返回列表元素最⼤值|\n",
    "|min(list)|返回列表元素最⼩值|\n",
    "|**```list.append(obj)```**|在列表末尾添加新的对象|\n",
    "|list.count(obj)|统计某个元素在列表中出现的次数|\n",
    "|list.extend(seq)|在列表末尾⼀次性追加另⼀个序列中的多个值（⽤新列表扩展原来的列表）|\n",
    "|list.index(obj)|从列表中找出某个值第⼀个匹配项的索引位置|\n",
    "|list.insert(index, obj)|将对象插⼊列表|\n",
    "|list.pop([index=-1])|移除列表中的⼀个元素（默认最后⼀个元素），并且返回该元素的值|\n",
    "|list.remove(obj)|移除列表中某个值的第⼀个匹配项|\n",
    "|list.reverse()|反向列表中元素|\n",
    "|list.sort( key=None, reverse=False)|对原列表进⾏排序|\n",
    "|list.clear()|清空列表|\n",
    "|list.copy()|复制列表|"
   ]
  },
  {
   "cell_type": "markdown",
   "id": "54be7b2e",
   "metadata": {},
   "source": [
    "    注：\n",
    "    - list为自设定的list名字，obj为特定的元素对象\n",
    "    - 例如b=['北京','上海','广州','深圳']中，list为b，obj则是其中任一元素，如“广州”"
   ]
  },
  {
   "cell_type": "code",
   "execution_count": 40,
   "id": "aa668bbd",
   "metadata": {
    "ExecuteTime": {
     "end_time": "2023-08-07T03:40:00.115508Z",
     "start_time": "2023-08-07T03:40:00.105536Z"
    }
   },
   "outputs": [
    {
     "data": {
      "text/plain": [
       "4"
      ]
     },
     "execution_count": 40,
     "metadata": {},
     "output_type": "execute_result"
    }
   ],
   "source": [
    "# 列表元素个数 len()\n",
    "b=['北京','上海','广州','深圳']\n",
    "len(b)"
   ]
  },
  {
   "cell_type": "code",
   "execution_count": 41,
   "id": "86ca980c",
   "metadata": {
    "ExecuteTime": {
     "end_time": "2023-08-07T03:40:02.489940Z",
     "start_time": "2023-08-07T03:40:02.479968Z"
    }
   },
   "outputs": [
    {
     "data": {
      "text/plain": [
       "['北京', '上海', '广州', '深圳', '青岛']"
      ]
     },
     "execution_count": 41,
     "metadata": {},
     "output_type": "execute_result"
    }
   ],
   "source": [
    "# 在列表末尾添加新的对象 append()\n",
    "b=['北京','上海','广州','深圳']\n",
    "b.append('青岛')\n",
    "b"
   ]
  },
  {
   "cell_type": "code",
   "execution_count": 42,
   "id": "3415cb38",
   "metadata": {
    "ExecuteTime": {
     "end_time": "2023-08-07T03:40:03.415642Z",
     "start_time": "2023-08-07T03:40:03.396691Z"
    }
   },
   "outputs": [
    {
     "data": {
      "text/plain": [
       "[]"
      ]
     },
     "execution_count": 42,
     "metadata": {},
     "output_type": "execute_result"
    }
   ],
   "source": [
    "# 生成空列表\n",
    "c = []\n",
    "c"
   ]
  },
  {
   "cell_type": "markdown",
   "id": "7dff1e02",
   "metadata": {},
   "source": [
    "## 字典"
   ]
  },
  {
   "cell_type": "markdown",
   "id": "27e74915",
   "metadata": {},
   "source": [
    "1. 写在花括号{}里，是无序的“键:值”（key:value)的集合\n",
    "2. ```键值对```：即key:value，用冒号(:)分隔，每个键值对间用逗号(,)分隔\n",
    "3. ```key和value的要求```：在同一个字典中，key可以取任何数据类型，但必须是唯一的，且不可变的，例如字符串、数字；value不要求唯一\n",
    "4. ```字典格式```：\n",
    "\n",
    "<!--  -->\n",
    "<center><b>d = {key1 : value1, key2 : value2, key3 : value3}</b></center>"
   ]
  },
  {
   "cell_type": "markdown",
   "id": "3c575214",
   "metadata": {},
   "source": [
    "![dict1](图片/dict1.png)"
   ]
  },
  {
   "cell_type": "markdown",
   "id": "e0f1a2b1",
   "metadata": {},
   "source": [
    "### 字典处理"
   ]
  },
  {
   "cell_type": "code",
   "execution_count": 43,
   "id": "4b1f0493",
   "metadata": {
    "ExecuteTime": {
     "end_time": "2023-08-07T03:40:07.859036Z",
     "start_time": "2023-08-07T03:40:07.846075Z"
    }
   },
   "outputs": [
    {
     "name": "stdout",
     "output_type": "stream",
     "text": [
      "{}\n",
      "{'book_name': '人类简史：从动物到上帝', 'author': '尤瓦尔·赫拉利', 'publisher': '中信出版社'}\n"
     ]
    }
   ],
   "source": [
    "# 创建字典\n",
    "dict0 = {}    # 创建空字典\n",
    "dict1 = {'book_name':'人类简史：从动物到上帝','author':'尤瓦尔·赫拉利','publisher':'中信出版社'}  # 创建非空字典\n",
    "\n",
    "print(dict0)\n",
    "print(dict1)"
   ]
  },
  {
   "cell_type": "code",
   "execution_count": 44,
   "id": "1a73f1d6",
   "metadata": {
    "ExecuteTime": {
     "end_time": "2023-08-07T03:40:08.388270Z",
     "start_time": "2023-08-07T03:40:08.381289Z"
    }
   },
   "outputs": [
    {
     "name": "stdout",
     "output_type": "stream",
     "text": [
      "人类简史：从动物到上帝\n",
      "尤瓦尔·赫拉利\n"
     ]
    }
   ],
   "source": [
    "# 访问字典里的值\n",
    "print(dict1['book_name'])  # 访问book_name的值\n",
    "print(dict1['author'])  # 访问author的值"
   ]
  },
  {
   "cell_type": "code",
   "execution_count": 45,
   "id": "43b07906",
   "metadata": {
    "ExecuteTime": {
     "end_time": "2023-08-07T03:40:09.072584Z",
     "start_time": "2023-08-07T03:40:09.057594Z"
    }
   },
   "outputs": [
    {
     "name": "stdout",
     "output_type": "stream",
     "text": [
      "{'book_name': '人类简史：从动物到上帝', 'author': '尤瓦尔·赫拉利', 'publisher': '中信出版社'}\n",
      "{'book_name': '人类简史：从动物到上帝', 'author': '尤瓦尔·赫拉利', 'publisher': '中信出版社', 'translator': '林俊宏'}\n"
     ]
    }
   ],
   "source": [
    "# 向字典添加/修改/删除键值对\n",
    "# 添加键值对\n",
    "dict1 = {'book_name':'人类简史：从动物到上帝','author':'尤瓦尔·赫拉利','publisher':'中信出版社'}\n",
    "print(dict1)\n",
    "dict1['translator'] = '林俊宏'\n",
    "print(dict1)"
   ]
  },
  {
   "cell_type": "code",
   "execution_count": 46,
   "id": "24261a58",
   "metadata": {
    "ExecuteTime": {
     "end_time": "2023-08-07T03:40:09.666750Z",
     "start_time": "2023-08-07T03:40:09.657777Z"
    }
   },
   "outputs": [
    {
     "name": "stdout",
     "output_type": "stream",
     "text": [
      "{'book_name': '人类简史', 'author': '尤瓦尔·赫拉利', 'publisher': '中信出版社', 'translator': '林俊宏'}\n"
     ]
    }
   ],
   "source": [
    "# 修改键值对\n",
    "dict1['book_name'] = '人类简史'\n",
    "print(dict1)"
   ]
  },
  {
   "cell_type": "code",
   "execution_count": 47,
   "id": "7c1d2f0c",
   "metadata": {
    "ExecuteTime": {
     "end_time": "2023-08-07T03:40:10.448683Z",
     "start_time": "2023-08-07T03:40:10.438675Z"
    }
   },
   "outputs": [
    {
     "name": "stdout",
     "output_type": "stream",
     "text": [
      "{'book_name': '人类简史', 'author': '尤瓦尔·赫拉利', 'publisher': '中信出版社'}\n"
     ]
    }
   ],
   "source": [
    "# 删除键值对\n",
    "del dict1['translator']\n",
    "print(dict1)"
   ]
  },
  {
   "cell_type": "markdown",
   "id": "a3d0ecad",
   "metadata": {},
   "source": [
    "### 相关函数与方法 len() items() keys() values()"
   ]
  },
  {
   "cell_type": "markdown",
   "id": "7a2281af",
   "metadata": {},
   "source": [
    "|**函数**|描述|\n",
    "|:----:|:-----|\n",
    "|**```len(dict)```**|计算字典元素个数，即键的总数|\n",
    "|str(dict)|输出字典，以可打印的字符串表示|\n",
    "|dict.clear()|删除字典内所有元素|\n",
    "|dict.copy()|返回⼀个字典的浅复制|\n",
    "|dict.fromkeys()|创建⼀个新字典，以序列seq中元素做字典的键，val为字典所有键对应的初始值|\n",
    "|dict.get(key, default=None)|返回指定键的值，如果值不在字典中返回 default值|\n",
    "|key in dict|如果键在字典dict⾥返回true，否则返回false|\n",
    "|**```dict.items()```**|以列表返回可遍历的(键, 值) 元组数组|\n",
    "|**```dict.keys()```**|返回⼀个迭代器，可以使⽤ list() 来转换为列表|\n",
    "|**```dict.values()```**|返回⼀个迭代器，可以使⽤ list() 来转换为列表|\n",
    "|dict.setdefault(key, default=None)|和get()类似, 但如果键不存在于字典中，将会添加键并将值设为default|\n",
    "|dict.update(dict2)|把字典dict2的键/值对更新到dict⾥|\n",
    "|pop(key[,default])|删除字典给定键 key 所对应的值，返回值为被删除的值。key值必须给出。否则，返回default值|\n",
    "|popitem()|随机返回并删除字典中的最后⼀对键和值|"
   ]
  },
  {
   "cell_type": "code",
   "execution_count": 48,
   "id": "f1d5e93a",
   "metadata": {
    "ExecuteTime": {
     "end_time": "2023-08-08T17:34:13.661353Z",
     "start_time": "2023-08-08T17:34:13.656322Z"
    }
   },
   "outputs": [
    {
     "name": "stdout",
     "output_type": "stream",
     "text": [
      "{'book_name': '人类简史：从动物到上帝', 'author': '尤瓦尔·赫拉利', 'publisher': '中信出版社'}\n"
     ]
    }
   ],
   "source": [
    "dict1 = {'book_name':'人类简史：从动物到上帝','author':'尤瓦尔·赫拉利','publisher':'中信出版社'}\n",
    "print(dict1)"
   ]
  },
  {
   "cell_type": "code",
   "execution_count": 49,
   "id": "097bd103",
   "metadata": {
    "ExecuteTime": {
     "end_time": "2023-08-08T17:34:14.440731Z",
     "start_time": "2023-08-08T17:34:14.434779Z"
    }
   },
   "outputs": [
    {
     "data": {
      "text/plain": [
       "3"
      ]
     },
     "execution_count": 49,
     "metadata": {},
     "output_type": "execute_result"
    }
   ],
   "source": [
    "# 查看字典长度 len()\n",
    "len(dict1)"
   ]
  },
  {
   "cell_type": "code",
   "execution_count": 50,
   "id": "45ad341b",
   "metadata": {
    "ExecuteTime": {
     "end_time": "2023-08-08T17:34:15.390334Z",
     "start_time": "2023-08-08T17:34:15.383718Z"
    }
   },
   "outputs": [
    {
     "data": {
      "text/plain": [
       "dict_items([('book_name', '人类简史：从动物到上帝'), ('author', '尤瓦尔·赫拉利'), ('publisher', '中信出版社')])"
      ]
     },
     "execution_count": 50,
     "metadata": {},
     "output_type": "execute_result"
    }
   ],
   "source": [
    "# 查看所有键值对 items()\n",
    "dict1.items()"
   ]
  },
  {
   "cell_type": "code",
   "execution_count": 52,
   "id": "3e5bc1c5",
   "metadata": {
    "ExecuteTime": {
     "end_time": "2023-08-08T17:35:09.356218Z",
     "start_time": "2023-08-08T17:35:09.350056Z"
    }
   },
   "outputs": [
    {
     "name": "stdout",
     "output_type": "stream",
     "text": [
      "book_name\n",
      "author\n",
      "publisher\n"
     ]
    }
   ],
   "source": [
    "# 遍历并打印所有键值对\n",
    "for key, value in dict1.items():\n",
    "    print(key,':', value)"
   ]
  },
  {
   "cell_type": "code",
   "execution_count": 53,
   "id": "77f6e0ce",
   "metadata": {
    "ExecuteTime": {
     "end_time": "2023-08-07T03:40:17.374215Z",
     "start_time": "2023-08-07T03:40:17.354269Z"
    }
   },
   "outputs": [
    {
     "data": {
      "text/plain": [
       "dict_keys(['book_name', 'author', 'publisher'])"
      ]
     },
     "execution_count": 53,
     "metadata": {},
     "output_type": "execute_result"
    }
   ],
   "source": [
    "# 查看所有的键  keys()\n",
    "dict1.keys()"
   ]
  },
  {
   "cell_type": "code",
   "execution_count": 54,
   "id": "6b3918db",
   "metadata": {
    "ExecuteTime": {
     "end_time": "2023-08-07T03:40:18.081364Z",
     "start_time": "2023-08-07T03:40:18.076361Z"
    }
   },
   "outputs": [
    {
     "data": {
      "text/plain": [
       "dict_values(['人类简史：从动物到上帝', '尤瓦尔·赫拉利', '中信出版社'])"
      ]
     },
     "execution_count": 54,
     "metadata": {},
     "output_type": "execute_result"
    }
   ],
   "source": [
    "# 查看所有的值 values()\n",
    "dict1.values()"
   ]
  },
  {
   "cell_type": "code",
   "execution_count": 55,
   "id": "430db079",
   "metadata": {
    "ExecuteTime": {
     "end_time": "2023-08-07T03:40:18.532897Z",
     "start_time": "2023-08-07T03:40:18.514945Z"
    }
   },
   "outputs": [
    {
     "data": {
      "text/plain": [
       "[{'book_name': '人类简史：从动物到上帝', 'author': '尤瓦尔·赫拉利', 'publisher': '中信出版社'},\n",
       " {'book_name': '理想国', 'author': '柏拉图', 'publisher': '商务印书馆'},\n",
       " {'book_name': '社会契约论', 'author': '卢梭', 'publisher': '商务印书馆'}]"
      ]
     },
     "execution_count": 55,
     "metadata": {},
     "output_type": "execute_result"
    }
   ],
   "source": [
    "# 以字典为元素的列表——json文件格式\n",
    "dict2 = {'book_name':'理想国','author':'柏拉图','publisher':'商务印书馆'}\n",
    "dict3 = {'book_name':'社会契约论','author':'卢梭','publisher':'商务印书馆'}\n",
    "dict_list = [dict1, dict2, dict3]\n",
    "dict_list    # 即json数据格式，是一种网页数据的存储格式，爬虫时涉及"
   ]
  },
  {
   "cell_type": "markdown",
   "id": "56ac43fb",
   "metadata": {},
   "source": [
    "## 元组"
   ]
  },
  {
   "cell_type": "markdown",
   "id": "9fa8076c",
   "metadata": {},
   "source": [
    "1. **```写在⼩括号()⾥，元素之间⽤逗号隔开```**，元素可以是字符串、数字等\n",
    "2. 例子：\n",
    "    * ('张三','男',25)\n",
    "    * (1, 2, 3, 4, 5 )\n",
    "3. 与列表的对比：\n",
    "    * 二者相似，不同之处在于列表元素可修改，元组元素**```不可修改```**"
   ]
  },
  {
   "cell_type": "code",
   "execution_count": 56,
   "id": "b1dceb8c",
   "metadata": {
    "ExecuteTime": {
     "end_time": "2023-08-07T03:40:20.162818Z",
     "start_time": "2023-08-07T03:40:20.142901Z"
    }
   },
   "outputs": [
    {
     "name": "stdout",
     "output_type": "stream",
     "text": [
      "('张三', '男', 25)\n",
      "(1, 2, 3, 4, 5)\n",
      "<class 'tuple'>\n"
     ]
    }
   ],
   "source": [
    "tup1 = ('张三','男',25)\n",
    "print(tup1)\n",
    "\n",
    "tup2 = (1, 2, 3, 4, 5 )\n",
    "print(tup2)\n",
    "\n",
    "print(type(tup1))"
   ]
  },
  {
   "cell_type": "markdown",
   "id": "b5d3fe15",
   "metadata": {},
   "source": [
    "## 集合"
   ]
  },
  {
   "cell_type": "markdown",
   "id": "d798ecfa",
   "metadata": {},
   "source": [
    "- **```写在花括号{}里，元素之间用逗号隔开```**，元素不重复、无序"
   ]
  },
  {
   "cell_type": "code",
   "execution_count": 57,
   "id": "2a19273f",
   "metadata": {
    "ExecuteTime": {
     "end_time": "2023-08-07T03:40:22.998608Z",
     "start_time": "2023-08-07T03:40:22.979627Z"
    }
   },
   "outputs": [
    {
     "name": "stdout",
     "output_type": "stream",
     "text": [
      "{'深圳', '广州', '上海', '北京'}\n",
      "{'b', 'c', 'e', 'd', 'a'}\n",
      "set()\n"
     ]
    }
   ],
   "source": [
    "# 创建集合\n",
    "set1 = {'上海', '北京', '广州', '深圳'}  # 直接用花括号\n",
    "print(set1)\n",
    "\n",
    "set2 = set('abcde') # 用set()\n",
    "print(set2)\n",
    "\n",
    "set3 = set() # 空集合，只能用set()，因为{}是用来创建空字典的\n",
    "print(set3)"
   ]
  },
  {
   "cell_type": "code",
   "execution_count": 58,
   "id": "a49798e1",
   "metadata": {
    "ExecuteTime": {
     "end_time": "2023-08-07T03:40:23.548795Z",
     "start_time": "2023-08-07T03:40:23.543809Z"
    }
   },
   "outputs": [
    {
     "data": {
      "text/plain": [
       "{'上海', '北京', '广州', '深圳'}"
      ]
     },
     "execution_count": 58,
     "metadata": {},
     "output_type": "execute_result"
    }
   ],
   "source": [
    "# 删除重复元素\n",
    "set4 = {'北京', '广州', '上海', '广州', '深圳', '广州'}\n",
    "set4"
   ]
  },
  {
   "cell_type": "code",
   "execution_count": 59,
   "id": "44cbad1d",
   "metadata": {
    "ExecuteTime": {
     "end_time": "2023-08-07T03:40:24.142893Z",
     "start_time": "2023-08-07T03:40:24.132885Z"
    }
   },
   "outputs": [
    {
     "data": {
      "text/plain": [
       "True"
      ]
     },
     "execution_count": 59,
     "metadata": {},
     "output_type": "execute_result"
    }
   ],
   "source": [
    "# 元素关系测试\n",
    "set1 = {'上海', '北京', '广州', '深圳'}\n",
    "'广州' in set1"
   ]
  },
  {
   "cell_type": "markdown",
   "id": "6ee735d3",
   "metadata": {},
   "source": [
    "# 循环语句：while和for"
   ]
  },
  {
   "cell_type": "markdown",
   "id": "f7f3cfdd",
   "metadata": {},
   "source": [
    "1. 主要包括while和for两种类型\n",
    "2. 注意**```冒号和缩进```**\n",
    "3. while和for可以相互嵌套，形成多层嵌套的循环"
   ]
  },
  {
   "cell_type": "markdown",
   "id": "827555cf",
   "metadata": {},
   "source": [
    "## while语句"
   ]
  },
  {
   "cell_type": "markdown",
   "id": "a5e1ed1e",
   "metadata": {},
   "source": [
    "- 在给定的判断条件为 true 时执⾏循环体，否则退出循环体"
   ]
  },
  {
   "cell_type": "markdown",
   "id": "b1cadd46",
   "metadata": {},
   "source": [
    "<center><b>while condition（条件）:</b></center>\n",
    "<center><b>　　statements（代码块）</b></center>"
   ]
  },
  {
   "cell_type": "code",
   "execution_count": 60,
   "id": "955e0722",
   "metadata": {
    "ExecuteTime": {
     "end_time": "2023-08-07T03:40:28.155554Z",
     "start_time": "2023-08-07T03:40:28.136581Z"
    }
   },
   "outputs": [
    {
     "name": "stdout",
     "output_type": "stream",
     "text": [
      "1\n",
      "3\n",
      "5\n",
      "7\n",
      "9\n"
     ]
    }
   ],
   "source": [
    "i = 1\n",
    "while i < 10:\n",
    "    print(i)\n",
    "    i = i + 2"
   ]
  },
  {
   "cell_type": "markdown",
   "id": "c9592a79",
   "metadata": {},
   "source": [
    "## for语句"
   ]
  },
  {
   "cell_type": "markdown",
   "id": "0c63a92b",
   "metadata": {},
   "source": [
    "1. 遍历任何序列的项⽬（如列表、字符串），执行循环体\n",
    "2. 如果遍历数字序列，可使用内置range()函数"
   ]
  },
  {
   "cell_type": "markdown",
   "id": "db3921a0",
   "metadata": {},
   "source": [
    "<center><b>for variable in sequence:</b></center>\n",
    "<center><b>　　statement（代码块）</b></center>\n",
    "<center><small>（注：for 迭代对象 in 任何序列）</small></center>"
   ]
  },
  {
   "cell_type": "code",
   "execution_count": 61,
   "id": "c5f13f1d",
   "metadata": {
    "ExecuteTime": {
     "end_time": "2023-08-07T03:40:31.164627Z",
     "start_time": "2023-08-07T03:40:31.146694Z"
    }
   },
   "outputs": [
    {
     "name": "stdout",
     "output_type": "stream",
     "text": [
      "北京\n",
      "上海\n",
      "广州\n",
      "深圳\n"
     ]
    }
   ],
   "source": [
    "b=['北京','上海','广州','深圳']\n",
    "for j in b:\n",
    "    print(j)"
   ]
  },
  {
   "cell_type": "code",
   "execution_count": 62,
   "id": "294ea3de",
   "metadata": {
    "ExecuteTime": {
     "end_time": "2023-08-07T03:40:31.573717Z",
     "start_time": "2023-08-07T03:40:31.562714Z"
    }
   },
   "outputs": [
    {
     "name": "stdout",
     "output_type": "stream",
     "text": [
      "1\n",
      "2\n",
      "3\n",
      "4\n"
     ]
    }
   ],
   "source": [
    "for k in range(1,5):  # 1到4的数字序列\n",
    "    print(k)"
   ]
  },
  {
   "cell_type": "markdown",
   "id": "2f5ce35a",
   "metadata": {},
   "source": [
    "## 其他语句 break continue else pass"
   ]
  },
  {
   "cell_type": "markdown",
   "id": "a5d0eb53",
   "metadata": {},
   "source": [
    "1. **```break语句```**： <br>\n",
    "　　在语句块执⾏过程中终⽌循环，并且**<u>```跳出整个循环```</u>**"
   ]
  },
  {
   "cell_type": "code",
   "execution_count": null,
   "id": "c9715603",
   "metadata": {
    "ExecuteTime": {
     "end_time": "2023-08-08T15:49:12.765571Z",
     "start_time": "2023-08-08T15:49:12.761069Z"
    }
   },
   "outputs": [],
   "source": [
    "for i in range(0,5):\n",
    "    print(i)"
   ]
  },
  {
   "cell_type": "code",
   "execution_count": null,
   "id": "a4c4726e",
   "metadata": {
    "ExecuteTime": {
     "end_time": "2023-08-08T16:27:04.204545Z",
     "start_time": "2023-08-08T16:27:04.198551Z"
    }
   },
   "outputs": [],
   "source": [
    "for i in range(0,5):\n",
    "    if i==3:\n",
    "        break\n",
    "    print(i)"
   ]
  },
  {
   "cell_type": "markdown",
   "id": "7cf7b5da",
   "metadata": {},
   "source": [
    "2. **```continue语句```**： <br>\n",
    "　　在语句块执⾏过程中**<u>```结束本次循环，回到循环语句的开头，执行下一次循环```</u>**"
   ]
  },
  {
   "cell_type": "code",
   "execution_count": null,
   "id": "42ef97f2",
   "metadata": {
    "ExecuteTime": {
     "end_time": "2023-08-08T16:27:31.471838Z",
     "start_time": "2023-08-08T16:27:31.465855Z"
    }
   },
   "outputs": [],
   "source": [
    "for i in range(0,5):\n",
    "    if i==3:\n",
    "        continue\n",
    "    print(i)"
   ]
  },
  {
   "cell_type": "markdown",
   "id": "1e6eb913",
   "metadata": {},
   "source": [
    "3. **```else 语句```**： <br>\n",
    "　　当条件不满足之后，**<u>```结束循环，执行else语句```</u>**"
   ]
  },
  {
   "cell_type": "code",
   "execution_count": null,
   "id": "9907dd39",
   "metadata": {
    "ExecuteTime": {
     "end_time": "2023-08-08T16:33:00.773552Z",
     "start_time": "2023-08-08T16:33:00.767106Z"
    }
   },
   "outputs": [],
   "source": [
    "for i in range(0,5):\n",
    "    if i==3:\n",
    "        print(i)\n",
    "    else:\n",
    "        print('不等于3')"
   ]
  },
  {
   "cell_type": "markdown",
   "id": "766920fe",
   "metadata": {},
   "source": [
    "4. **```pass语句```**： <br>\n",
    "　　空语句，**<u>```什么也不做，只起到占位作用，循环中使用pass不会跳出循环```</u>**"
   ]
  },
  {
   "cell_type": "code",
   "execution_count": null,
   "id": "b96c7979",
   "metadata": {
    "ExecuteTime": {
     "end_time": "2023-08-08T16:27:46.285232Z",
     "start_time": "2023-08-08T16:27:46.279281Z"
    }
   },
   "outputs": [],
   "source": [
    "for i in range(0,5):\n",
    "    if i==3:\n",
    "        pass\n",
    "    print(i)"
   ]
  },
  {
   "cell_type": "markdown",
   "id": "936411d0",
   "metadata": {},
   "source": [
    "# 函数：输入参数，得到返回值"
   ]
  },
  {
   "cell_type": "markdown",
   "id": "4f554c72",
   "metadata": {},
   "source": [
    "1. 函数是组织好的，可重复使⽤的，⽤来实现单⼀，或相关联功能的**```代码段```**\n",
    "2. 好处：函数能提⾼应⽤的模块性，和代码的重复利⽤率\n",
    "3. 函数类型：\n",
    "    * 内建函数：Python自带的函数，例如print\n",
    "    * 自定义函数：我们自己定义的函数\n",
    "4. 格式如下：<br>\n",
    "　　**```def 函数名（参数列表）:```<br>\n",
    "　　　　```函数体```**"
   ]
  },
  {
   "cell_type": "markdown",
   "id": "a2195e4c",
   "metadata": {},
   "source": [
    "![definition](图片/definition.png)"
   ]
  },
  {
   "cell_type": "markdown",
   "id": "ae4c592c",
   "metadata": {},
   "source": [
    "<center><small>（注：图片来源于https://www.runoob.com/python3/python3-function.html）</small></center>"
   ]
  },
  {
   "cell_type": "markdown",
   "id": "949b96c7",
   "metadata": {},
   "source": [
    "5. **```定义函数的规则```**：\n",
    "    - 函数代码块**<u>```以def关键词开头，后接函数标识符名称和圆括号 ()```</u>**。\n",
    "    - 任何传入参数和自变量必须放在圆括号中间，圆括号之间可以用于定义参数。\n",
    "    - 函数的第一行语句可以选择性地使用文档字符串—用于存放函数说明。\n",
    "    - 函数内容**<u>```以冒号 : 起始，并且缩进```</u>**。\n",
    "    - return [表达式] 结束函数，选择性地**<u>```返回一个值```</u>**给调用方，不带表达式的 return 相当于返回 **<u>```None```</u>**。"
   ]
  },
  {
   "cell_type": "code",
   "execution_count": 63,
   "id": "988e02c3",
   "metadata": {
    "ExecuteTime": {
     "end_time": "2023-08-07T03:43:03.419205Z",
     "start_time": "2023-08-07T03:43:03.407205Z"
    }
   },
   "outputs": [
    {
     "name": "stdout",
     "output_type": "stream",
     "text": [
      "Hello World!\n"
     ]
    }
   ],
   "source": [
    "def hello():  # 定义hello函数，使其打印Hello World!\n",
    "    print(\"Hello World!\")\n",
    "\n",
    "hello()       # 调用hello函数"
   ]
  },
  {
   "cell_type": "code",
   "execution_count": 65,
   "id": "154369b6",
   "metadata": {
    "ExecuteTime": {
     "end_time": "2023-08-07T03:43:03.946223Z",
     "start_time": "2023-08-07T03:43:03.933255Z"
    }
   },
   "outputs": [],
   "source": [
    "# 【函数】中加入【参数】\n",
    "def get_max(a, b):     # 定义get_max函数，输入a和b参数，使其返回最大值\n",
    "    if a > b:\n",
    "        return a\n",
    "    else:\n",
    "        return b"
   ]
  },
  {
   "cell_type": "code",
   "execution_count": 66,
   "id": "7ac12a3d",
   "metadata": {
    "ExecuteTime": {
     "end_time": "2023-08-07T03:43:04.744344Z",
     "start_time": "2023-08-07T03:43:04.731412Z"
    }
   },
   "outputs": [
    {
     "name": "stdout",
     "output_type": "stream",
     "text": [
      "4\n"
     ]
    }
   ],
   "source": [
    "# 调用get_max函数\n",
    "a = 3\n",
    "b = 4\n",
    "print(get_max(a, b))"
   ]
  },
  {
   "cell_type": "markdown",
   "id": "cc221dbd",
   "metadata": {},
   "source": [
    "# 文件"
   ]
  },
  {
   "cell_type": "markdown",
   "id": "64003b15",
   "metadata": {},
   "source": [
    "## 打开文件 open()"
   ]
  },
  {
   "cell_type": "markdown",
   "id": "d7642041",
   "metadata": {},
   "source": [
    "1. 打开文件用open()，返回一个file对象，格式如下：\n",
    "**<center>```open(file, mode, encoding=utf-8,newline='')```</center>**\n",
    "- file：要访问的⽂件名称的字符串值\n",
    "- mode：⽂件打开模式，包括只读、写⼊、追加等，可选，默认模式为只读(r)\n",
    "- encoding：编码类型，一般使用utf-8\n",
    "- newline：区分换行符"
   ]
  },
  {
   "cell_type": "markdown",
   "id": "83dd1f64",
   "metadata": {},
   "source": [
    "2. mode参数，常用r,w+,a+\n",
    "    - **```r模式```**：以只读⽅式打开⽂件。⽂件的指针将会放在⽂件的开头。这是默认模式。\n",
    "    - **```w+模式```**：打开文件用于读写。如果该⽂件已存在则打开⽂件，并**<u>```从开头开始编辑，即原有内容会被删除```</u>**。如果该⽂件不存在，创建新⽂件。\n",
    "    - **```a+模式```**：打开⼀个⽂件⽤于读写，为**<u>```追加模式```</u>**。如果该⽂件已存在，⽂件指针将会放在⽂件的结尾，**<u>```从结尾写入新的数据```</u>**。如果该⽂件不存在，创建新⽂件⽤于读写。"
   ]
  },
  {
   "cell_type": "markdown",
   "id": "b164e879",
   "metadata": {},
   "source": [
    "## 文件方法"
   ]
  },
  {
   "cell_type": "markdown",
   "id": "d85e2aad",
   "metadata": {},
   "source": [
    "|**函数**|描述|\n",
    "|:----:|:-----|\n",
    "|f.read(size)|读取⼀个⽂件的内容，size为读取的字节数，默认为-1，即读取整个文件|\n",
    "|f.readline()|从⽂件中读取单独的⼀⾏（指针所在行）|\n",
    "|**```f.readlines()```**|读取文件的所有行|\n",
    "|**```f.write(string)```**|将string写⼊⽂件中|\n",
    "|f.tell()|返回文件当前位置|\n",
    "|f.seek()|移动文件读取指针到指定位置|\n",
    "|**```f.close()```**|关闭文件|"
   ]
  },
  {
   "cell_type": "code",
   "execution_count": 68,
   "id": "890f146d",
   "metadata": {
    "ExecuteTime": {
     "end_time": "2023-08-08T17:48:12.012345Z",
     "start_time": "2023-08-08T17:48:12.005342Z"
    }
   },
   "outputs": [],
   "source": [
    "# 写入文件\n",
    "# 打开文件\n",
    "file1 = open('output/test.txt', 'a+')    # 如果改成a+\n",
    "# 写入内容\n",
    "file1.write('Python 是一门非常好学的语言。\\n没错，很简单！！\\n')   # \\n为换行符，实现换行\n",
    "# 关闭文件\n",
    "file1.close()"
   ]
  },
  {
   "cell_type": "code",
   "execution_count": 70,
   "id": "5d7856ea",
   "metadata": {
    "ExecuteTime": {
     "end_time": "2023-08-08T17:49:27.620882Z",
     "start_time": "2023-08-08T17:49:27.615565Z"
    }
   },
   "outputs": [
    {
     "name": "stdout",
     "output_type": "stream",
     "text": [
      "Python 是一门非常好学的语言。\n",
      "\n",
      "没错，很简单！！\n",
      "\n",
      "Python 是一门非常好学的语言。\n",
      "\n",
      "没错，很简单！！\n",
      "\n",
      "\n",
      "\n",
      "测试\n",
      "\n"
     ]
    }
   ],
   "source": [
    "# 读取文件\n",
    "# 打开文件\n",
    "file2 = open('output/test_2.txt', 'r')\n",
    "# 读取所有行\n",
    "for line in file2.readlines():\n",
    "    print(line)\n",
    "# 关闭文件\n",
    "file2.close()"
   ]
  },
  {
   "cell_type": "markdown",
   "id": "8a538e92",
   "metadata": {},
   "source": [
    "## 实例：csv文件"
   ]
  },
  {
   "cell_type": "markdown",
   "id": "911fc3c1",
   "metadata": {},
   "source": [
    "1. 有一些类型的文件需要用到专门的包，例如csv文件用csv或pandas，excel文件用xlrd，json文件用json\n",
    "2. 这些包有自己的特殊参数和方法，例如csv的标题行参数fieldnames、word的段落方法paragraphs"
   ]
  },
  {
   "cell_type": "markdown",
   "id": "c4c05d5f",
   "metadata": {},
   "source": [
    "|**文件类型**|工具包|\n",
    "|:----:|:----:|\n",
    "|txt|--|\n",
    "|**```csv```**|csv, pandas|\n",
    "|excel|xlrd, pandas, openpyxl|\n",
    "|word|docx, win32com|\n",
    "|json|json|"
   ]
  },
  {
   "cell_type": "markdown",
   "id": "2959e24c",
   "metadata": {},
   "source": [
    "**```csv文件```**：\n",
    "- 以纯文本形式存储表格数据的简单文件格式，**<u>```用逗号分隔，但能够呈现像excel表格样式的数据```</u>**"
   ]
  },
  {
   "cell_type": "code",
   "execution_count": 71,
   "id": "67f34b3b",
   "metadata": {
    "ExecuteTime": {
     "end_time": "2023-08-07T03:45:58.795966Z",
     "start_time": "2023-08-07T03:45:58.785962Z"
    }
   },
   "outputs": [
    {
     "name": "stdout",
     "output_type": "stream",
     "text": [
      "[{'book_name': '小王子', 'authors': '圣埃克苏佩里', 'publisher': '人民文学出版社', 'pub_time': '2003-8'}, {'book_name': '局外人', 'authors': '阿尔贝·加缪', 'publisher': '上海译文出版社', 'pub_time': '2010-8'}, {'book_name': '人类简史 : 从动物到上帝', 'authors': '尤瓦尔·赫拉利', 'publisher': '中信出版社', 'pub_time': '2014-11'}, {'book_name': '理想国', 'authors': '柏拉图', 'publisher': '商务印书馆', 'pub_time': '1986-8'}]\n",
      "4\n"
     ]
    }
   ],
   "source": [
    "dict3_list = [\n",
    "    {'book_name':'小王子', 'authors':'圣埃克苏佩里', 'publisher':'人民文学出版社', 'pub_time':'2003-8'},\n",
    "    {'book_name':'局外人', 'authors':'阿尔贝·加缪', 'publisher':'上海译文出版社', 'pub_time':'2010-8'},\n",
    "    {'book_name':'人类简史 : 从动物到上帝', 'authors':'尤瓦尔·赫拉利', 'publisher':'中信出版社', 'pub_time':'2014-11'},\n",
    "    {'book_name':'理想国', 'authors':'柏拉图', 'publisher':'商务印书馆', 'pub_time':'1986-8'}\n",
    "]\n",
    "print(dict3_list)\n",
    "print(len(dict3_list))"
   ]
  },
  {
   "cell_type": "code",
   "execution_count": 72,
   "id": "b10c21d7",
   "metadata": {
    "ExecuteTime": {
     "end_time": "2023-08-08T17:51:49.404053Z",
     "start_time": "2023-08-08T17:51:49.394458Z"
    }
   },
   "outputs": [
    {
     "data": {
      "text/plain": [
       "38"
      ]
     },
     "execution_count": 72,
     "metadata": {},
     "output_type": "execute_result"
    }
   ],
   "source": [
    "import csv\n",
    "\n",
    "# 打开文件\n",
    "file3 = open(file='output/csv_sample.csv',mode='a+',encoding='utf-8',newline='')\n",
    "# 文件名为csv_sample.csv，模式为a+，如果已有文件，在末尾追加，如果没，则生成新文件\n",
    "# 编码为utf-8，需要区分换行符\n",
    "\n",
    "# 设置标题行fieldnames\n",
    "fieldnames = ['book_name', 'authors', 'publisher', 'pub_time']\n",
    "# 要求以字典的形式写入数据，fieldnames注明字典中键的名称，也就是书名、作者这些标题名\n",
    "writer = csv.DictWriter(file3, fieldnames=fieldnames)\n",
    "# 将fieldnames设置的标题key写入首行\n",
    "writer.writeheader()"
   ]
  },
  {
   "cell_type": "code",
   "execution_count": 73,
   "id": "de2bc1cf",
   "metadata": {
    "ExecuteTime": {
     "end_time": "2023-08-07T03:47:42.606341Z",
     "start_time": "2023-08-07T03:47:42.591349Z"
    },
    "code_folding": []
   },
   "outputs": [],
   "source": [
    "# 循环写入字典列表\n",
    "for dict3 in dict3_list:\n",
    "    writer.writerow(dict3)    # 写入一行\n",
    "\n",
    "file3.close()   # 关闭文件"
   ]
  },
  {
   "cell_type": "markdown",
   "id": "a0260ce9",
   "metadata": {},
   "source": [
    "# 查看帮助文档：help或?"
   ]
  },
  {
   "cell_type": "code",
   "execution_count": 74,
   "id": "181088f3",
   "metadata": {
    "ExecuteTime": {
     "end_time": "2023-08-08T17:53:34.318621Z",
     "start_time": "2023-08-08T17:53:34.164705Z"
    }
   },
   "outputs": [],
   "source": [
    "import requests\n",
    "# 显示在新的窗口\n",
    "?requests"
   ]
  },
  {
   "cell_type": "code",
   "execution_count": 75,
   "id": "df63553f",
   "metadata": {
    "ExecuteTime": {
     "end_time": "2023-08-07T03:48:07.464857Z",
     "start_time": "2023-08-07T03:48:07.448898Z"
    }
   },
   "outputs": [
    {
     "name": "stdout",
     "output_type": "stream",
     "text": [
      "Help on package requests:\n",
      "\n",
      "NAME\n",
      "    requests\n",
      "\n",
      "DESCRIPTION\n",
      "    Requests HTTP Library\n",
      "    ~~~~~~~~~~~~~~~~~~~~~\n",
      "    \n",
      "    Requests is an HTTP library, written in Python, for human beings.\n",
      "    Basic GET usage:\n",
      "    \n",
      "       >>> import requests\n",
      "       >>> r = requests.get('https://www.python.org')\n",
      "       >>> r.status_code\n",
      "       200\n",
      "       >>> b'Python is a programming language' in r.content\n",
      "       True\n",
      "    \n",
      "    ... or POST:\n",
      "    \n",
      "       >>> payload = dict(key1='value1', key2='value2')\n",
      "       >>> r = requests.post('https://httpbin.org/post', data=payload)\n",
      "       >>> print(r.text)\n",
      "       {\n",
      "         ...\n",
      "         \"form\": {\n",
      "           \"key1\": \"value1\",\n",
      "           \"key2\": \"value2\"\n",
      "         },\n",
      "         ...\n",
      "       }\n",
      "    \n",
      "    The other HTTP methods are supported - see `requests.api`. Full documentation\n",
      "    is at <https://requests.readthedocs.io>.\n",
      "    \n",
      "    :copyright: (c) 2017 by Kenneth Reitz.\n",
      "    :license: Apache 2.0, see LICENSE for more details.\n",
      "\n",
      "PACKAGE CONTENTS\n",
      "    __version__\n",
      "    _internal_utils\n",
      "    adapters\n",
      "    api\n",
      "    auth\n",
      "    certs\n",
      "    compat\n",
      "    cookies\n",
      "    exceptions\n",
      "    help\n",
      "    hooks\n",
      "    models\n",
      "    packages\n",
      "    sessions\n",
      "    status_codes\n",
      "    structures\n",
      "    utils\n",
      "\n",
      "FUNCTIONS\n",
      "    check_compatibility(urllib3_version, chardet_version, charset_normalizer_version)\n",
      "\n",
      "DATA\n",
      "    __author_email__ = 'me@kennethreitz.org'\n",
      "    __build__ = 141568\n",
      "    __cake__ = '✨ 🍰 ✨'\n",
      "    __copyright__ = 'Copyright Kenneth Reitz'\n",
      "    __description__ = 'Python HTTP for Humans.'\n",
      "    __license__ = 'Apache 2.0'\n",
      "    __title__ = 'requests'\n",
      "    __url__ = 'https://requests.readthedocs.io'\n",
      "    chardet_version = '4.0.0'\n",
      "    charset_normalizer_version = '2.0.4'\n",
      "    codes = <lookup 'status_codes'>\n",
      "\n",
      "VERSION\n",
      "    2.29.0\n",
      "\n",
      "AUTHOR\n",
      "    Kenneth Reitz\n",
      "\n",
      "FILE\n",
      "    d:\\anaconda\\lib\\site-packages\\requests\\__init__.py\n",
      "\n",
      "\n"
     ]
    }
   ],
   "source": [
    "help(requests) # 显示在jupyter notebook的界面中，作为output"
   ]
  },
  {
   "cell_type": "markdown",
   "id": "b94cbf6b",
   "metadata": {},
   "source": [
    "<center><big><b>END</b></big></center>"
   ]
  }
 ],
 "metadata": {
  "hide_input": false,
  "kernelspec": {
   "display_name": "Python 3 (ipykernel)",
   "language": "python",
   "name": "python3"
  },
  "language_info": {
   "codemirror_mode": {
    "name": "ipython",
    "version": 3
   },
   "file_extension": ".py",
   "mimetype": "text/x-python",
   "name": "python",
   "nbconvert_exporter": "python",
   "pygments_lexer": "ipython3",
   "version": "3.11.3"
  },
  "toc": {
   "base_numbering": 1,
   "nav_menu": {},
   "number_sections": true,
   "sideBar": true,
   "skip_h1_title": false,
   "title_cell": "Table of Contents",
   "title_sidebar": "Contents",
   "toc_cell": false,
   "toc_position": {
    "height": "calc(100% - 180px)",
    "left": "10px",
    "top": "150px",
    "width": "271px"
   },
   "toc_section_display": true,
   "toc_window_display": true
  },
  "varInspector": {
   "cols": {
    "lenName": 16,
    "lenType": 16,
    "lenVar": 40
   },
   "kernels_config": {
    "python": {
     "delete_cmd_postfix": "",
     "delete_cmd_prefix": "del ",
     "library": "var_list.py",
     "varRefreshCmd": "print(var_dic_list())"
    },
    "r": {
     "delete_cmd_postfix": ") ",
     "delete_cmd_prefix": "rm(",
     "library": "var_list.r",
     "varRefreshCmd": "cat(var_dic_list()) "
    }
   },
   "types_to_exclude": [
    "module",
    "function",
    "builtin_function_or_method",
    "instance",
    "_Feature"
   ],
   "window_display": false
  }
 },
 "nbformat": 4,
 "nbformat_minor": 5
}
